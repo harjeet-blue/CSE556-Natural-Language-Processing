{
  "cells": [
    {
      "cell_type": "markdown",
      "source": [
        "## Installing Sentence Transsformer and other models/frameworks"
      ],
      "metadata": {
        "id": "PpcoqA-3l2g9"
      },
      "id": "PpcoqA-3l2g9"
    },
    {
      "cell_type": "code",
      "source": [
        "!pip install sentence_transformers\n",
        "\n",
        "# Kindly add all your installations and versions if any in this cell."
      ],
      "metadata": {
        "id": "0tw0xe31hT59",
        "colab": {
          "base_uri": "https://localhost:8080/"
        },
        "outputId": "9fa9dcac-cffe-4074-e79c-2d80fc62d058"
      },
      "id": "0tw0xe31hT59",
      "execution_count": null,
      "outputs": [
        {
          "output_type": "stream",
          "name": "stdout",
          "text": [
            "Looking in indexes: https://pypi.org/simple, https://us-python.pkg.dev/colab-wheels/public/simple/\n",
            "Collecting sentence_transformers\n",
            "  Downloading sentence-transformers-2.2.2.tar.gz (85 kB)\n",
            "\u001b[K     |████████████████████████████████| 85 kB 1.7 MB/s \n",
            "\u001b[?25hCollecting transformers<5.0.0,>=4.6.0\n",
            "  Downloading transformers-4.24.0-py3-none-any.whl (5.5 MB)\n",
            "\u001b[K     |████████████████████████████████| 5.5 MB 37.8 MB/s \n",
            "\u001b[?25hRequirement already satisfied: tqdm in /usr/local/lib/python3.7/dist-packages (from sentence_transformers) (4.64.1)\n",
            "Requirement already satisfied: torch>=1.6.0 in /usr/local/lib/python3.7/dist-packages (from sentence_transformers) (1.12.1+cu113)\n",
            "Requirement already satisfied: torchvision in /usr/local/lib/python3.7/dist-packages (from sentence_transformers) (0.13.1+cu113)\n",
            "Requirement already satisfied: numpy in /usr/local/lib/python3.7/dist-packages (from sentence_transformers) (1.21.6)\n",
            "Requirement already satisfied: scikit-learn in /usr/local/lib/python3.7/dist-packages (from sentence_transformers) (1.0.2)\n",
            "Requirement already satisfied: scipy in /usr/local/lib/python3.7/dist-packages (from sentence_transformers) (1.7.3)\n",
            "Requirement already satisfied: nltk in /usr/local/lib/python3.7/dist-packages (from sentence_transformers) (3.7)\n",
            "Collecting sentencepiece\n",
            "  Downloading sentencepiece-0.1.97-cp37-cp37m-manylinux_2_17_x86_64.manylinux2014_x86_64.whl (1.3 MB)\n",
            "\u001b[K     |████████████████████████████████| 1.3 MB 45.3 MB/s \n",
            "\u001b[?25hCollecting huggingface-hub>=0.4.0\n",
            "  Downloading huggingface_hub-0.11.1-py3-none-any.whl (182 kB)\n",
            "\u001b[K     |████████████████████████████████| 182 kB 47.1 MB/s \n",
            "\u001b[?25hRequirement already satisfied: typing-extensions>=3.7.4.3 in /usr/local/lib/python3.7/dist-packages (from huggingface-hub>=0.4.0->sentence_transformers) (4.1.1)\n",
            "Requirement already satisfied: filelock in /usr/local/lib/python3.7/dist-packages (from huggingface-hub>=0.4.0->sentence_transformers) (3.8.0)\n",
            "Requirement already satisfied: packaging>=20.9 in /usr/local/lib/python3.7/dist-packages (from huggingface-hub>=0.4.0->sentence_transformers) (21.3)\n",
            "Requirement already satisfied: pyyaml>=5.1 in /usr/local/lib/python3.7/dist-packages (from huggingface-hub>=0.4.0->sentence_transformers) (6.0)\n",
            "Requirement already satisfied: requests in /usr/local/lib/python3.7/dist-packages (from huggingface-hub>=0.4.0->sentence_transformers) (2.23.0)\n",
            "Requirement already satisfied: importlib-metadata in /usr/local/lib/python3.7/dist-packages (from huggingface-hub>=0.4.0->sentence_transformers) (4.13.0)\n",
            "Requirement already satisfied: pyparsing!=3.0.5,>=2.0.2 in /usr/local/lib/python3.7/dist-packages (from packaging>=20.9->huggingface-hub>=0.4.0->sentence_transformers) (3.0.9)\n",
            "Requirement already satisfied: regex!=2019.12.17 in /usr/local/lib/python3.7/dist-packages (from transformers<5.0.0,>=4.6.0->sentence_transformers) (2022.6.2)\n",
            "Collecting tokenizers!=0.11.3,<0.14,>=0.11.1\n",
            "  Downloading tokenizers-0.13.2-cp37-cp37m-manylinux_2_17_x86_64.manylinux2014_x86_64.whl (7.6 MB)\n",
            "\u001b[K     |████████████████████████████████| 7.6 MB 48.8 MB/s \n",
            "\u001b[?25hRequirement already satisfied: zipp>=0.5 in /usr/local/lib/python3.7/dist-packages (from importlib-metadata->huggingface-hub>=0.4.0->sentence_transformers) (3.10.0)\n",
            "Requirement already satisfied: click in /usr/local/lib/python3.7/dist-packages (from nltk->sentence_transformers) (7.1.2)\n",
            "Requirement already satisfied: joblib in /usr/local/lib/python3.7/dist-packages (from nltk->sentence_transformers) (1.2.0)\n",
            "Requirement already satisfied: urllib3!=1.25.0,!=1.25.1,<1.26,>=1.21.1 in /usr/local/lib/python3.7/dist-packages (from requests->huggingface-hub>=0.4.0->sentence_transformers) (1.24.3)\n",
            "Requirement already satisfied: chardet<4,>=3.0.2 in /usr/local/lib/python3.7/dist-packages (from requests->huggingface-hub>=0.4.0->sentence_transformers) (3.0.4)\n",
            "Requirement already satisfied: idna<3,>=2.5 in /usr/local/lib/python3.7/dist-packages (from requests->huggingface-hub>=0.4.0->sentence_transformers) (2.10)\n",
            "Requirement already satisfied: certifi>=2017.4.17 in /usr/local/lib/python3.7/dist-packages (from requests->huggingface-hub>=0.4.0->sentence_transformers) (2022.9.24)\n",
            "Requirement already satisfied: threadpoolctl>=2.0.0 in /usr/local/lib/python3.7/dist-packages (from scikit-learn->sentence_transformers) (3.1.0)\n",
            "Requirement already satisfied: pillow!=8.3.*,>=5.3.0 in /usr/local/lib/python3.7/dist-packages (from torchvision->sentence_transformers) (7.1.2)\n",
            "Building wheels for collected packages: sentence-transformers\n",
            "  Building wheel for sentence-transformers (setup.py) ... \u001b[?25l\u001b[?25hdone\n",
            "  Created wheel for sentence-transformers: filename=sentence_transformers-2.2.2-py3-none-any.whl size=125938 sha256=2bcbde524d351507596cbaf5d8f2e15393f5013812471dd93c5f5ee577b5a471\n",
            "  Stored in directory: /root/.cache/pip/wheels/bf/06/fb/d59c1e5bd1dac7f6cf61ec0036cc3a10ab8fecaa6b2c3d3ee9\n",
            "Successfully built sentence-transformers\n",
            "Installing collected packages: tokenizers, huggingface-hub, transformers, sentencepiece, sentence-transformers\n",
            "Successfully installed huggingface-hub-0.11.1 sentence-transformers-2.2.2 sentencepiece-0.1.97 tokenizers-0.13.2 transformers-4.24.0\n"
          ]
        }
      ]
    },
    {
      "cell_type": "markdown",
      "source": [
        "## Importing necessary libraries. \n",
        "In the final version all imports should be stricly enlisted here."
      ],
      "metadata": {
        "id": "WWWTQtXDl-t8"
      },
      "id": "WWWTQtXDl-t8"
    },
    {
      "cell_type": "code",
      "execution_count": null,
      "id": "e951f9be",
      "metadata": {
        "id": "e951f9be"
      },
      "outputs": [],
      "source": [
        "import pandas as pd\n",
        "import numpy as np\n",
        "import spacy\n",
        "from scipy import stats\n",
        "from sklearn import linear_model\n",
        "import csv\n",
        "from sentence_transformers import SentenceTransformer, losses, models, util\n",
        "from sentence_transformers.evaluation import EmbeddingSimilarityEvaluator\n",
        "from sentence_transformers.readers import InputExample\n",
        "from gensim.models import Word2Vec\n",
        "import torch \n",
        "from torch.utils.data import DataLoader\n",
        "import multiprocessing\n",
        "import gensim\n",
        "all_stopwords = gensim.parsing.preprocessing.STOPWORDS\n",
        "from gensim.parsing.preprocessing import remove_stopwords\n",
        "import gensim.downloader\n",
        "from sklearn import svm\n",
        "from sklearn.linear_model import TweedieRegressor\n",
        "from sklearn.ensemble import RandomForestRegressor\n",
        "from sentence_transformers import SentenceTransformer\n",
        "from sentence_transformers import evaluation\n",
        "from sklearn.metrics.pairwise import cosine_similarity\n",
        "from sentence_transformers import InputExample\n"
      ]
    },
    {
      "cell_type": "markdown",
      "source": [
        "## Load dataset: 7 marks\n",
        "1 Download and unzip the dataset from this link http://ixa2.si.ehu.es/stswiki/images/4/48/Stsbenchmark.tar.gz  **1 mark**\n",
        "\n",
        "2 Complete the code in `read_sts_csv()`. **4.5 marks**\n",
        "\n",
        "3 Create 3 dataframes one each for train, test and val and print their final shapes. **1.5 marks**"
      ],
      "metadata": {
        "id": "H5Ch9I58mMGe"
      },
      "id": "H5Ch9I58mMGe"
    },
    {
      "cell_type": "code",
      "source": [
        "from google.colab import drive\n",
        "drive.mount('/content/drive')"
      ],
      "metadata": {
        "colab": {
          "base_uri": "https://localhost:8080/"
        },
        "id": "Niv0F0roEzV4",
        "outputId": "3bd36ec6-e4b4-4681-835a-571761358ddd"
      },
      "id": "Niv0F0roEzV4",
      "execution_count": null,
      "outputs": [
        {
          "output_type": "stream",
          "name": "stdout",
          "text": [
            "Drive already mounted at /content/drive; to attempt to forcibly remount, call drive.mount(\"/content/drive\", force_remount=True).\n"
          ]
        }
      ]
    },
    {
      "cell_type": "code",
      "source": [
        "!tar -zxvf /content/drive/MyDrive/Stsbenchmark.tar.gz -C /content/drive/MyDrive/nlp_unzip/stsbenchmark/"
      ],
      "metadata": {
        "colab": {
          "base_uri": "https://localhost:8080/"
        },
        "id": "7NVLa2JPRzC3",
        "outputId": "5de43964-4f50-45a6-c030-06770becdf37"
      },
      "id": "7NVLa2JPRzC3",
      "execution_count": null,
      "outputs": [
        {
          "output_type": "stream",
          "name": "stdout",
          "text": [
            "stsbenchmark/\n",
            "stsbenchmark/readme.txt\n",
            "stsbenchmark/sts-test.csv\n",
            "stsbenchmark/correlation.pl\n",
            "stsbenchmark/LICENSE.txt\n",
            "stsbenchmark/sts-dev.csv\n",
            "stsbenchmark/sts-train.csv\n"
          ]
        }
      ]
    },
    {
      "cell_type": "code",
      "source": [
        "INPUT_PATH = '/content/drive/MyDrive/nlp_unzip/stsbenchmark/'"
      ],
      "metadata": {
        "id": "l9KpE23tHj6j"
      },
      "id": "l9KpE23tHj6j",
      "execution_count": null,
      "outputs": []
    },
    {
      "cell_type": "code",
      "source": [
        "def read_sts_csv(dataset_type=\"train\", columns=['source', 'type', 'year', 'id', 'score', 'sent_a', 'sent_b']):\n",
        "  path = INPUT_PATH + \"sts-\"+ dataset_type + \".csv\"\n",
        "  \"\"\"\n",
        "  Take the input path and return the dataframe\n",
        "  \"\"\"\n",
        "  df=pd.read_csv(path,sep='\\t',quoting=csv.QUOTE_NONE,names=columns)\n",
        "  \n",
        "  return df\n",
        "\n",
        "df_train = read_sts_csv(\"train\") # create the train, dev and test dataframes\n",
        "df_dev = read_sts_csv(\"dev\")\n",
        "df_test = read_sts_csv(\"test\")\n"
      ],
      "metadata": {
        "id": "2TMR0Z0DlfFf"
      },
      "id": "2TMR0Z0DlfFf",
      "execution_count": null,
      "outputs": []
    },
    {
      "cell_type": "markdown",
      "source": [
        "## Hyperparameters: 5 Marks\n",
        "Update this cell with you choosen parameters except, NUM_EPOCHS"
      ],
      "metadata": {
        "id": "gO2ZkIwDmo4s"
      },
      "id": "gO2ZkIwDmo4s"
    },
    {
      "cell_type": "code",
      "source": [
        "NON_CONEXTUAL_MODEL_TYPE = \"Word2Vec\"\n",
        "CONEXTUAL_MODEL_TYPE = \"all-mpnet-base-v2\"\n",
        "HUGGING_FACE_SENTENCE_TRANSFORMER_MODEL = 'distilroberta-base' # USE THE HUGGAING FACE VERSION OF SENTENCE_TRANSFORMER_TYPE\n",
        "INPUT_PATH = '/content/drive/MyDrive/nlp_unzip/stsbenchmark/'\n",
        "BATCH_SIZE = 200\n",
        "OUT_DIM_DENSE = 50\n",
        "NUM_EPOCHS = 2 ## THIS IS FIXED DO NOT CHANGE\n",
        "\n",
        "# You are free to add your own hyperparameters as well."
      ],
      "metadata": {
        "id": "4QurhOG7E0Z-"
      },
      "id": "4QurhOG7E0Z-",
      "execution_count": null,
      "outputs": []
    },
    {
      "cell_type": "markdown",
      "source": [
        "## CONFIGURATION 1: Non-contextual Embeddings + ML Regression: 8 marks\n",
        "1 Load the non-contextual embedding model in variable `non_cont_model1`. **1 marks**\n",
        "\n",
        "2 Get feature for the sentences using the LM model loaded before. Add the code in the `get_feature_model1()` **2 marks**\n",
        "\n",
        "2 Using features as X and score as Y, train a ML based regression model (`model1`). You are free to choose any sklearn based regression method, and its hyperparameters. **3.5 marks**\n",
        "\n",
        "3 Print the correlation scores on the dev and test set predictions using trained `model1`. **1.5 mark**\n",
        "\n"
      ],
      "metadata": {
        "id": "KgpbPlH9nXDy"
      },
      "id": "KgpbPlH9nXDy"
    },
    {
      "cell_type": "code",
      "source": [
        "df_train=df_train.sample(frac=1)"
      ],
      "metadata": {
        "id": "ajh372TT5aOT"
      },
      "id": "ajh372TT5aOT",
      "execution_count": null,
      "outputs": []
    },
    {
      "cell_type": "code",
      "source": [
        "glove_vectors = gensim.downloader.load('word2vec-google-news-300')"
      ],
      "metadata": {
        "colab": {
          "base_uri": "https://localhost:8080/"
        },
        "id": "8CcDF5FCUpx-",
        "outputId": "17775c81-cb32-44ee-d6b9-ee4963ba52fe"
      },
      "id": "8CcDF5FCUpx-",
      "execution_count": null,
      "outputs": [
        {
          "output_type": "stream",
          "name": "stdout",
          "text": [
            "[==================================================] 100.0% 1662.8/1662.8MB downloaded\n"
          ]
        }
      ]
    },
    {
      "cell_type": "code",
      "source": [
        "vectors_size=glove_vectors.vector_size"
      ],
      "metadata": {
        "id": "ZBqt1EfuU0Sd"
      },
      "id": "ZBqt1EfuU0Sd",
      "execution_count": null,
      "outputs": []
    },
    {
      "cell_type": "code",
      "source": [
        "##EXPERIMENTING:\n",
        "sent_a_list=df_train['sent_a'].tolist()\n",
        "cores = multiprocessing.cpu_count()\n",
        "l=[]\n",
        "for i in sent_a_list:\n",
        "  i=i.lower()\n",
        "  # print(i,type(i))\n",
        "  i=remove_stopwords(i)\n",
        "  # print(i)\n",
        "  l.append(i.split(\" \"))"
      ],
      "metadata": {
        "id": "l3WaZiB26NDU"
      },
      "id": "l3WaZiB26NDU",
      "execution_count": null,
      "outputs": []
    },
    {
      "cell_type": "code",
      "source": [
        "model = Word2Vec(size=100, window=2, min_count=1,sample=6e-5, alpha=0.03,min_alpha=0.0007,negative=20,workers=cores-1)\n",
        "model.build_vocab(l, progress_per=10000)\n",
        "model.train(l, total_examples=model.corpus_count, epochs=2, report_delay=1)"
      ],
      "metadata": {
        "colab": {
          "base_uri": "https://localhost:8080/"
        },
        "id": "dIQJyA5J91S3",
        "outputId": "83f81246-9cf9-4536-d85a-dd02f97af6cc"
      },
      "id": "dIQJyA5J91S3",
      "execution_count": null,
      "outputs": [
        {
          "output_type": "stream",
          "name": "stderr",
          "text": [
            "WARNING:gensim.models.base_any2vec:under 10 jobs per worker: consider setting a smaller `batch_words' for smoother alpha decay\n"
          ]
        },
        {
          "output_type": "execute_result",
          "data": {
            "text/plain": [
              "(50848, 71598)"
            ]
          },
          "metadata": {},
          "execution_count": 117
        }
      ]
    },
    {
      "cell_type": "code",
      "source": [
        "model.wv.vectors.shape"
      ],
      "metadata": {
        "colab": {
          "base_uri": "https://localhost:8080/"
        },
        "id": "trxLhNX2CHwB",
        "outputId": "33683c2d-5fb0-45fb-a59c-41dc59b2fced"
      },
      "id": "trxLhNX2CHwB",
      "execution_count": null,
      "outputs": [
        {
          "output_type": "execute_result",
          "data": {
            "text/plain": [
              "(11968, 100)"
            ]
          },
          "metadata": {},
          "execution_count": 118
        }
      ]
    },
    {
      "cell_type": "code",
      "source": [
        "vector = model.wv['woman']  # get numpy vector of a word\n",
        "sims = model.wv.most_similar(positive=[\"woman\"])"
      ],
      "metadata": {
        "id": "3CoH_Hud-BAf"
      },
      "id": "3CoH_Hud-BAf",
      "execution_count": null,
      "outputs": []
    },
    {
      "cell_type": "code",
      "source": [
        "vector_size=(glove_vectors.vector_size)"
      ],
      "metadata": {
        "id": "_oUhAoIkVb7x"
      },
      "id": "_oUhAoIkVb7x",
      "execution_count": null,
      "outputs": []
    },
    {
      "cell_type": "code",
      "source": [
        "def get_feature_model1(data_frame):\n",
        "\n",
        "\n",
        "  sent_a_list=data_frame['sent_a'].tolist()\n",
        "  sent_b_list=data_frame['sent_b'].tolist()\n",
        "  cores = multiprocessing.cpu_count()\n",
        "  l1=[]\n",
        "  l2=[]\n",
        "  for i in range(len(sent_a_list)):\n",
        "    sent_a_list[i]=sent_a_list[i].lower()\n",
        "    sent_a_list[i]=remove_stopwords(sent_a_list[i])\n",
        "    l1.append(sent_a_list[i].split(\" \"))\n",
        "\n",
        "    sent_b_list[i]=sent_b_list[i].lower()\n",
        "    sent_b_list[i]=remove_stopwords(sent_b_list[i])\n",
        "    l2.append(sent_b_list[i].split(\" \"))\n",
        "    # print(i,type(i))\n",
        "    \n",
        "    # print(i)\n",
        "\n",
        "  # a=non_cont_model1.wv.vectors\n",
        "  sent_a_vectors=[]\n",
        "  for i in range(len(l1)):\n",
        "    s_vec = np.zeros(vector_size)\n",
        "    c=0\n",
        "    for word in l1[i]:\n",
        "      if(word in non_cont_model1.vocab):\n",
        "        v = non_cont_model1.word_vec(word)\n",
        "        s_vec += v\n",
        "        c+=1\n",
        "    if c>0:\n",
        "        s_vec /= c\n",
        "    sent_a_vectors.append(s_vec)\n",
        "\n",
        "  sent_b_vectors=[]\n",
        "  for i in range(len(l2)):\n",
        "    s_vec = np.zeros(vector_size)\n",
        "    c=0\n",
        "    for word in l2[i]:\n",
        "      if(word in non_cont_model1.vocab):\n",
        "        v = non_cont_model1.word_vec(word)\n",
        "        s_vec += v\n",
        "        c+=1\n",
        "    if c>0:\n",
        "        s_vec /= c\n",
        "    sent_b_vectors.append(s_vec)\n",
        "\n",
        "  # b=non_cont_model1.wv.vectors\n",
        "  \"\"\"\n",
        "  Input a data frame and return the embedding vectors for the each sentence column using non_cont_model1,\n",
        "  Return 2 matrices each of shape (#_samples, #size_of_word_emb).\n",
        "  \"\"\"\n",
        "  return sent_a_vectors,sent_b_vectors\n",
        "\n",
        "non_cont_model1 = glove_vectors\n",
        "\n",
        "feature_1_train, feature_2_train = get_feature_model1(df_train)\n",
        "print(len(feature_1_train))\n",
        "X_train=np.zeros(len(feature_1_train)*2*vector_size).reshape(len(feature_1_train),2*vector_size)\n",
        "for i in range(len(feature_1_train)):\n",
        "  X_train[i][:vector_size] = feature_1_train[i]\n",
        "  X_train[i][vector_size:] = feature_2_train[i]\n",
        "\n",
        "Y_train = df_train['score']\n",
        "# Initiate a regression model and train it.\n",
        "\n"
      ],
      "metadata": {
        "id": "Hr7teQO9nfRR",
        "colab": {
          "base_uri": "https://localhost:8080/"
        },
        "outputId": "5bd9764e-86db-4873-9eea-31e47c86d98c"
      },
      "id": "Hr7teQO9nfRR",
      "execution_count": null,
      "outputs": [
        {
          "output_type": "stream",
          "name": "stdout",
          "text": [
            "5749\n"
          ]
        }
      ]
    },
    {
      "cell_type": "code",
      "source": [
        "(X_train).shape"
      ],
      "metadata": {
        "colab": {
          "base_uri": "https://localhost:8080/"
        },
        "id": "y2kM2ToiL0l3",
        "outputId": "c377a919-21d0-47bd-9f67-eaa7ec16c4d1"
      },
      "id": "y2kM2ToiL0l3",
      "execution_count": null,
      "outputs": [
        {
          "output_type": "execute_result",
          "data": {
            "text/plain": [
              "(5749, 600)"
            ]
          },
          "metadata": {},
          "execution_count": 200
        }
      ]
    },
    {
      "cell_type": "code",
      "source": [
        "\n",
        "model1 = RandomForestRegressor(max_depth=5, random_state=0)\n",
        "model1.fit(X_train, Y_train)\n",
        "\n",
        "# Print spearmanr correlation on the predicted output of the dev and test sets.\n",
        "feature_1_dev, feature_2_dev = get_feature_model1(df_dev)\n",
        "X_dev=np.zeros(len(feature_1_dev)*2*vector_size).reshape(len(feature_1_dev),2*vector_size)\n",
        "for i in range(len(feature_1_dev)):\n",
        "  X_dev[i][:vector_size] = feature_1_dev[i]\n",
        "  X_dev[i][vector_size:] = feature_2_dev[i]\n",
        "Y_dev = df_dev['score']\n",
        "\n",
        "feature_1_test, feature_2_test = get_feature_model1(df_test)\n",
        "X_test=np.zeros(len(feature_1_test)*2*vector_size).reshape(len(feature_1_test),2*vector_size)\n",
        "for i in range(len(feature_1_test)):\n",
        "  X_test[i][:vector_size] = feature_1_test[i]\n",
        "  X_test[i][vector_size:] = feature_2_test[i]\n",
        "Y_test = df_test['score']\n",
        "\n",
        "\n",
        "dev_pred=model1.predict(X_dev)\n",
        "test_pred=model1.predict(X_test)"
      ],
      "metadata": {
        "id": "27xPExwrLezu"
      },
      "id": "27xPExwrLezu",
      "execution_count": null,
      "outputs": []
    },
    {
      "cell_type": "code",
      "source": [
        "dev_pred"
      ],
      "metadata": {
        "colab": {
          "base_uri": "https://localhost:8080/"
        },
        "id": "VtCyBzZTPsG2",
        "outputId": "02feb8d1-932a-4b80-9f0c-513b2aac5682"
      },
      "id": "VtCyBzZTPsG2",
      "execution_count": null,
      "outputs": [
        {
          "output_type": "execute_result",
          "data": {
            "text/plain": [
              "array([2.45220234, 2.49894326, 2.78506025, ..., 2.60383306, 2.71755452,\n",
              "       2.73592565])"
            ]
          },
          "metadata": {},
          "execution_count": 202
        }
      ]
    },
    {
      "cell_type": "code",
      "source": [
        "df_dev['score']"
      ],
      "metadata": {
        "colab": {
          "base_uri": "https://localhost:8080/"
        },
        "id": "JcXAIfD-Pvd-",
        "outputId": "86e5a076-5e59-488f-804a-f1a2703ba968"
      },
      "id": "JcXAIfD-Pvd-",
      "execution_count": null,
      "outputs": [
        {
          "output_type": "execute_result",
          "data": {
            "text/plain": [
              "0       5.00\n",
              "1       4.75\n",
              "2       5.00\n",
              "3       2.40\n",
              "4       2.75\n",
              "        ... \n",
              "1495    2.00\n",
              "1496    0.00\n",
              "1497    2.00\n",
              "1498    0.00\n",
              "1499    0.00\n",
              "Name: score, Length: 1500, dtype: float64"
            ]
          },
          "metadata": {},
          "execution_count": 203
        }
      ]
    },
    {
      "cell_type": "code",
      "source": [
        "from scipy import stats\n",
        "print(\"For dev\",stats.spearmanr(dev_pred, df_dev['score']))\n",
        "print(\"For test\",stats.spearmanr(test_pred, df_test['score']))"
      ],
      "metadata": {
        "colab": {
          "base_uri": "https://localhost:8080/"
        },
        "id": "JO79WPBEOPRY",
        "outputId": "a1ad966f-8652-42f5-8923-9da6fee94423"
      },
      "id": "JO79WPBEOPRY",
      "execution_count": null,
      "outputs": [
        {
          "output_type": "stream",
          "name": "stdout",
          "text": [
            "For dev SpearmanrResult(correlation=0.2573096978487676, pvalue=4.139305702024481e-24)\n",
            "For test SpearmanrResult(correlation=0.3301018902165999, pvalue=2.0558669974719678e-36)\n"
          ]
        }
      ]
    },
    {
      "cell_type": "markdown",
      "source": [
        "## CONFIGURATION 2: Contextual Embeddings + ML Regression: 7 marks\n",
        "1 Load the contextual embedding model in variable `non_cont_model2`. **1 marks**\n",
        "\n",
        "2 Get feature for the sentences using the LM model loaded before. Add the code in the `get_feature_model2()` **2 marks**\n",
        "\n",
        "2 Using features as X and score as Y, train a ML based regression model (`model2`). You are free to choose any sklearn based regression method, and its hyperparameters. **3.5 marks**\n",
        "\n",
        "3 Print the correlation scores on the dev and test set predictions using trained `model2`. **1.5 mark**\n",
        "\n",
        "Useful references: https://www.sbert.net/docs/usage/semantic_textual_similarity.html"
      ],
      "metadata": {
        "id": "DBzjbQ-grL8H"
      },
      "id": "DBzjbQ-grL8H"
    },
    {
      "cell_type": "code",
      "source": [
        "!pip install -U sentence-transformers"
      ],
      "metadata": {
        "id": "kuGeUnjv9n32"
      },
      "id": "kuGeUnjv9n32",
      "execution_count": null,
      "outputs": []
    },
    {
      "cell_type": "code",
      "source": [
        "model = SentenceTransformer('all-mpnet-base-v2')"
      ],
      "metadata": {
        "id": "qWdmx5qG9pZ4"
      },
      "id": "qWdmx5qG9pZ4",
      "execution_count": null,
      "outputs": []
    },
    {
      "cell_type": "code",
      "source": [
        "v_size=0"
      ],
      "metadata": {
        "id": "PuD3IQUJ_UGN"
      },
      "id": "PuD3IQUJ_UGN",
      "execution_count": null,
      "outputs": []
    },
    {
      "cell_type": "code",
      "source": [
        "def get_feature_model2(data_frame):\n",
        "  sent_a_list=data_frame['sent_a'].tolist()\n",
        "  sent_b_list=data_frame['sent_b'].tolist()\n",
        "  cores = multiprocessing.cpu_count()\n",
        "  l1=[]\n",
        "  l2=[]\n",
        "  for i in range(len(sent_a_list)):\n",
        "    sent_a_list[i]=sent_a_list[i].lower()\n",
        "    sent_a_list[i]=remove_stopwords(sent_a_list[i])\n",
        "\n",
        "    sent_b_list[i]=sent_b_list[i].lower()\n",
        "    sent_b_list[i]=remove_stopwords(sent_b_list[i])\n",
        "\n",
        "    \n",
        "    a=model.encode(sent_a_list[i])\n",
        "    b=model.encode(sent_b_list[i])\n",
        "    v_size = len(a)\n",
        "    l1.append(a)\n",
        "    l2.append(b)\n",
        "\n",
        "  return l1,l2\n",
        "\n",
        "non_cont_model2 = model\n",
        "\n",
        "feature_1_train, feature_2_train = get_feature_model2(df_train)\n",
        "print(len(feature_1_train))\n",
        "\n",
        "\n",
        "\n",
        "# feature_1_<dataset_type>, feature_2_<dataset_type> = get_feature_model2(data_frame)\n",
        "# X_<dataset_type>, Y_<dataset_type> = \n",
        "# Initiate a regression model and train it.\n",
        "# Print spearman correlation on the predicted output of the dev and test sets."
      ],
      "metadata": {
        "id": "GlTVNjv0sNP0"
      },
      "id": "GlTVNjv0sNP0",
      "execution_count": null,
      "outputs": []
    },
    {
      "cell_type": "code",
      "source": [
        "v_size=768"
      ],
      "metadata": {
        "id": "ciLoSWudEWxv"
      },
      "id": "ciLoSWudEWxv",
      "execution_count": null,
      "outputs": []
    },
    {
      "cell_type": "code",
      "source": [
        "X_train=np.zeros(len(feature_1_train)*2*v_size).reshape(len(feature_1_train),2*v_size)\n",
        "for i in range(len(feature_1_train)):\n",
        "  X_train[i][:v_size] = feature_1_train[i]\n",
        "  X_train[i][v_size:] = feature_2_train[i]\n",
        "\n",
        "Y_train = df_train['score']"
      ],
      "metadata": {
        "id": "QIYxuR6XEUve"
      },
      "id": "QIYxuR6XEUve",
      "execution_count": null,
      "outputs": []
    },
    {
      "cell_type": "code",
      "source": [
        "model1 = RandomForestRegressor(max_depth=5, random_state=0)\n",
        "model1.fit(X_train, Y_train)\n",
        "\n",
        "# Print spearmanr correlation on the predicted output of the dev and test sets.\n",
        "feature_1_dev, feature_2_dev = get_feature_model2(df_dev)\n",
        "X_dev=np.zeros(len(feature_1_dev)*2*v_size).reshape(len(feature_1_dev),2*v_size)\n",
        "for i in range(len(feature_1_dev)):\n",
        "  X_dev[i][:v_size] = feature_1_dev[i]\n",
        "  X_dev[i][v_size:] = feature_2_dev[i]\n",
        "Y_dev = df_dev['score']\n",
        "\n",
        "feature_1_test, feature_2_test = get_feature_model2(df_test)\n",
        "X_test=np.zeros(len(feature_1_test)*2*v_size).reshape(len(feature_1_test),2*v_size)\n",
        "for i in range(len(feature_1_test)):\n",
        "  X_test[i][:v_size] = feature_1_test[i]\n",
        "  X_test[i][v_size:] = feature_2_test[i]\n",
        "Y_test = df_test['score']\n",
        "\n",
        "\n",
        "dev_pred=model1.predict(X_dev)\n",
        "test_pred=model1.predict(X_test)"
      ],
      "metadata": {
        "id": "dEwsLBlK_q6m"
      },
      "id": "dEwsLBlK_q6m",
      "execution_count": null,
      "outputs": []
    },
    {
      "cell_type": "code",
      "source": [
        "from scipy import stats\n",
        "print(\"For dev\",stats.spearmanr(dev_pred, df_dev['score']))\n",
        "print(\"For test\",stats.spearmanr(test_pred, df_test['score']))"
      ],
      "metadata": {
        "colab": {
          "base_uri": "https://localhost:8080/"
        },
        "id": "ZF0rvixo_0k3",
        "outputId": "06527d14-5b3f-49fa-de58-316e21a729ca"
      },
      "id": "ZF0rvixo_0k3",
      "execution_count": null,
      "outputs": [
        {
          "output_type": "stream",
          "name": "stdout",
          "text": [
            "For dev SpearmanrResult(correlation=0.47640585279411596, pvalue=7.89513463579808e-86)\n",
            "For test SpearmanrResult(correlation=0.47404043351166525, pvalue=3.547460178517629e-78)\n"
          ]
        }
      ]
    },
    {
      "cell_type": "markdown",
      "source": [
        "## CONFIGURATION 3: Fine-Tune a Contextual Embeddings Model: 18 marks\n",
        "\n",
        "1 Prepare data samples to be for the DL model to consume. Add the code in the `form_data()`. **4 marks**\n",
        "\n",
        "3 Create the data loader, one each for train/dev/test data_input sample set obtained from `form_input_example()`. **1.5 marks**\n",
        "\n",
        "4 Initiate `model3` consisting of **atleast** the following 3 components - `base_LM`, a `pooling_layer` and a `dense_layer`. Use appropriate activation function in dense. **Atleast** one layer of `base_LM` should be set to trainable. **5 marks**\n",
        "\n",
        "6 Initiate the `loss`. **0.5 marks**\n",
        "\n",
        "7 Fit the `model3`. Use `NUM_EPOCHS = 2`. **MAX_NUM_EPOCHS allowed will be 3**. **2 marks** \n",
        "\n",
        "8 Complete the `get_model_predicts()` to obtain predicted scores for input sentence pairs. **3.5 marks** \n",
        "\n",
        "9 Print the correlation scores on the dev and test set predictions. **1.5 mark**\n",
        "\n",
        "Useful References: https://huggingface.co/blog/how-to-train-sentence-transformers "
      ],
      "metadata": {
        "id": "VImljTWps_GR"
      },
      "id": "VImljTWps_GR"
    },
    {
      "cell_type": "code",
      "source": [
        "from sentence_transformers import SentenceTransformer, models\n",
        "from torch import nn\n",
        "\n",
        "## Step 1: use an existing language model\n",
        "word_embedding_model = models.Transformer('distilroberta-base',do_lower_case=True,max_seq_length=50)\n",
        "\n",
        "## Step 2: use a pool function over the token embeddings\n",
        "pooling_model = models.Pooling(word_embedding_model.get_word_embedding_dimension())\n",
        "\n",
        "## Join steps 1 and 2 using the modules argument\n",
        "dense_model = models.Dense(in_features=pooling_model.get_sentence_embedding_dimension(), out_features=50, activation_function=nn.GELU())\n",
        "\n",
        "model = SentenceTransformer(modules=[word_embedding_model, pooling_model, dense_model])\n",
        "\n",
        "\n",
        "\n",
        "import torch\n",
        "from torch.utils.data import Dataset\n",
        "from torch.utils.data import DataLoader\n"
      ],
      "metadata": {
        "colab": {
          "base_uri": "https://localhost:8080/"
        },
        "id": "K7wTzkVMI2ZS",
        "outputId": "f08a87f1-3c36-4459-cefd-2e1c553f0507"
      },
      "id": "K7wTzkVMI2ZS",
      "execution_count": null,
      "outputs": [
        {
          "output_type": "stream",
          "name": "stderr",
          "text": [
            "Some weights of the model checkpoint at distilroberta-base were not used when initializing RobertaModel: ['lm_head.layer_norm.weight', 'lm_head.dense.weight', 'lm_head.bias', 'lm_head.dense.bias', 'lm_head.decoder.weight', 'lm_head.layer_norm.bias']\n",
            "- This IS expected if you are initializing RobertaModel from the checkpoint of a model trained on another task or with another architecture (e.g. initializing a BertForSequenceClassification model from a BertForPreTraining model).\n",
            "- This IS NOT expected if you are initializing RobertaModel from the checkpoint of a model that you expect to be exactly identical (initializing a BertForSequenceClassification model from a BertForSequenceClassification model).\n"
          ]
        }
      ]
    },
    {
      "cell_type": "code",
      "source": [
        "model"
      ],
      "metadata": {
        "colab": {
          "base_uri": "https://localhost:8080/"
        },
        "id": "Af4mi7r3Mi_B",
        "outputId": "7440debd-c203-4d08-88df-cc383544b942"
      },
      "id": "Af4mi7r3Mi_B",
      "execution_count": null,
      "outputs": [
        {
          "output_type": "execute_result",
          "data": {
            "text/plain": [
              "SentenceTransformer(\n",
              "  (0): Transformer({'max_seq_length': 50, 'do_lower_case': True}) with Transformer model: RobertaModel \n",
              "  (1): Pooling({'word_embedding_dimension': 768, 'pooling_mode_cls_token': False, 'pooling_mode_mean_tokens': True, 'pooling_mode_max_tokens': False, 'pooling_mode_mean_sqrt_len_tokens': False})\n",
              "  (2): Dense({'in_features': 768, 'out_features': 50, 'bias': True, 'activation_function': 'torch.nn.modules.activation.GELU'})\n",
              ")"
            ]
          },
          "metadata": {},
          "execution_count": 12
        }
      ]
    },
    {
      "cell_type": "code",
      "source": [
        "\n",
        "def form_data(data_frame):\n",
        "  train_data=[]\n",
        "  for i in range(len(data_frame)):  \n",
        "    train_data.append(InputExample(texts=[data_frame['sent_a'][i], data_frame['sent_b'][i]],label= float(data_frame['score'][i])))\n",
        "\n",
        "  # print(train_data[0])\n",
        "  dataloader = DataLoader(train_data, batch_size=200, shuffle=True)\n",
        "  return dataloader\n",
        "  \"\"\"\n",
        "  Input a data frame and return the dataloder.\n",
        "  \"\"\"\n",
        "\n",
        "def get_model_predicts(data_type, trained_model):\n",
        "  sentences1 = data_type['sent_a']\n",
        "  sentences2 = data_type['sent_b']\n",
        "  scores = data_type['score']\n",
        "  sentences1 = sentences1.tolist()\n",
        "  sentences2 = sentences2.tolist()\n",
        "  scores = scores.tolist()\n",
        "  l1=[]\n",
        "  l2=[]\n",
        "  l_cos=[]\n",
        "  for i in range(len(sentences1)):\n",
        "    l1.append(trained_model.encode(sentences1[i]))\n",
        "    l2.append(trained_model.encode(sentences2[i]))\n",
        "\n",
        "  for i in range(len(l1)):\n",
        "    l_cos.append(cosine_similarity(l1[i].reshape(1,-1),l2[i].reshape(1,-1))[0][0])\n",
        "  return l_cos,sentences1,sentences2,scores\n",
        "  \"\"\"\n",
        "  Input the dataset list and return a list of cosine similarity scores. Use the fitted final_trainable_model for obtaining encodings.\n",
        "  \"\"\"\n",
        "\n",
        "train_dl = form_data(df_train)\n",
        "dev_dl = form_data(df_dev)\n",
        "test_dl = form_data(df_test)\n",
        "\n",
        "base_model =  models.Transformer('distilroberta-base',do_lower_case=True,max_seq_length=50)\n",
        "layer_pooling = models.Pooling(word_embedding_model.get_word_embedding_dimension())\n",
        "layer_dense = models.Dense(in_features=pooling_model.get_sentence_embedding_dimension(), out_features=50, activation_function=nn.GELU())\n",
        "model3 = SentenceTransformer(modules=[base_model, layer_pooling, layer_dense])\n",
        "loss =losses.CosineSimilarityLoss(model=model)\n",
        "\n"
      ],
      "metadata": {
        "id": "0kb0xJZmZGIR",
        "colab": {
          "base_uri": "https://localhost:8080/"
        },
        "outputId": "f504cc75-b730-4cba-e463-74ddd0c9b03f"
      },
      "id": "0kb0xJZmZGIR",
      "execution_count": null,
      "outputs": [
        {
          "output_type": "stream",
          "name": "stderr",
          "text": [
            "Some weights of the model checkpoint at distilroberta-base were not used when initializing RobertaModel: ['lm_head.layer_norm.weight', 'lm_head.dense.weight', 'lm_head.bias', 'lm_head.dense.bias', 'lm_head.decoder.weight', 'lm_head.layer_norm.bias']\n",
            "- This IS expected if you are initializing RobertaModel from the checkpoint of a model trained on another task or with another architecture (e.g. initializing a BertForSequenceClassification model from a BertForPreTraining model).\n",
            "- This IS NOT expected if you are initializing RobertaModel from the checkpoint of a model that you expect to be exactly identical (initializing a BertForSequenceClassification model from a BertForSequenceClassification model).\n"
          ]
        }
      ]
    },
    {
      "cell_type": "code",
      "source": [
        "l_cos,sentences1,sentences2,scores=get_model_predicts(df_dev,model3)\n",
        "print(l_cos)\n",
        "evaluator1 = evaluation.EmbeddingSimilarityEvaluator(sentences1, sentences2, scores, write_csv=True, show_progress_bar=True)\n",
        "\n",
        "# Fit the model3.\n",
        "model3.fit(train_objectives=[(train_dl, loss)], epochs=2, warmup_steps=100)\n",
        "# Print spearman correlation on the predicted output of the dev and test sets.\n",
        "model3.evaluate(evaluator1, output_path='/content')"
      ],
      "metadata": {
        "colab": {
          "base_uri": "https://localhost:8080/",
          "height": 200,
          "referenced_widgets": [
            "a8c5b7e052024f80babacdeffadef5bd",
            "e030f53c506c41c4923f0ada169d8a68",
            "afeab6d82eeb4887a88be18b5622fe38",
            "2df4b99d5cb24c54834324320a5e031e",
            "389fee29deb446ba95c804c9f526f040",
            "1d7f235432ea403bb0a8eb97eb9ba9fa",
            "ca33f3d2664c49b490bc37f0e088ca88",
            "3e7521c2f068499e9c1f6740059b5818",
            "2830d0b183f249c0ae6544beaba61eee",
            "985c7e7ca5b84f749ab75760a85b179a",
            "c66d943d05184d1b97e2bfc5da769ae4",
            "a23d90b4ae314a2f898e1a7a59370605",
            "ed2da4e185c34c858df249f01bfacfb6",
            "4d84aaecca0d4e5fba53fe59100b1edd",
            "27e355d3f84148f2a16fe5cfe720513c",
            "2d23f0c97c5344efa89d3e50cf935a90",
            "49237c98f872429e8d200950bc8754a4",
            "fa1c5180975e48afb6a9f5735b1ad523",
            "833cad3367f84a22b31b06887119ed58",
            "3d5dc81f9c2a42ce8080dbdd6f45f795",
            "7c88cf206dec450a815f4671f0ad27ed",
            "1c41bb870f55418e888fcc43887897e3",
            "fa6d9afd7585496caf4f672bd479e5b1",
            "9ba16f47d9504e5da8584c6cb46688b6",
            "d1aab74d39934cc09eb746378b2425b0",
            "11855d3c0d924b2dbf037b387816e83c",
            "b89f1b47dc9a46d8974043189da844c6",
            "a5ce85079bf045acb00a6e2fb4e93472",
            "cd2e54a78e4d48ed85effa31babbb251",
            "92761b26f25b4fd99ff0eb75efb67686",
            "262959208ee145eba431a97fe517a77d",
            "93362e83be4142eb8c6b257620931bf5",
            "8efb6f790a7148edb122a4579050d3c8",
            "4e369758e0da4e24ae24099c7c9cc7f5",
            "a3a65ff71bac4945b220664c00808450",
            "51484cb659ee48b0b858d48444a46813",
            "6cf0cbf238724f91b4d9ef3ec729d486",
            "61977bc6a43e4a7a804e50161e7ce24c",
            "df8e5922d2224ae0881114e65c7ca67b",
            "dbf7ad10dbc64b1ebf3b9c2b96cb7341",
            "79b649cfc2214e928806e100f2c78c11",
            "822cd1cbdaca461984baf691affc70c7",
            "fb2abfd49941475b940de26a1e5c1a3e",
            "723cd2b9f2d54452a93d7dbdf09e179e"
          ]
        },
        "id": "VAnjKQ7tCY2q",
        "outputId": "810c35c7-133d-4314-9b8f-068241ac7046"
      },
      "id": "VAnjKQ7tCY2q",
      "execution_count": null,
      "outputs": [
        {
          "output_type": "stream",
          "name": "stdout",
          "text": [
            "[0.9983096, 0.99827, 0.9961907, 0.9975654, 0.9970459, 0.99817294, 0.9973494, 0.9967703, 0.996833, 0.9951213, 0.9987614, 0.99635905, 0.99644685, 0.99793863, 0.995707, 0.9934487, 0.99685884, 0.9961814, 0.9952067, 0.99717355, 0.9962623, 0.9973912, 0.99519545, 0.9940367, 0.99632514, 0.99878913, 0.9902032, 0.9962138, 0.9891845, 0.9966487, 0.9959348, 0.99302834, 0.99006075, 0.9905268, 0.99477637, 0.99739903, 0.9957982, 0.9917961, 0.9977916, 0.9938742, 0.99458903, 0.9966995, 0.98372567, 0.9980029, 0.99557316, 0.9910617, 0.9893838, 0.99328905, 0.9937318, 0.99264884, 0.9896021, 0.98735136, 0.995759, 0.9954592, 0.9923837, 0.99303323, 0.99215144, 0.99291915, 0.9941545, 0.9856769, 0.98757935, 0.9875424, 0.99211466, 0.9939214, 0.99340725, 0.989671, 0.9956325, 0.99819225, 0.99280727, 0.9903995, 0.9885752, 0.99282986, 0.9928611, 0.9938849, 0.9928977, 0.99511325, 0.99419713, 0.9944364, 0.9860021, 0.9840904, 0.9959878, 0.99040854, 0.9886656, 0.98698777, 0.997234, 0.9890407, 0.993596, 0.98984694, 0.9853083, 0.9904131, 0.99529725, 0.9955246, 0.99362904, 0.99175715, 0.98934835, 0.99342614, 0.9923356, 0.9872783, 0.9921363, 0.9947546, 0.9880942, 0.9889964, 0.99128383, 0.98344743, 0.98499125, 0.9906074, 0.9959649, 0.9909153, 0.9895741, 0.9799824, 0.97987646, 0.98535967, 0.98258597, 0.9874531, 0.99256927, 0.98101693, 0.98972917, 0.98693913, 0.9841553, 0.9896297, 0.99167246, 0.9752037, 0.9811643, 0.98320544, 0.9816597, 0.9800583, 0.9848201, 0.97899646, 0.98923177, 0.98607993, 0.98666024, 0.99558806, 0.99930733, 0.99652344, 0.9948471, 0.9948471, 0.9976402, 0.99495727, 0.9957614, 0.9955806, 0.9949325, 0.9989712, 0.9968542, 0.9971614, 0.99436206, 0.99909836, 0.9968333, 0.9937833, 0.9940367, 0.9980096, 0.9967584, 0.99463314, 0.99783134, 0.9929941, 0.9910209, 0.993215, 0.99751836, 0.99751836, 0.9951982, 0.9978021, 0.9970093, 0.9956053, 0.9945362, 0.9932166, 0.99022657, 0.9915678, 0.99820465, 0.99229836, 0.98952496, 0.995742, 0.9906326, 0.9915122, 0.9973176, 0.99486274, 0.99678814, 0.9960184, 0.9947052, 0.9964305, 0.98898894, 0.99552274, 0.9914226, 0.99476755, 0.9953745, 0.99263763, 0.99332166, 0.994208, 0.99386984, 0.9898654, 0.99246794, 0.9959556, 0.99345, 0.99370444, 0.99471325, 0.98675066, 0.9851789, 0.9888156, 0.99352396, 0.99072313, 0.9953756, 0.9833083, 0.99279976, 0.9906467, 0.99347675, 0.99146163, 0.9852584, 0.9841489, 0.985211, 0.99184096, 0.9739673, 0.9873163, 0.98875386, 0.9921341, 0.9881611, 0.9842183, 0.99294305, 0.9841453, 0.9873345, 0.98064035, 0.9931417, 0.9912486, 0.98566866, 0.991806, 0.99361676, 0.99350023, 0.9894315, 0.99131197, 0.990377, 0.99005157, 0.982134, 0.9893859, 0.98193043, 0.99018925, 0.9890509, 0.99466276, 0.9806645, 0.9791317, 0.99459106, 0.99317443, 0.9922268, 0.98295957, 0.9901201, 0.9844258, 0.9853949, 0.9818651, 0.98452276, 0.9845241, 0.97921807, 0.9891717, 0.9874444, 0.9898781, 0.99388987, 0.98073524, 0.98333526, 0.9884518, 0.99318683, 0.9949229, 0.9884865, 0.99326557, 0.9896346, 0.9832124, 0.9915958, 0.99005157, 0.9960947, 0.99576163, 0.9982453, 0.99439526, 0.9875354, 0.9913459, 0.9873963, 0.99281543, 0.9951471, 0.99868834, 0.9956764, 0.9974578, 0.9904506, 0.9883885, 0.9774469, 0.9971291, 0.98881376, 0.9874833, 0.9932146, 0.99451023, 0.9981741, 0.9974954, 0.98492473, 0.98950016, 0.989948, 0.9896132, 0.98492473, 0.99073774, 0.9956508, 0.97319907, 0.98455036, 0.9893581, 0.99638236, 0.9921105, 0.9921599, 0.99578077, 0.98263437, 0.9926996, 0.9884363, 0.99036926, 0.99614054, 0.99629587, 0.9963751, 0.9958733, 0.99806523, 0.9984608, 0.9853733, 0.9922042, 0.9885829, 0.9939065, 0.9855144, 0.9940939, 0.9929944, 0.9823732, 0.9927865, 0.9833264, 0.9948678, 0.9869269, 0.99666876, 0.9903247, 0.9905462, 0.9940906, 0.98869044, 0.9935115, 0.9950012, 0.9948857, 0.99473387, 0.9949125, 0.9923566, 0.9921214, 0.9849409, 0.9921921, 0.9914161, 0.9943295, 0.99240065, 0.9854591, 0.99551517, 0.9953435, 0.9913672, 0.99625075, 0.99046326, 0.9988233, 0.99784535, 0.9853974, 0.9921963, 0.9911254, 0.996847, 0.9920008, 0.99743634, 0.9921987, 0.99451745, 0.99613726, 0.99580616, 0.9843487, 0.9973856, 0.9918132, 0.9973774, 0.9811557, 0.98750377, 0.99834, 0.9925651, 0.98355687, 0.9957679, 0.9961304, 0.9853115, 0.9974593, 0.9966055, 0.99593705, 0.983818, 0.9897166, 0.9951046, 0.9833241, 0.99919206, 0.99719846, 0.99548954, 0.99370384, 0.997108, 0.98910034, 0.9881467, 0.98512346, 0.9958064, 0.9881374, 0.9919405, 0.9978889, 0.993103, 0.9944817, 0.98676187, 0.9987658, 0.99737054, 0.9981664, 0.9939075, 0.9957548, 0.98633206, 0.98840815, 0.9947625, 0.9977588, 0.9967196, 0.99332136, 0.9950741, 0.9882456, 0.9935726, 0.9891049, 0.99162155, 0.9928763, 0.9831365, 0.98592585, 0.9889786, 0.99434835, 0.9985068, 0.9892129, 0.9875121, 0.9874782, 0.9820818, 0.9966151, 0.99245614, 0.991732, 0.9943695, 0.9956084, 0.9910919, 0.9949188, 0.98244697, 0.9952304, 0.9964058, 0.99721795, 0.9947278, 0.9934874, 0.9869186, 0.9938989, 0.9848977, 0.9966693, 0.9803902, 0.9972841, 0.99575096, 0.9873331, 0.9847667, 0.98938465, 0.99467397, 0.9964171, 0.9931934, 0.9936193, 0.9863329, 0.98023283, 0.9948604, 0.99768144, 0.9865677, 0.99563795, 0.99671066, 0.99271333, 0.99770755, 0.98450935, 0.9966044, 0.9885988, 0.9925399, 0.99652034, 0.99102736, 0.9714467, 0.9933225, 0.994625, 0.99819183, 0.99024516, 0.99290335, 0.9879982, 0.98712486, 0.9910771, 0.9891939, 0.9920188, 0.9939526, 0.9927092, 0.9947198, 0.9946764, 0.9955691, 0.99156994, 0.9890055, 0.9946733, 0.99596894, 0.9865136, 0.99462044, 0.99813604, 0.99196196, 0.9797502, 0.98876333, 0.989495, 0.99636537, 0.98951614, 0.98275036, 0.9883463, 0.99451166, 0.9902097, 0.99623066, 0.98012275, 0.9954421, 0.9918451, 0.9915453, 0.99268097, 0.9944937, 0.9927924, 0.996124, 0.99131364, 0.97327065, 0.9904833, 0.98267436, 0.9928713, 0.9970943, 0.9884458, 0.9932511, 0.9980722, 0.99001074, 0.9979436, 0.99138504, 0.98156637, 0.99953675, 0.99845845, 0.98621416, 0.99778193, 0.98984504, 0.9979789, 0.99756026, 0.99900097, 0.9933476, 0.9839932, 0.99096435, 0.9762241, 0.99797964, 0.9991391, 0.9923282, 0.9903114, 0.9876304, 0.99213666, 0.9928005, 0.9914431, 0.9766562, 0.99082273, 0.9991129, 0.99229527, 0.99490315, 0.9985511, 0.98280233, 0.9976504, 0.9853417, 0.98620325, 0.9943207, 0.9977639, 0.9860476, 0.9880325, 0.9912362, 0.9971493, 0.9970929, 0.94483227, 0.9909211, 0.9890378, 0.99103016, 0.98406464, 0.9911101, 0.98756313, 0.9981738, 0.9903933, 0.9864154, 0.992541, 0.9948824, 0.9797417, 0.9986263, 0.98852646, 0.9945446, 0.98989964, 0.9926718, 0.98288363, 0.99007803, 0.9874035, 0.9676606, 0.99250734, 0.99582505, 0.99112064, 0.996545, 0.9896122, 0.9973692, 0.9980282, 0.97797346, 0.9938594, 0.9948905, 0.99650335, 0.9759612, 0.996886, 0.9985943, 0.9913983, 0.99800414, 0.9911807, 0.99855703, 0.98889685, 0.9874692, 0.9883257, 0.9875846, 0.98390245, 0.993382, 0.9954855, 0.9976328, 0.9903473, 0.9898317, 0.976414, 0.9836153, 0.99729234, 0.9918192, 0.990248, 0.9934843, 0.9958906, 0.9873728, 0.9958286, 0.99900997, 0.9971847, 0.9959689, 0.9973762, 0.9817035, 0.9928398, 0.99340904, 0.9820443, 0.9910207, 0.99873525, 0.9878666, 0.9856818, 0.9897733, 0.9824845, 0.99567616, 0.9975719, 0.99191624, 0.990517, 0.99121094, 0.9787897, 0.9783938, 0.98629564, 0.98796403, 0.9900026, 0.9899272, 0.97574216, 0.99044335, 0.9839481, 0.9762826, 0.9816103, 0.9732201, 0.9817405, 0.9754293, 0.9880674, 0.99037683, 0.98501337, 0.9824454, 0.99144393, 0.99251807, 0.9884946, 0.991889, 0.9870327, 0.98434234, 0.98096025, 0.9802275, 0.96152353, 0.9879685, 0.9934354, 0.9707275, 0.9789904, 0.9748709, 0.9825875, 0.98332036, 0.9910403, 0.9950616, 0.9937632, 0.9902447, 0.96433127, 0.9794568, 0.9881968, 0.98609465, 0.9885596, 0.983213, 0.9815972, 0.98088264, 0.9888504, 0.9739637, 0.9786321, 0.96901464, 0.99152523, 0.9814359, 0.9901693, 0.9888537, 0.98687613, 0.986057, 0.9734467, 0.9760664, 0.9813051, 0.9855414, 0.97689414, 0.992117, 0.9716439, 0.9784579, 0.9790537, 0.9819336, 0.9830525, 0.98791647, 0.97679853, 0.9817702, 0.98807526, 0.98912144, 0.99163437, 0.9798812, 0.9875464, 0.98364085, 0.9877944, 0.9937454, 0.9875096, 0.98481184, 0.9887014, 0.98304343, 0.99375635, 0.9904442, 0.991768, 0.992377, 0.9888381, 0.98475033, 0.9855185, 0.98849076, 0.9887315, 0.9917034, 0.9836426, 0.9870533, 0.98096293, 0.98276204, 0.9903005, 0.96337193, 0.983994, 0.9849395, 0.9647816, 0.98655105, 0.9835244, 0.9819272, 0.98191345, 0.98777676, 0.9869914, 0.9754601, 0.9791569, 0.9857843, 0.9878087, 0.97871923, 0.98491037, 0.9796178, 0.9861983, 0.98490196, 0.98236966, 0.9853232, 0.974899, 0.9671584, 0.9852148, 0.9705679, 0.9747324, 0.98748803, 0.98179895, 0.9905179, 0.9717353, 0.988022, 0.9804392, 0.9838086, 0.98631, 0.97282857, 0.977837, 0.9864711, 0.9703363, 0.98620427, 0.9813761, 0.96663964, 0.98684007, 0.98837364, 0.98819315, 0.9858238, 0.9816867, 0.9928866, 0.99410504, 0.98809963, 0.9849786, 0.9867606, 0.987387, 0.9731516, 0.98488194, 0.98766744, 0.99025345, 0.9905584, 0.98359776, 0.99367285, 0.99408877, 0.9931927, 0.9901285, 0.9875159, 0.9836038, 0.9886334, 0.9859941, 0.97248894, 0.97821593, 0.9839341, 0.9763719, 0.98029065, 0.9903616, 0.97720146, 0.9845355, 0.9824338, 0.973403, 0.9923638, 0.993444, 0.97945696, 0.9836469, 0.9899854, 0.9934532, 0.9814118, 0.99234515, 0.9847304, 0.9873767, 0.97104704, 0.98342556, 0.98469216, 0.9788406, 0.9732705, 0.982255, 0.9915686, 0.9735089, 0.9854158, 0.98060906, 0.9784408, 0.9837778, 0.9852187, 0.98883593, 0.9912076, 0.9851178, 0.9884673, 0.9916957, 0.9807397, 0.9893374, 0.9842987, 0.9839426, 0.9798892, 0.9737159, 0.98493534, 0.97681504, 0.9882165, 0.99417, 0.98480797, 0.9825479, 0.9672814, 0.9879516, 0.9874077, 0.97807527, 0.98445815, 0.9813866, 0.97446764, 0.9940419, 0.9921645, 0.98893434, 0.98361987, 0.98730046, 0.9834739, 0.99060637, 0.98204195, 0.9649279, 0.9779962, 0.9906763, 0.981275, 0.9854708, 0.9826255, 0.9762854, 0.9926179, 0.9802689, 0.9898657, 0.9902788, 0.9867953, 0.9930356, 0.98493654, 0.9882011, 0.9840602, 0.9896462, 0.9823526, 0.97623533, 0.9834855, 0.98611856, 0.97810835, 0.98510593, 0.9637925, 0.98064303, 0.97725046, 0.9739871, 0.99328876, 0.99066687, 0.9805323, 0.993279, 0.9897311, 0.9945198, 0.9799316, 0.9820047, 0.96813947, 0.9792123, 0.9912342, 0.9792185, 0.96399957, 0.97850055, 0.98718035, 0.97097576, 0.98737186, 0.98855704, 0.9903664, 0.9830495, 0.9895256, 0.97199893, 0.9808094, 0.9859079, 0.9740825, 0.98258555, 0.9902451, 0.9791896, 0.98695076, 0.98642945, 0.97418994, 0.9749108, 0.98988074, 0.9918975, 0.97951275, 0.98768705, 0.9850767, 0.98436415, 0.9690632, 0.9791869, 0.98709476, 0.98540664, 0.9916962, 0.97520167, 0.9885799, 0.98642015, 0.9870038, 0.983844, 0.9861286, 0.981022, 0.985468, 0.9801357, 0.9882205, 0.98133475, 0.9859847, 0.9809444, 0.9835737, 0.9841456, 0.9809968, 0.9979597, 0.991486, 0.990661, 0.9919931, 0.9943143, 0.995361, 0.9894263, 0.98130614, 0.983032, 0.9878873, 0.9904417, 0.9866324, 0.9804268, 0.98176295, 0.9865923, 0.9719453, 0.98626417, 0.9792852, 0.97574806, 0.98003554, 0.98839283, 0.9833938, 0.9835898, 0.9782805, 0.99101657, 0.9930409, 0.98924303, 0.9828668, 0.9796697, 0.9883308, 0.978624, 0.97552115, 0.97113156, 0.98297745, 0.98256636, 0.98564756, 0.98248094, 0.97462577, 0.9853047, 0.97795624, 0.98209, 0.9913778, 0.98261213, 0.99007034, 0.9897352, 0.9822978, 0.969418, 0.9866781, 0.97774523, 0.98685646, 0.9882575, 0.9837263, 0.9839269, 0.9856717, 0.9763166, 0.99253106, 0.9857319, 0.99169296, 0.9893908, 0.9965724, 0.9941515, 0.998489, 0.99440277, 0.9968747, 0.9939607, 0.9966937, 0.99624306, 0.99847615, 0.9931388, 0.99473065, 0.9956647, 0.99804103, 0.9954507, 0.9844362, 0.9941995, 0.995135, 0.9956264, 0.9958938, 0.9899812, 0.9916284, 0.99414766, 0.9972289, 0.9958853, 0.9954957, 0.9909247, 0.9884342, 0.996972, 0.99371153, 0.99830085, 0.9959777, 0.9971652, 0.9906615, 0.9921, 0.99854535, 0.9966282, 0.99623996, 0.9986457, 0.99475944, 0.99415565, 0.9974365, 0.992268, 0.9971349, 0.9969678, 0.99763817, 0.99587834, 0.9938105, 0.98981214, 0.9918383, 0.9963864, 0.9970086, 0.99650025, 0.9911855, 0.9928931, 0.99773204, 0.99798816, 0.9971375, 0.99235624, 0.9923814, 0.99746, 0.9937055, 0.99780303, 0.9927858, 0.997932, 0.9958685, 0.9938541, 0.995915, 0.9886846, 0.9946723, 0.99461573, 0.9949079, 0.9909762, 0.99447113, 0.995166, 0.99726117, 0.9950116, 0.9958073, 0.9940688, 0.9961662, 0.9968332, 0.9986375, 0.99683726, 0.98872876, 0.99246305, 0.99537873, 0.99668974, 0.9969984, 0.99647623, 0.9946821, 0.9965287, 0.9950314, 0.99460006, 0.9942109, 0.9963538, 0.9970245, 0.9892105, 0.9970309, 0.9902562, 0.99434084, 0.998804, 0.99377584, 0.9960342, 0.9965334, 0.994686, 0.9936679, 0.99723774, 0.9944849, 0.9991703, 0.9941555, 0.99191463, 0.9951361, 0.9991699, 0.99547887, 0.9943035, 0.99829304, 0.99128944, 0.9958726, 0.9982589, 0.9971241, 0.99384606, 0.9923153, 0.9981797, 0.9895857, 0.994891, 0.9947109, 0.9901689, 0.9939334, 0.9962278, 0.9952832, 0.9910407, 0.99771374, 0.99127054, 0.99743116, 0.99787205, 0.9946137, 0.99257153, 0.9968953, 0.99668616, 0.9899636, 0.9934878, 0.9950272, 0.9963472, 0.9891434, 0.9929643, 0.9922921, 0.9964687, 0.9960867, 0.9980025, 0.9952734, 0.9982041, 0.99857885, 0.9957897, 0.9978338, 0.9892237, 0.98832834, 0.99613476, 0.9928794, 0.9930018, 0.98821294, 0.9937255, 0.9987581, 0.99715793, 0.9944765, 0.99823225, 0.9945837, 0.993881, 0.99384326, 0.99252665, 0.9956473, 0.99537826, 0.9904981, 0.9979568, 0.9977354, 0.99645454, 0.99497, 0.99651015, 0.9968565, 0.9973075, 0.98993754, 0.9902825, 0.99267256, 0.9953521, 0.99198896, 0.99535096, 0.99504685, 0.9956808, 0.99526316, 0.99424607, 0.9934357, 0.99595934, 0.9971297, 0.9928817, 0.9951924, 0.9941463, 0.9969899, 0.9964353, 0.99245775, 0.98928064, 0.9969205, 0.9934867, 0.99472576, 0.9903672, 0.98881024, 0.9980759, 0.99779266, 0.9896075, 0.99436826, 0.9959102, 0.9984124, 0.99489284, 0.996226, 0.9941122, 0.9938429, 0.99339485, 0.99563414, 0.9971228, 0.99926287, 0.98787725, 0.9967337, 0.9908031, 0.99797183, 0.99609053, 0.98501414, 0.9901497, 0.99818563, 0.99692476, 0.9930772, 0.9953959, 0.9939817, 0.99598765, 0.9948322, 0.99804753, 0.9938945, 0.99196357, 0.99152744, 0.9981737, 0.9953351, 0.9972254, 0.9961235, 0.9983288, 0.9921779, 0.994896, 0.99487305, 0.9917964, 0.99341273, 0.997049, 0.99856573, 0.998683, 0.9950886, 0.9910498, 0.9972362, 0.99069136, 0.996256, 0.99212784, 0.9905983, 0.9967062, 0.9926947, 0.99197376, 0.992547, 0.9953851, 0.993977, 0.99210316, 0.98139906, 0.99412906, 0.9970334, 0.9934464, 0.99528545, 0.9984434, 0.9793997, 0.9960707, 0.9915099, 0.9927131, 0.99151546, 0.9978303, 0.9885447, 0.99269634, 0.99232036, 0.9950864, 0.99426645, 0.9989648, 0.9955558, 0.99477303, 0.9991644, 0.9913749, 0.9970329, 0.99152696, 0.99234957, 0.99246955, 0.9880772, 0.9932282, 0.99581826, 0.9969979, 0.99389684, 0.99442905, 0.97392833, 0.996565, 0.9959311, 0.99408776, 0.9919143, 0.9944327, 0.9961498, 0.9970229, 0.9959536, 0.9894579, 0.99146926, 0.9942422, 0.99228185, 0.99088085, 0.9933322, 0.99557817, 0.9953669, 0.9943443, 0.9988524, 0.9986155, 0.9710791, 0.9862186, 0.9861191, 0.99117994, 0.9796085, 0.99731225, 0.99350643, 0.9976631, 0.99371046, 0.98926884, 0.99242663, 0.97407717, 0.9855971, 0.9852611, 0.9957188, 0.9956639, 0.9919256, 0.993141, 0.9955044, 0.99722654, 0.9942525, 0.9973164, 0.9934452, 0.99740547, 0.99026614, 0.995757, 0.99645627, 0.9932028, 0.9814266, 0.994161, 0.99046063, 0.9900746, 0.9858569, 0.9965448, 0.9837699, 0.99773914, 0.9878551, 0.9835283, 0.99201906, 0.9913374, 0.9964955, 0.9855549, 0.99553084, 0.9846621, 0.99618864, 0.9883219, 0.9955881, 0.98951, 0.998812, 0.9941383, 0.98388135, 0.9965502, 0.99829024, 0.99459803, 0.9966073, 0.995763, 0.99678254, 0.98761237, 0.99716, 0.99097127, 0.9938258, 0.9959658, 0.9851521, 0.9951152, 0.9905978, 0.99582565, 0.9821802, 0.9941512, 0.99708563, 0.98177207, 0.9950477, 0.99399686, 0.99342626, 0.992118, 0.9744003, 0.99690944, 0.9955528, 0.98910975, 0.9937278, 0.99231595, 0.9946154, 0.9923134, 0.9913688, 0.9881575, 0.9951323, 0.9938443, 0.99587, 0.99733573, 0.99257547, 0.98277205, 0.9866023, 0.99284154, 0.9922009, 0.9781366, 0.9842584, 0.99588406, 0.9885126, 0.99597514, 0.99273986, 0.9898055, 0.9957518, 0.9806943, 0.9866328, 0.99628633, 0.97752327, 0.9931414, 0.9938471, 0.99014086, 0.9970457, 0.99488944, 0.9957639, 0.9889765, 0.9933221, 0.99716556, 0.9955054, 0.9973904, 0.98074985, 0.9881765, 0.9937178, 0.99340534, 0.9866649, 0.99468404, 0.9847946, 0.99276, 0.9894767, 0.9948973, 0.9837126, 0.9914089, 0.99138004, 0.9987076, 0.99045134, 0.9906727, 0.9917681, 0.9960952, 0.99056476, 0.98148906, 0.9760243, 0.9774463, 0.9756039, 0.9762418, 0.9761139, 0.98798555, 0.97922677, 0.98767453, 0.9944426, 0.99800324, 0.99351573, 0.98550683, 0.98927706, 0.998479, 0.98589283, 0.99226654, 0.9978405, 0.98549455, 0.97574794, 0.99999994, 0.9857661, 0.99548924, 0.99528426, 0.99314976, 0.98900026, 0.97687674, 0.9744584, 0.9991616, 0.99624455, 0.9946318, 0.99889565, 0.99742913, 0.99721134, 0.99517953, 0.98773164, 0.9962723, 0.9863016, 0.9991873, 0.9981925, 0.9970235, 0.99699473, 0.9966285, 0.99125016, 0.9943078, 0.99016887, 0.9932099, 0.9923928, 0.9887734, 0.9809771, 0.9909888]\n"
          ]
        },
        {
          "output_type": "display_data",
          "data": {
            "text/plain": [
              "Epoch:   0%|          | 0/1 [00:00<?, ?it/s]"
            ],
            "application/vnd.jupyter.widget-view+json": {
              "version_major": 2,
              "version_minor": 0,
              "model_id": "a8c5b7e052024f80babacdeffadef5bd"
            }
          },
          "metadata": {}
        },
        {
          "output_type": "display_data",
          "data": {
            "text/plain": [
              "Iteration:   0%|          | 0/29 [00:00<?, ?it/s]"
            ],
            "application/vnd.jupyter.widget-view+json": {
              "version_major": 2,
              "version_minor": 0,
              "model_id": "a23d90b4ae314a2f898e1a7a59370605"
            }
          },
          "metadata": {}
        },
        {
          "output_type": "display_data",
          "data": {
            "text/plain": [
              "Batches:   0%|          | 0/94 [00:00<?, ?it/s]"
            ],
            "application/vnd.jupyter.widget-view+json": {
              "version_major": 2,
              "version_minor": 0,
              "model_id": "fa6d9afd7585496caf4f672bd479e5b1"
            }
          },
          "metadata": {}
        },
        {
          "output_type": "display_data",
          "data": {
            "text/plain": [
              "Batches:   0%|          | 0/94 [00:00<?, ?it/s]"
            ],
            "application/vnd.jupyter.widget-view+json": {
              "version_major": 2,
              "version_minor": 0,
              "model_id": "4e369758e0da4e24ae24099c7c9cc7f5"
            }
          },
          "metadata": {}
        },
        {
          "output_type": "execute_result",
          "data": {
            "text/plain": [
              "0.6172123362947559"
            ]
          },
          "metadata": {},
          "execution_count": 14
        }
      ]
    },
    {
      "cell_type": "code",
      "source": [
        "l_cos,sentences1,sentences2,scores=get_model_predicts(df_test,model3)\n",
        "print(l_cos)\n",
        "evaluator2 = evaluation.EmbeddingSimilarityEvaluator(sentences1, sentences2, scores, write_csv=True, show_progress_bar=True)\n",
        "\n",
        "# Fit the model3.\n",
        "model3.fit(train_objectives=[(train_dl, loss)], epochs=1, warmup_steps=100, evaluator=evaluator2, evaluation_steps=500)\n",
        "# Print spearman correlation on the predicted output of the dev and test sets.\n",
        "model3.evaluate(evaluator2, output_path='/content')"
      ],
      "metadata": {
        "id": "n2eh-y1fbkcp",
        "colab": {
          "base_uri": "https://localhost:8080/",
          "height": 264,
          "referenced_widgets": [
            "00c98410a6a04ec6b07b6be9de04ee9a",
            "4318fed9f34744a6bdac9e6da22a8d40",
            "42fd2c11059743a39bdf42562199b36e",
            "1c7345cc941d45a992f8901b38d5ca01",
            "3de5cb2742b0446a85834e82bcaf2305",
            "caeb301624b348528662c1d2ee39bda5",
            "29f51c00c2e048e9b88d1570fdeefc33",
            "5d6db73cee4d401f888f1f4b3f74a743",
            "cbee1d72d44a419a8badb2974e33f056",
            "459f12d793164e0f960b4f3e9c742c20",
            "1b608da36f5f40e6b0e097ef5e2e55ec",
            "675b7f04931d4f318c098194a375a951",
            "fe8bd48aab6a4adc9e8e14384271f493",
            "2c06b4f7305e46b9bcffbae6a72ea45e",
            "10fdf7e631de4359821bb69c9db54558",
            "3bd7674c93144cf4b3310a38b53b5012",
            "9fe49ccbbaa34386841ae2d74a807ffe",
            "d6f14308373045c38fa7bb5ce69e291c",
            "f6539dc5fca74642af2dacadde463bbc",
            "b420703843894a4198e2267ab0e075f6",
            "3bb326ad8c4244229ee372bf22fe8cc7",
            "9ac79cef6a56451d9032b9be6a267499",
            "63fc31e24a58457eb39e05e507efb826",
            "d53966ada50e4464a36fdebad83d09d7",
            "2a1a32d4ee40438dae5ff1752ab84f38",
            "2ca60b957a3f499a860989ca157d571a",
            "bfa0d6d4a0594dd2879900d0cdfee9e8",
            "96fdc00126674092a61ee144da9b47cd",
            "31bd69b709db4dd988793f79185af7d9",
            "98bafbf8e2c34c9c85d8a9e63f15638d",
            "1a7ad48f37bf4b45b15e887b60a4c694",
            "e4cef64694804902b3cfd3da3aca8a7e",
            "885e375e409f4977ba3f7a38d2303ca6",
            "efc03f784bfd4815a0a3fb3e78303021",
            "ccb241d62ab144099dd68d12d6c00115",
            "7afbfa819e844a469267fb7aa05554c5",
            "0d0b391211b84519a0498215cefc0093",
            "dfe9407327294992ba4e6c6f7f6a1eb0",
            "5c37563c70cb4bb694b66b42a2f348ea",
            "e123240cd5984462aab9f49c74aa1927",
            "5288b720a67d4bc985b2a4539af44d42",
            "2f5647d841a14af7afc4b175b2f79ef8",
            "3a24792f1ffe4a60a00e5f2ebc0323db",
            "bd313850ed0d477cb9ff762686e19b8c",
            "47025b48dc414f21888ef7339b9bc96a",
            "7742a286bf3d43f08d9c72a4d6fb1b26",
            "9c95cfd24c9c499ea7a4649bbc9b6f58",
            "2c621e579ae04597975d8160dcb9f018",
            "92b8fdc1573041858e28614fbcfa21b3",
            "2e431747d64040b382483a1c2ce581f4",
            "43ff838e21464e7bbf900a17ee969eab",
            "a1212b2da7cb4a79ac4b42e6ed86b96e",
            "ef1a9b8f30584384aebd6e3f7c003449",
            "a1d5527a52ec475bbe08091cb18a4fb6",
            "9d2d15346c9b4e6685c640efa45f78e1",
            "6d9cb493595b49959078902fb8084e92",
            "2054e18dde80487ba9d79042f0bce736",
            "822b3361a8774ca2939cd38f2beae271",
            "bb2cf8f9adec4d688135130ec84535f3",
            "804e7c76e1154948afb490928ce0e572",
            "0549db1705634c0f9886f16e10b8fa85",
            "729ea7e70c2e4f77a836cd22e6814367",
            "6e6ba863236e4d1cb9558189a2b3ab09",
            "811b21b70d764ae2a893a84fc71280d7",
            "750909d934e34632995859da8bbf33ae",
            "2c288da82dcd450480a4816f6dae8ca0"
          ]
        },
        "outputId": "d64b762b-7a2a-454e-eb5f-73757c4671a1"
      },
      "id": "n2eh-y1fbkcp",
      "execution_count": null,
      "outputs": [
        {
          "output_type": "stream",
          "name": "stdout",
          "text": [
            "[0.9983134, 0.9967703, 0.9983835, 0.99802625, 0.99536043, 0.9971836, 0.99776673, 0.9985296, 0.99614066, 0.9973912, 0.9973912, 0.9971382, 0.9958131, 0.9979994, 0.9979179, 0.9973126, 0.99745864, 0.9967229, 0.99647725, 0.9956877, 0.9956837, 0.9931434, 0.9966683, 0.9971034, 0.99668515, 0.99047583, 0.99699646, 0.99631, 0.99725336, 0.993674, 0.99667317, 0.9955385, 0.9937081, 0.9948295, 0.98988414, 0.9909701, 0.9912314, 0.99717754, 0.99478257, 0.99534106, 0.99603724, 0.99505043, 0.9964466, 0.9917506, 0.9947017, 0.98736393, 0.994339, 0.9914409, 0.9897557, 0.9931162, 0.99475366, 0.9952086, 0.9929129, 0.99222, 0.99424386, 0.98773235, 0.9955975, 0.9942767, 0.9956807, 0.98913586, 0.997268, 0.98524404, 0.9937401, 0.9922388, 0.99236894, 0.9932696, 0.99327105, 0.9933225, 0.99347675, 0.9875067, 0.9910371, 0.9914363, 0.98958033, 0.99148506, 0.99212515, 0.98729485, 0.9884848, 0.9889452, 0.98694986, 0.9944316, 0.98026973, 0.98740417, 0.99067986, 0.9885795, 0.9875802, 0.9826343, 0.9929817, 0.9961312, 0.9947419, 0.9897287, 0.98479754, 0.9880915, 0.99396527, 0.99195, 0.9857748, 0.9853789, 0.9828599, 0.98880434, 0.98797035, 0.9962556, 0.9851208, 0.98568004, 0.9829976, 0.98507017, 0.99266666, 0.98838156, 0.99039704, 0.9880422, 0.9867703, 0.98868954, 0.9906862, 0.9941689, 0.9953107, 0.99497473, 0.9890004, 0.97976017, 0.99238443, 0.9870792, 0.9926399, 0.9790366, 0.98908454, 0.98938286, 0.98252124, 0.98676354, 0.99169916, 0.99932003, 0.99625653, 0.99674654, 0.99565375, 0.99582815, 0.9987119, 0.9967087, 0.99719983, 0.9977197, 0.9981713, 0.9947115, 0.9962611, 0.9981568, 0.99635905, 0.997245, 0.9960218, 0.9966672, 0.9982213, 0.99836445, 0.9969724, 0.9953776, 0.9944511, 0.9969621, 0.99705845, 0.9978867, 0.99613845, 0.99579394, 0.995029, 0.99706113, 0.9946658, 0.99696356, 0.99104816, 0.996769, 0.9985002, 0.99510944, 0.9965269, 0.99399173, 0.99182284, 0.99455464, 0.99715966, 0.9955844, 0.99557126, 0.99415696, 0.9964279, 0.99105364, 0.9956542, 0.9921218, 0.99587065, 0.9957988, 0.9936883, 0.9968097, 0.98999643, 0.9963784, 0.98547506, 0.9950654, 0.9950654, 0.9937142, 0.9939362, 0.99336046, 0.9936162, 0.98394585, 0.995162, 0.99250746, 0.99293333, 0.993216, 0.9955695, 0.9760141, 0.99760795, 0.9943866, 0.991448, 0.99379593, 0.9903193, 0.9882498, 0.9873173, 0.9946276, 0.99115354, 0.99282026, 0.98375994, 0.9912945, 0.9895042, 0.9823928, 0.9938298, 0.98983395, 0.982371, 0.9962198, 0.99147785, 0.9917915, 0.99267894, 0.98867744, 0.98639417, 0.9844891, 0.98815507, 0.9922623, 0.9875388, 0.98967886, 0.98192656, 0.9843497, 0.9849441, 0.99413544, 0.9864555, 0.9796356, 0.9909748, 0.99023837, 0.99028486, 0.99356484, 0.9858572, 0.98421794, 0.9920327, 0.9909054, 0.99351907, 0.9862778, 0.98481554, 0.9837174, 0.9909184, 0.98436266, 0.98755175, 0.9795958, 0.9947798, 0.9860798, 0.99285394, 0.986886, 0.98536754, 0.9898082, 0.9822504, 0.98167616, 0.97846806, 0.9973732, 0.9940518, 0.9915331, 0.9912709, 0.9929162, 0.9860535, 0.9960896, 0.99257296, 0.9902647, 0.9957867, 0.99535197, 0.9964691, 0.99756736, 0.99179375, 0.98093677, 0.9930566, 0.9909523, 0.99553674, 0.99861777, 0.9973532, 0.9799992, 0.973784, 0.9969868, 0.986136, 0.9986424, 0.9888954, 0.98321235, 0.9949118, 0.9927575, 0.98809683, 0.99077773, 0.99381447, 0.99639773, 0.99554104, 0.9940431, 0.99122286, 0.9942679, 0.9957584, 0.98516405, 0.99468756, 0.9946881, 0.9921299, 0.9965332, 0.9545789, 0.99155086, 0.9800602, 0.99661684, 0.989734, 0.99472654, 0.99887663, 0.99041146, 0.99592084, 0.9964731, 0.9951971, 0.995659, 0.9972267, 0.9932704, 0.9935197, 0.98075193, 0.99201256, 0.97659546, 0.9923722, 0.99197364, 0.9971963, 0.99459285, 0.98198456, 0.9931971, 0.9835029, 0.9780652, 0.9938552, 0.9947258, 0.9976539, 0.9811567, 0.9931242, 0.96897584, 0.9883368, 0.99227935, 0.99506533, 0.9943585, 0.99521667, 0.99545974, 0.99254453, 0.9966125, 0.9907002, 0.9951064, 0.9887475, 0.99703497, 0.9887164, 0.9924507, 0.99814534, 0.995936, 0.99627644, 0.9951011, 0.9924799, 0.9891203, 0.99236643, 0.9924773, 0.9890264, 0.9855681, 0.9950175, 0.99745095, 0.996155, 0.9910542, 0.99765515, 0.99316525, 0.9883337, 0.99893963, 0.9838003, 0.9964533, 0.9950805, 0.99286705, 0.9932416, 0.9950981, 0.9971213, 0.9831556, 0.992473, 0.99306136, 0.99660087, 0.99907106, 0.992613, 0.99635935, 0.9856539, 0.9957552, 0.9919943, 0.98878616, 0.98922205, 0.9862054, 0.99310416, 0.9939361, 0.9969549, 0.982129, 0.9943749, 0.97935563, 0.97249013, 0.9931226, 0.99769783, 0.9845835, 0.99504405, 0.9894332, 0.99808854, 0.9944455, 0.9805819, 0.9815858, 0.99582636, 0.99075603, 0.9855257, 0.998031, 0.9939228, 0.99306595, 0.99494314, 0.9863956, 0.9945077, 0.9954625, 0.9912598, 0.99593043, 0.98524904, 0.9897808, 0.99442285, 0.98161256, 0.9922683, 0.9938309, 0.9896202, 0.9947911, 0.9831034, 0.9925577, 0.9786218, 0.99459004, 0.9972817, 0.99117494, 0.9973784, 0.9916414, 0.99615306, 0.98883456, 0.9951446, 0.99076563, 0.9872598, 0.99808395, 0.9843065, 0.98842645, 0.98853123, 0.996112, 0.9847975, 0.99774754, 0.9929709, 0.9940102, 0.99332124, 0.99691457, 0.9945958, 0.9926376, 0.9914555, 0.99059254, 0.98896056, 0.98928946, 0.99701184, 0.98377895, 0.992965, 0.99499625, 0.9848351, 0.9936205, 0.9940635, 0.99529076, 0.9927486, 0.984468, 0.9973523, 0.9915428, 0.9816475, 0.98976934, 0.9873411, 0.98510545, 0.98625594, 0.9947865, 0.97387165, 0.99595326, 0.99445856, 0.98830485, 0.99274415, 0.9970419, 0.9985764, 0.98358136, 0.99594223, 0.9933989, 0.9970494, 0.99765855, 0.99082965, 0.99545425, 0.9938399, 0.9884057, 0.9918124, 0.99102384, 0.9960906, 0.99122113, 0.9954951, 0.98462546, 0.99753696, 0.9924913, 0.9875555, 0.99688274, 0.985137, 0.990509, 0.99536264, 0.98974764, 0.9946969, 0.9964245, 0.9889119, 0.99242043, 0.9893828, 0.99647903, 0.987729, 0.9927046, 0.99754995, 0.9949977, 0.9855829, 0.99719447, 0.9921193, 0.9943736, 0.99301076, 0.9886531, 0.99420804, 0.9898332, 0.99258626, 0.9838183, 0.9967795, 0.9946906, 0.9964908, 0.9775575, 0.99637645, 0.99156153, 0.99230933, 0.9939445, 0.9922883, 0.99223197, 0.9948342, 0.97531366, 0.9926723, 0.99104875, 0.99111503, 0.98100877, 0.9946655, 0.9909832, 0.98524284, 0.96305794, 0.98287886, 0.9712354, 0.99102575, 0.9891648, 0.9898006, 0.9905527, 0.9886274, 0.9905403, 0.9996843, 0.98002, 0.995392, 0.98620844, 0.9963599, 0.9961203, 0.99142295, 0.9904942, 0.9968965, 0.99422723, 0.99458325, 0.98933566, 0.9931521, 0.9986233, 0.9820808, 0.9887719, 0.99362844, 0.98592967, 0.99621695, 0.99253875, 0.9910708, 0.99109083, 0.9936024, 0.9888667, 0.9911258, 0.9935902, 0.99787724, 0.99444824, 0.9866284, 0.99919015, 0.9965561, 0.9803175, 0.9888801, 0.99529743, 0.99394846, 0.997513, 0.9946573, 0.99308676, 0.9949524, 0.9850043, 0.9893296, 0.99591285, 0.9926226, 0.992291, 0.9832099, 0.9877675, 0.9776275, 0.9910373, 0.9866545, 0.99741346, 0.99453783, 0.9951411, 0.9976915, 0.98870945, 0.9814755, 0.9947677, 0.9930516, 0.98038036, 0.99237496, 0.99770314, 0.98816586, 0.98883, 0.9987642, 0.9988364, 0.9941324, 0.99376935, 0.99641395, 0.9904306, 0.99812245, 0.9986466, 0.9982406, 0.9925847, 0.99476534, 0.9931687, 0.99705595, 0.98622024, 0.9950415, 0.9906551, 0.989125, 0.9974551, 0.9897681, 0.9923178, 0.9587079, 0.99800426, 0.994834, 0.9978928, 0.99309343, 0.9770255, 0.97574955, 0.9822514, 0.99222136, 0.9921683, 0.994025, 0.9931978, 0.9841689, 0.9835014, 0.9961179, 0.990608, 0.98947406, 0.99858236, 0.99047387, 0.99096614, 0.99160016, 0.9937952, 0.9928919, 0.99610347, 0.99111956, 0.99279106, 0.9941353, 0.99518883, 0.98283315, 0.99464643, 0.9919629, 0.9805527, 0.99119747, 0.99454784, 0.99118376, 0.9871129, 0.98923635, 0.9761601, 0.99695593, 0.99323905, 0.9857164, 0.98643476, 0.9959662, 0.9927756, 0.9943585, 0.974786, 0.9971944, 0.9912178, 0.99181724, 0.99876416, 0.99580264, 0.99676985, 0.9961241, 0.9926041, 0.9905489, 0.99284446, 0.98331016, 0.9830397, 0.995491, 0.9939828, 0.9938053, 0.9893931, 0.9924864, 0.991569, 0.9947359, 0.9789511, 0.99366105, 0.9975548, 0.9927735, 0.984973, 0.99790424, 0.9933183, 0.98790866, 0.9895105, 0.98580503, 0.9898628, 0.98751426, 0.99382114, 0.9879272, 0.9869436, 0.9936724, 0.99647623, 0.9926663, 0.9936743, 0.9934667, 0.9846221, 0.9951937, 0.9932669, 0.9947991, 0.9881096, 0.99133325, 0.9901719, 0.9925951, 0.99334013, 0.98834664, 0.9940814, 0.99057364, 0.9974335, 0.9971086, 0.9895147, 0.9878638, 0.9922196, 0.9950682, 0.9862623, 0.9898073, 0.99361956, 0.9931834, 0.9840764, 0.98129284, 0.9889733, 0.98315233, 0.98619616, 0.9891594, 0.9866459, 0.99219537, 0.9984589, 0.97743666, 0.99769235, 0.99530244, 0.98655045, 0.99566185, 0.99286276, 0.97971827, 0.9945616, 0.9933263, 0.98847055, 0.9903365, 0.9942656, 0.99023145, 0.9841277, 0.9883084, 0.99459034, 0.98513573, 0.99537194, 0.9927219, 0.9916817, 0.98901266, 0.99649495, 0.9972184, 0.98908204, 0.9916104, 0.9860497, 0.9932853, 0.9945132, 0.9926218, 0.9864829, 0.991529, 0.98793244, 0.97802836, 0.9932435, 0.98021567, 0.9966209, 0.9964269, 0.99532527, 0.9876189, 0.9722408, 0.99427366, 0.99092185, 0.99245256, 0.9936223, 0.99714595, 0.99387604, 0.99198395, 0.99215126, 0.99107677, 0.98967534, 0.99818623, 0.99288213, 0.9846009, 0.9955416, 0.9890721, 0.99105096, 0.9930621, 0.9928447, 0.98672485, 0.992647, 0.98782367, 0.9902338, 0.99214035, 0.98474866, 0.98752916, 0.98410183, 0.9927403, 0.99487877, 0.9872144, 0.9951241, 0.9961533, 0.98441756, 0.9892074, 0.9873009, 0.9907918, 0.99719536, 0.99567527, 0.98657805, 0.98998666, 0.9932028, 0.9968545, 0.98509306, 0.99089503, 0.9824742, 0.990323, 0.9936925, 0.9908669, 0.98928404, 0.99320877, 0.9946746, 0.99475086, 0.99757785, 0.98933196, 0.9865397, 0.98858434, 0.98936236, 0.9922998, 0.99465936, 0.99589974, 0.99152225, 0.9852545, 0.99400175, 0.99393433, 0.9944892, 0.9906609, 0.99036884, 0.99626523, 0.98968, 0.99218774, 0.98177403, 0.9868099, 0.9954403, 0.99427885, 0.9943655, 0.9971829, 0.9890628, 0.99817336, 0.9923233, 0.99175674, 0.994267, 0.9902529, 0.9832496, 0.99547136, 0.9946153, 0.99592274, 0.9838054, 0.99188757, 0.99399275, 0.9934289, 0.98629016, 0.9939884, 0.99684966, 0.99231565, 0.9879602, 0.9909057, 0.9950436, 0.99057674, 0.99787736, 0.9812883, 0.99749976, 0.9980287, 0.99318385, 0.9948734, 0.9912733, 0.9916367, 0.9969772, 0.99267, 0.9971958, 0.99645513, 0.9973955, 0.9919805, 0.9896651, 0.99517494, 0.9968033, 0.9940685, 0.99564767, 0.99810785, 0.9957955, 0.99639577, 0.9917188, 0.9937795, 0.9907148, 0.9979025, 0.9976012, 0.9932705, 0.9968433, 0.99842983, 0.9911917, 0.988049, 0.9963105, 0.9947872, 0.9963039, 0.99783045, 0.9962737, 0.994749, 0.9942694, 0.9957693, 0.9988325, 0.9919395, 0.98774594, 0.9959638, 0.99749935, 0.9941753, 0.9897592, 0.9944121, 0.9969838, 0.99684423, 0.9939619, 0.9886809, 0.99602336, 0.9877846, 0.99461466, 0.99342865, 0.9921996, 0.9945723, 0.9904783, 0.98867935, 0.9900998, 0.99712616, 0.9945473, 0.98984724, 0.99516934, 0.99832404, 0.9932395, 0.99122906, 0.98873925, 0.9943374, 0.99615586, 0.9969987, 0.9945756, 0.99457395, 0.9933881, 0.9978382, 0.9925191, 0.9933729, 0.99443936, 0.99589676, 0.9959979, 0.9947371, 0.99591684, 0.99500585, 0.9942825, 0.99491835, 0.9910547, 0.99671805, 0.9980918, 0.9938315, 0.9949808, 0.99629074, 0.9873711, 0.99667406, 0.9900755, 0.9974777, 0.9875809, 0.9971909, 0.9919255, 0.9964474, 0.9936676, 0.99407685, 0.9994215, 0.998238, 0.99784434, 0.99353176, 0.9973982, 0.98911476, 0.9956287, 0.9934037, 0.987207, 0.9892008, 0.9970297, 0.9957687, 0.99594426, 0.9987252, 0.9878493, 0.99546033, 0.9886199, 0.99494547, 0.9944224, 0.99684036, 0.9946945, 0.9887169, 0.9941796, 0.9951167, 0.99165136, 0.9940401, 0.9977756, 0.99289626, 0.9939138, 0.9970207, 0.9942148, 0.9926253, 0.99171823, 0.9966006, 0.99649376, 0.9985086, 0.9980969, 0.9964336, 0.99153453, 0.99365646, 0.9922675, 0.9994634, 0.9966972, 0.9934701, 0.9881953, 0.9930453, 0.9940137, 0.99367726, 0.9927939, 0.9847931, 0.99419194, 0.99752325, 0.9952237, 0.9932667, 0.99926007, 0.99585575, 0.9928377, 0.99902797, 0.993442, 0.99876827, 0.9956153, 0.99574983, 0.99901557, 0.993363, 0.9934644, 0.9945554, 0.9895408, 0.99690795, 0.991577, 0.99225336, 0.9951989, 0.99759084, 0.99117523, 0.9948448, 0.9979649, 0.996636, 0.9904647, 0.9946772, 0.99776006, 0.99122, 0.9952836, 0.99584067, 0.9975455, 0.9940588, 0.9940438, 0.9819291, 0.99454373, 0.99566907, 0.9912196, 0.9958336, 0.9889145, 0.98625994, 0.9965573, 0.99926114, 0.9924046, 0.9929444, 0.99490094, 0.9924715, 0.9936284, 0.99704653, 0.9949377, 0.9915046, 0.98980373, 0.99150467, 0.99825794, 0.9953859, 0.9880917, 0.9920864, 0.9948596, 0.9965175, 0.98864585, 0.9858733, 0.998739, 0.9921253, 0.99766904, 0.99850714, 0.99541265, 0.9919121, 0.9946408, 0.99560165, 0.9926286, 0.9916815, 0.9967071, 0.97941774, 0.9900726, 0.9905319, 0.9955996, 0.99514616, 0.9922991, 0.9890052, 0.9977555, 0.99483263, 0.99714077, 0.99655044, 0.99777484, 0.99403673, 0.99928164, 0.9933107, 0.9959707, 0.995109, 0.9956185, 0.98753864, 0.994938, 0.99413013, 0.9946457, 0.9970949, 0.9952264, 0.9908077, 0.9978876, 0.9942232, 0.9948574, 0.9940095, 0.99364674, 0.9924447, 0.992934, 0.99572337, 0.98391783, 0.9975264, 0.9910007, 0.98981464, 0.9929017, 0.9950358, 0.9981522, 0.99476814, 0.993485, 0.9796222, 0.9949773, 0.9866944, 0.99566716, 0.9933179, 0.995795, 0.99447656, 0.99680203, 0.9751367, 0.9788095, 0.9990806, 0.9961125, 0.9988477, 0.9943992, 0.9926985, 0.98255515, 0.9933549, 0.98178864, 0.9951804, 0.9944307, 0.9904612, 0.99223083, 0.99462956, 0.9873237, 0.98452294, 0.99179196, 0.99848086, 0.98598, 0.99678594, 0.9980476, 0.9907768, 0.99386394, 0.9919781, 0.99020463, 0.9964627, 0.9925747, 0.99768126, 0.9728223, 0.98372716, 0.9970683, 0.99456394, 0.99263793, 0.98482484, 0.9932058, 0.99948657, 0.9965984, 0.99571323, 0.9919734, 0.9965461, 0.99602777, 0.9983304, 0.9911606, 0.9887153, 0.99652326, 0.9989835, 0.9969023, 0.9925572, 0.99696684, 0.9917974, 0.99237007, 0.9926081, 0.9977726, 0.99615353, 0.98402023, 0.9988079, 0.9920009, 0.99708515, 0.99096054, 0.99240965, 0.98862934, 0.9961836, 0.9903212, 0.9979778, 0.9903021, 0.9961006, 0.9935087, 0.98293257, 0.97438914, 0.9948992, 0.99135846, 0.99801534, 0.99266446, 0.98783183, 0.9946723, 0.9891504, 0.99559504, 0.99615157, 0.99487346, 0.9979097, 0.9865209, 0.9967997, 0.99733305, 0.99673444, 0.9936044, 0.9971604, 0.98974013, 0.9908009, 0.9937271, 0.9920238, 0.9888232, 0.9927325, 0.9849366, 0.96942604, 0.9973562, 0.9982371, 0.98203975, 0.9857596, 0.9982368, 0.9939535, 0.98603386, 0.9983282, 0.9982927, 0.98878396, 0.99515104, 0.9916474, 0.9939384, 0.9947462, 0.9985919, 0.9881989, 0.9964965, 0.9940361, 0.9956848, 0.99495196, 0.99783367, 0.99528265, 0.99590266, 0.9913479, 0.9912635, 0.99500114, 0.9933838, 0.99554753, 0.98900527, 0.9877685, 0.99671793, 0.9868742, 0.9970374, 0.99183655, 0.99629456, 0.97536796, 0.9862001, 0.99265534, 0.9946079, 0.99322814, 0.9933351, 0.9911441, 0.9901222, 0.9837622, 0.98601747, 0.99334294, 0.9725843, 0.9917793, 0.9986007, 0.9948415, 0.99087065, 0.99880344, 0.9854294, 0.9843749, 0.9960225, 0.9946399, 0.9975854, 0.998585, 0.99538213, 0.99653715, 0.9928643, 0.99313927, 0.99466425, 0.98989725, 0.9862207, 0.9916797, 0.99748194, 0.9761298, 0.9900108, 0.9901469, 0.9969409, 0.99614567, 0.99570024, 0.99830365, 0.9782175, 0.9923922, 0.98649126, 0.995413, 0.99864143, 0.9981934, 0.99533916, 0.9987037, 0.9957232, 0.99338204, 0.9986594, 0.9979875, 0.99655193, 0.98153555, 0.99628663, 0.9962412, 0.98815536, 0.9914602, 0.9880568, 0.9940736, 0.9888331, 0.99452144, 0.9968499, 0.99446887, 0.9943271, 0.9803647, 0.9983043, 0.9900798, 0.9984061, 0.9979131, 0.9938039, 0.9981606, 0.99877906, 0.99794316, 0.9955354, 0.9955365, 0.99468255, 0.99474204, 0.9978149, 0.9944054, 0.9940538, 0.9905693, 0.9893473, 0.9885891, 0.9804989, 0.99845856, 0.99788284, 0.9962332, 0.9792023, 0.98576003, 0.99459714, 0.9876827, 0.99006367, 0.99227595, 0.9884733, 0.9923941, 0.9919584, 0.9858752, 0.99061394, 0.9893136]\n"
          ]
        },
        {
          "output_type": "display_data",
          "data": {
            "text/plain": [
              "Epoch:   0%|          | 0/1 [00:00<?, ?it/s]"
            ],
            "application/vnd.jupyter.widget-view+json": {
              "version_major": 2,
              "version_minor": 0,
              "model_id": "00c98410a6a04ec6b07b6be9de04ee9a"
            }
          },
          "metadata": {}
        },
        {
          "output_type": "display_data",
          "data": {
            "text/plain": [
              "Iteration:   0%|          | 0/29 [00:00<?, ?it/s]"
            ],
            "application/vnd.jupyter.widget-view+json": {
              "version_major": 2,
              "version_minor": 0,
              "model_id": "675b7f04931d4f318c098194a375a951"
            }
          },
          "metadata": {}
        },
        {
          "output_type": "display_data",
          "data": {
            "text/plain": [
              "Batches:   0%|          | 0/87 [00:00<?, ?it/s]"
            ],
            "application/vnd.jupyter.widget-view+json": {
              "version_major": 2,
              "version_minor": 0,
              "model_id": "63fc31e24a58457eb39e05e507efb826"
            }
          },
          "metadata": {}
        },
        {
          "output_type": "display_data",
          "data": {
            "text/plain": [
              "Batches:   0%|          | 0/87 [00:00<?, ?it/s]"
            ],
            "application/vnd.jupyter.widget-view+json": {
              "version_major": 2,
              "version_minor": 0,
              "model_id": "efc03f784bfd4815a0a3fb3e78303021"
            }
          },
          "metadata": {}
        },
        {
          "output_type": "display_data",
          "data": {
            "text/plain": [
              "Batches:   0%|          | 0/87 [00:00<?, ?it/s]"
            ],
            "application/vnd.jupyter.widget-view+json": {
              "version_major": 2,
              "version_minor": 0,
              "model_id": "47025b48dc414f21888ef7339b9bc96a"
            }
          },
          "metadata": {}
        },
        {
          "output_type": "display_data",
          "data": {
            "text/plain": [
              "Batches:   0%|          | 0/87 [00:00<?, ?it/s]"
            ],
            "application/vnd.jupyter.widget-view+json": {
              "version_major": 2,
              "version_minor": 0,
              "model_id": "6d9cb493595b49959078902fb8084e92"
            }
          },
          "metadata": {}
        },
        {
          "output_type": "execute_result",
          "data": {
            "text/plain": [
              "0.5221368534703411"
            ]
          },
          "metadata": {},
          "execution_count": 15
        }
      ]
    },
    {
      "cell_type": "code",
      "source": [],
      "metadata": {
        "id": "8ejUfBU9DNzo"
      },
      "id": "8ejUfBU9DNzo",
      "execution_count": null,
      "outputs": []
    }
  ],
  "metadata": {
    "kernelspec": {
      "display_name": "Python 3 (ipykernel)",
      "language": "python",
      "name": "python3"
    },
    "language_info": {
      "codemirror_mode": {
        "name": "ipython",
        "version": 3
      },
      "file_extension": ".py",
      "mimetype": "text/x-python",
      "name": "python",
      "nbconvert_exporter": "python",
      "pygments_lexer": "ipython3",
      "version": "3.9.7"
    },
    "colab": {
      "provenance": []
    },
    "widgets": {
      "application/vnd.jupyter.widget-state+json": {
        "a8c5b7e052024f80babacdeffadef5bd": {
          "model_module": "@jupyter-widgets/controls",
          "model_name": "HBoxModel",
          "model_module_version": "1.5.0",
          "state": {
            "_dom_classes": [],
            "_model_module": "@jupyter-widgets/controls",
            "_model_module_version": "1.5.0",
            "_model_name": "HBoxModel",
            "_view_count": null,
            "_view_module": "@jupyter-widgets/controls",
            "_view_module_version": "1.5.0",
            "_view_name": "HBoxView",
            "box_style": "",
            "children": [
              "IPY_MODEL_e030f53c506c41c4923f0ada169d8a68",
              "IPY_MODEL_afeab6d82eeb4887a88be18b5622fe38",
              "IPY_MODEL_2df4b99d5cb24c54834324320a5e031e"
            ],
            "layout": "IPY_MODEL_389fee29deb446ba95c804c9f526f040"
          }
        },
        "e030f53c506c41c4923f0ada169d8a68": {
          "model_module": "@jupyter-widgets/controls",
          "model_name": "HTMLModel",
          "model_module_version": "1.5.0",
          "state": {
            "_dom_classes": [],
            "_model_module": "@jupyter-widgets/controls",
            "_model_module_version": "1.5.0",
            "_model_name": "HTMLModel",
            "_view_count": null,
            "_view_module": "@jupyter-widgets/controls",
            "_view_module_version": "1.5.0",
            "_view_name": "HTMLView",
            "description": "",
            "description_tooltip": null,
            "layout": "IPY_MODEL_1d7f235432ea403bb0a8eb97eb9ba9fa",
            "placeholder": "​",
            "style": "IPY_MODEL_ca33f3d2664c49b490bc37f0e088ca88",
            "value": "Epoch: 100%"
          }
        },
        "afeab6d82eeb4887a88be18b5622fe38": {
          "model_module": "@jupyter-widgets/controls",
          "model_name": "FloatProgressModel",
          "model_module_version": "1.5.0",
          "state": {
            "_dom_classes": [],
            "_model_module": "@jupyter-widgets/controls",
            "_model_module_version": "1.5.0",
            "_model_name": "FloatProgressModel",
            "_view_count": null,
            "_view_module": "@jupyter-widgets/controls",
            "_view_module_version": "1.5.0",
            "_view_name": "ProgressView",
            "bar_style": "success",
            "description": "",
            "description_tooltip": null,
            "layout": "IPY_MODEL_3e7521c2f068499e9c1f6740059b5818",
            "max": 1,
            "min": 0,
            "orientation": "horizontal",
            "style": "IPY_MODEL_2830d0b183f249c0ae6544beaba61eee",
            "value": 1
          }
        },
        "2df4b99d5cb24c54834324320a5e031e": {
          "model_module": "@jupyter-widgets/controls",
          "model_name": "HTMLModel",
          "model_module_version": "1.5.0",
          "state": {
            "_dom_classes": [],
            "_model_module": "@jupyter-widgets/controls",
            "_model_module_version": "1.5.0",
            "_model_name": "HTMLModel",
            "_view_count": null,
            "_view_module": "@jupyter-widgets/controls",
            "_view_module_version": "1.5.0",
            "_view_name": "HTMLView",
            "description": "",
            "description_tooltip": null,
            "layout": "IPY_MODEL_985c7e7ca5b84f749ab75760a85b179a",
            "placeholder": "​",
            "style": "IPY_MODEL_c66d943d05184d1b97e2bfc5da769ae4",
            "value": " 1/1 [41:24&lt;00:00, 2484.47s/it]"
          }
        },
        "389fee29deb446ba95c804c9f526f040": {
          "model_module": "@jupyter-widgets/base",
          "model_name": "LayoutModel",
          "model_module_version": "1.2.0",
          "state": {
            "_model_module": "@jupyter-widgets/base",
            "_model_module_version": "1.2.0",
            "_model_name": "LayoutModel",
            "_view_count": null,
            "_view_module": "@jupyter-widgets/base",
            "_view_module_version": "1.2.0",
            "_view_name": "LayoutView",
            "align_content": null,
            "align_items": null,
            "align_self": null,
            "border": null,
            "bottom": null,
            "display": null,
            "flex": null,
            "flex_flow": null,
            "grid_area": null,
            "grid_auto_columns": null,
            "grid_auto_flow": null,
            "grid_auto_rows": null,
            "grid_column": null,
            "grid_gap": null,
            "grid_row": null,
            "grid_template_areas": null,
            "grid_template_columns": null,
            "grid_template_rows": null,
            "height": null,
            "justify_content": null,
            "justify_items": null,
            "left": null,
            "margin": null,
            "max_height": null,
            "max_width": null,
            "min_height": null,
            "min_width": null,
            "object_fit": null,
            "object_position": null,
            "order": null,
            "overflow": null,
            "overflow_x": null,
            "overflow_y": null,
            "padding": null,
            "right": null,
            "top": null,
            "visibility": null,
            "width": null
          }
        },
        "1d7f235432ea403bb0a8eb97eb9ba9fa": {
          "model_module": "@jupyter-widgets/base",
          "model_name": "LayoutModel",
          "model_module_version": "1.2.0",
          "state": {
            "_model_module": "@jupyter-widgets/base",
            "_model_module_version": "1.2.0",
            "_model_name": "LayoutModel",
            "_view_count": null,
            "_view_module": "@jupyter-widgets/base",
            "_view_module_version": "1.2.0",
            "_view_name": "LayoutView",
            "align_content": null,
            "align_items": null,
            "align_self": null,
            "border": null,
            "bottom": null,
            "display": null,
            "flex": null,
            "flex_flow": null,
            "grid_area": null,
            "grid_auto_columns": null,
            "grid_auto_flow": null,
            "grid_auto_rows": null,
            "grid_column": null,
            "grid_gap": null,
            "grid_row": null,
            "grid_template_areas": null,
            "grid_template_columns": null,
            "grid_template_rows": null,
            "height": null,
            "justify_content": null,
            "justify_items": null,
            "left": null,
            "margin": null,
            "max_height": null,
            "max_width": null,
            "min_height": null,
            "min_width": null,
            "object_fit": null,
            "object_position": null,
            "order": null,
            "overflow": null,
            "overflow_x": null,
            "overflow_y": null,
            "padding": null,
            "right": null,
            "top": null,
            "visibility": null,
            "width": null
          }
        },
        "ca33f3d2664c49b490bc37f0e088ca88": {
          "model_module": "@jupyter-widgets/controls",
          "model_name": "DescriptionStyleModel",
          "model_module_version": "1.5.0",
          "state": {
            "_model_module": "@jupyter-widgets/controls",
            "_model_module_version": "1.5.0",
            "_model_name": "DescriptionStyleModel",
            "_view_count": null,
            "_view_module": "@jupyter-widgets/base",
            "_view_module_version": "1.2.0",
            "_view_name": "StyleView",
            "description_width": ""
          }
        },
        "3e7521c2f068499e9c1f6740059b5818": {
          "model_module": "@jupyter-widgets/base",
          "model_name": "LayoutModel",
          "model_module_version": "1.2.0",
          "state": {
            "_model_module": "@jupyter-widgets/base",
            "_model_module_version": "1.2.0",
            "_model_name": "LayoutModel",
            "_view_count": null,
            "_view_module": "@jupyter-widgets/base",
            "_view_module_version": "1.2.0",
            "_view_name": "LayoutView",
            "align_content": null,
            "align_items": null,
            "align_self": null,
            "border": null,
            "bottom": null,
            "display": null,
            "flex": null,
            "flex_flow": null,
            "grid_area": null,
            "grid_auto_columns": null,
            "grid_auto_flow": null,
            "grid_auto_rows": null,
            "grid_column": null,
            "grid_gap": null,
            "grid_row": null,
            "grid_template_areas": null,
            "grid_template_columns": null,
            "grid_template_rows": null,
            "height": null,
            "justify_content": null,
            "justify_items": null,
            "left": null,
            "margin": null,
            "max_height": null,
            "max_width": null,
            "min_height": null,
            "min_width": null,
            "object_fit": null,
            "object_position": null,
            "order": null,
            "overflow": null,
            "overflow_x": null,
            "overflow_y": null,
            "padding": null,
            "right": null,
            "top": null,
            "visibility": null,
            "width": null
          }
        },
        "2830d0b183f249c0ae6544beaba61eee": {
          "model_module": "@jupyter-widgets/controls",
          "model_name": "ProgressStyleModel",
          "model_module_version": "1.5.0",
          "state": {
            "_model_module": "@jupyter-widgets/controls",
            "_model_module_version": "1.5.0",
            "_model_name": "ProgressStyleModel",
            "_view_count": null,
            "_view_module": "@jupyter-widgets/base",
            "_view_module_version": "1.2.0",
            "_view_name": "StyleView",
            "bar_color": null,
            "description_width": ""
          }
        },
        "985c7e7ca5b84f749ab75760a85b179a": {
          "model_module": "@jupyter-widgets/base",
          "model_name": "LayoutModel",
          "model_module_version": "1.2.0",
          "state": {
            "_model_module": "@jupyter-widgets/base",
            "_model_module_version": "1.2.0",
            "_model_name": "LayoutModel",
            "_view_count": null,
            "_view_module": "@jupyter-widgets/base",
            "_view_module_version": "1.2.0",
            "_view_name": "LayoutView",
            "align_content": null,
            "align_items": null,
            "align_self": null,
            "border": null,
            "bottom": null,
            "display": null,
            "flex": null,
            "flex_flow": null,
            "grid_area": null,
            "grid_auto_columns": null,
            "grid_auto_flow": null,
            "grid_auto_rows": null,
            "grid_column": null,
            "grid_gap": null,
            "grid_row": null,
            "grid_template_areas": null,
            "grid_template_columns": null,
            "grid_template_rows": null,
            "height": null,
            "justify_content": null,
            "justify_items": null,
            "left": null,
            "margin": null,
            "max_height": null,
            "max_width": null,
            "min_height": null,
            "min_width": null,
            "object_fit": null,
            "object_position": null,
            "order": null,
            "overflow": null,
            "overflow_x": null,
            "overflow_y": null,
            "padding": null,
            "right": null,
            "top": null,
            "visibility": null,
            "width": null
          }
        },
        "c66d943d05184d1b97e2bfc5da769ae4": {
          "model_module": "@jupyter-widgets/controls",
          "model_name": "DescriptionStyleModel",
          "model_module_version": "1.5.0",
          "state": {
            "_model_module": "@jupyter-widgets/controls",
            "_model_module_version": "1.5.0",
            "_model_name": "DescriptionStyleModel",
            "_view_count": null,
            "_view_module": "@jupyter-widgets/base",
            "_view_module_version": "1.2.0",
            "_view_name": "StyleView",
            "description_width": ""
          }
        },
        "a23d90b4ae314a2f898e1a7a59370605": {
          "model_module": "@jupyter-widgets/controls",
          "model_name": "HBoxModel",
          "model_module_version": "1.5.0",
          "state": {
            "_dom_classes": [],
            "_model_module": "@jupyter-widgets/controls",
            "_model_module_version": "1.5.0",
            "_model_name": "HBoxModel",
            "_view_count": null,
            "_view_module": "@jupyter-widgets/controls",
            "_view_module_version": "1.5.0",
            "_view_name": "HBoxView",
            "box_style": "",
            "children": [
              "IPY_MODEL_ed2da4e185c34c858df249f01bfacfb6",
              "IPY_MODEL_4d84aaecca0d4e5fba53fe59100b1edd",
              "IPY_MODEL_27e355d3f84148f2a16fe5cfe720513c"
            ],
            "layout": "IPY_MODEL_2d23f0c97c5344efa89d3e50cf935a90"
          }
        },
        "ed2da4e185c34c858df249f01bfacfb6": {
          "model_module": "@jupyter-widgets/controls",
          "model_name": "HTMLModel",
          "model_module_version": "1.5.0",
          "state": {
            "_dom_classes": [],
            "_model_module": "@jupyter-widgets/controls",
            "_model_module_version": "1.5.0",
            "_model_name": "HTMLModel",
            "_view_count": null,
            "_view_module": "@jupyter-widgets/controls",
            "_view_module_version": "1.5.0",
            "_view_name": "HTMLView",
            "description": "",
            "description_tooltip": null,
            "layout": "IPY_MODEL_49237c98f872429e8d200950bc8754a4",
            "placeholder": "​",
            "style": "IPY_MODEL_fa1c5180975e48afb6a9f5735b1ad523",
            "value": "Iteration: 100%"
          }
        },
        "4d84aaecca0d4e5fba53fe59100b1edd": {
          "model_module": "@jupyter-widgets/controls",
          "model_name": "FloatProgressModel",
          "model_module_version": "1.5.0",
          "state": {
            "_dom_classes": [],
            "_model_module": "@jupyter-widgets/controls",
            "_model_module_version": "1.5.0",
            "_model_name": "FloatProgressModel",
            "_view_count": null,
            "_view_module": "@jupyter-widgets/controls",
            "_view_module_version": "1.5.0",
            "_view_name": "ProgressView",
            "bar_style": "success",
            "description": "",
            "description_tooltip": null,
            "layout": "IPY_MODEL_833cad3367f84a22b31b06887119ed58",
            "max": 29,
            "min": 0,
            "orientation": "horizontal",
            "style": "IPY_MODEL_3d5dc81f9c2a42ce8080dbdd6f45f795",
            "value": 29
          }
        },
        "27e355d3f84148f2a16fe5cfe720513c": {
          "model_module": "@jupyter-widgets/controls",
          "model_name": "HTMLModel",
          "model_module_version": "1.5.0",
          "state": {
            "_dom_classes": [],
            "_model_module": "@jupyter-widgets/controls",
            "_model_module_version": "1.5.0",
            "_model_name": "HTMLModel",
            "_view_count": null,
            "_view_module": "@jupyter-widgets/controls",
            "_view_module_version": "1.5.0",
            "_view_name": "HTMLView",
            "description": "",
            "description_tooltip": null,
            "layout": "IPY_MODEL_7c88cf206dec450a815f4671f0ad27ed",
            "placeholder": "​",
            "style": "IPY_MODEL_1c41bb870f55418e888fcc43887897e3",
            "value": " 29/29 [41:24&lt;00:00, 84.08s/it]"
          }
        },
        "2d23f0c97c5344efa89d3e50cf935a90": {
          "model_module": "@jupyter-widgets/base",
          "model_name": "LayoutModel",
          "model_module_version": "1.2.0",
          "state": {
            "_model_module": "@jupyter-widgets/base",
            "_model_module_version": "1.2.0",
            "_model_name": "LayoutModel",
            "_view_count": null,
            "_view_module": "@jupyter-widgets/base",
            "_view_module_version": "1.2.0",
            "_view_name": "LayoutView",
            "align_content": null,
            "align_items": null,
            "align_self": null,
            "border": null,
            "bottom": null,
            "display": null,
            "flex": null,
            "flex_flow": null,
            "grid_area": null,
            "grid_auto_columns": null,
            "grid_auto_flow": null,
            "grid_auto_rows": null,
            "grid_column": null,
            "grid_gap": null,
            "grid_row": null,
            "grid_template_areas": null,
            "grid_template_columns": null,
            "grid_template_rows": null,
            "height": null,
            "justify_content": null,
            "justify_items": null,
            "left": null,
            "margin": null,
            "max_height": null,
            "max_width": null,
            "min_height": null,
            "min_width": null,
            "object_fit": null,
            "object_position": null,
            "order": null,
            "overflow": null,
            "overflow_x": null,
            "overflow_y": null,
            "padding": null,
            "right": null,
            "top": null,
            "visibility": null,
            "width": null
          }
        },
        "49237c98f872429e8d200950bc8754a4": {
          "model_module": "@jupyter-widgets/base",
          "model_name": "LayoutModel",
          "model_module_version": "1.2.0",
          "state": {
            "_model_module": "@jupyter-widgets/base",
            "_model_module_version": "1.2.0",
            "_model_name": "LayoutModel",
            "_view_count": null,
            "_view_module": "@jupyter-widgets/base",
            "_view_module_version": "1.2.0",
            "_view_name": "LayoutView",
            "align_content": null,
            "align_items": null,
            "align_self": null,
            "border": null,
            "bottom": null,
            "display": null,
            "flex": null,
            "flex_flow": null,
            "grid_area": null,
            "grid_auto_columns": null,
            "grid_auto_flow": null,
            "grid_auto_rows": null,
            "grid_column": null,
            "grid_gap": null,
            "grid_row": null,
            "grid_template_areas": null,
            "grid_template_columns": null,
            "grid_template_rows": null,
            "height": null,
            "justify_content": null,
            "justify_items": null,
            "left": null,
            "margin": null,
            "max_height": null,
            "max_width": null,
            "min_height": null,
            "min_width": null,
            "object_fit": null,
            "object_position": null,
            "order": null,
            "overflow": null,
            "overflow_x": null,
            "overflow_y": null,
            "padding": null,
            "right": null,
            "top": null,
            "visibility": null,
            "width": null
          }
        },
        "fa1c5180975e48afb6a9f5735b1ad523": {
          "model_module": "@jupyter-widgets/controls",
          "model_name": "DescriptionStyleModel",
          "model_module_version": "1.5.0",
          "state": {
            "_model_module": "@jupyter-widgets/controls",
            "_model_module_version": "1.5.0",
            "_model_name": "DescriptionStyleModel",
            "_view_count": null,
            "_view_module": "@jupyter-widgets/base",
            "_view_module_version": "1.2.0",
            "_view_name": "StyleView",
            "description_width": ""
          }
        },
        "833cad3367f84a22b31b06887119ed58": {
          "model_module": "@jupyter-widgets/base",
          "model_name": "LayoutModel",
          "model_module_version": "1.2.0",
          "state": {
            "_model_module": "@jupyter-widgets/base",
            "_model_module_version": "1.2.0",
            "_model_name": "LayoutModel",
            "_view_count": null,
            "_view_module": "@jupyter-widgets/base",
            "_view_module_version": "1.2.0",
            "_view_name": "LayoutView",
            "align_content": null,
            "align_items": null,
            "align_self": null,
            "border": null,
            "bottom": null,
            "display": null,
            "flex": null,
            "flex_flow": null,
            "grid_area": null,
            "grid_auto_columns": null,
            "grid_auto_flow": null,
            "grid_auto_rows": null,
            "grid_column": null,
            "grid_gap": null,
            "grid_row": null,
            "grid_template_areas": null,
            "grid_template_columns": null,
            "grid_template_rows": null,
            "height": null,
            "justify_content": null,
            "justify_items": null,
            "left": null,
            "margin": null,
            "max_height": null,
            "max_width": null,
            "min_height": null,
            "min_width": null,
            "object_fit": null,
            "object_position": null,
            "order": null,
            "overflow": null,
            "overflow_x": null,
            "overflow_y": null,
            "padding": null,
            "right": null,
            "top": null,
            "visibility": null,
            "width": null
          }
        },
        "3d5dc81f9c2a42ce8080dbdd6f45f795": {
          "model_module": "@jupyter-widgets/controls",
          "model_name": "ProgressStyleModel",
          "model_module_version": "1.5.0",
          "state": {
            "_model_module": "@jupyter-widgets/controls",
            "_model_module_version": "1.5.0",
            "_model_name": "ProgressStyleModel",
            "_view_count": null,
            "_view_module": "@jupyter-widgets/base",
            "_view_module_version": "1.2.0",
            "_view_name": "StyleView",
            "bar_color": null,
            "description_width": ""
          }
        },
        "7c88cf206dec450a815f4671f0ad27ed": {
          "model_module": "@jupyter-widgets/base",
          "model_name": "LayoutModel",
          "model_module_version": "1.2.0",
          "state": {
            "_model_module": "@jupyter-widgets/base",
            "_model_module_version": "1.2.0",
            "_model_name": "LayoutModel",
            "_view_count": null,
            "_view_module": "@jupyter-widgets/base",
            "_view_module_version": "1.2.0",
            "_view_name": "LayoutView",
            "align_content": null,
            "align_items": null,
            "align_self": null,
            "border": null,
            "bottom": null,
            "display": null,
            "flex": null,
            "flex_flow": null,
            "grid_area": null,
            "grid_auto_columns": null,
            "grid_auto_flow": null,
            "grid_auto_rows": null,
            "grid_column": null,
            "grid_gap": null,
            "grid_row": null,
            "grid_template_areas": null,
            "grid_template_columns": null,
            "grid_template_rows": null,
            "height": null,
            "justify_content": null,
            "justify_items": null,
            "left": null,
            "margin": null,
            "max_height": null,
            "max_width": null,
            "min_height": null,
            "min_width": null,
            "object_fit": null,
            "object_position": null,
            "order": null,
            "overflow": null,
            "overflow_x": null,
            "overflow_y": null,
            "padding": null,
            "right": null,
            "top": null,
            "visibility": null,
            "width": null
          }
        },
        "1c41bb870f55418e888fcc43887897e3": {
          "model_module": "@jupyter-widgets/controls",
          "model_name": "DescriptionStyleModel",
          "model_module_version": "1.5.0",
          "state": {
            "_model_module": "@jupyter-widgets/controls",
            "_model_module_version": "1.5.0",
            "_model_name": "DescriptionStyleModel",
            "_view_count": null,
            "_view_module": "@jupyter-widgets/base",
            "_view_module_version": "1.2.0",
            "_view_name": "StyleView",
            "description_width": ""
          }
        },
        "fa6d9afd7585496caf4f672bd479e5b1": {
          "model_module": "@jupyter-widgets/controls",
          "model_name": "HBoxModel",
          "model_module_version": "1.5.0",
          "state": {
            "_dom_classes": [],
            "_model_module": "@jupyter-widgets/controls",
            "_model_module_version": "1.5.0",
            "_model_name": "HBoxModel",
            "_view_count": null,
            "_view_module": "@jupyter-widgets/controls",
            "_view_module_version": "1.5.0",
            "_view_name": "HBoxView",
            "box_style": "",
            "children": [
              "IPY_MODEL_9ba16f47d9504e5da8584c6cb46688b6",
              "IPY_MODEL_d1aab74d39934cc09eb746378b2425b0",
              "IPY_MODEL_11855d3c0d924b2dbf037b387816e83c"
            ],
            "layout": "IPY_MODEL_b89f1b47dc9a46d8974043189da844c6"
          }
        },
        "9ba16f47d9504e5da8584c6cb46688b6": {
          "model_module": "@jupyter-widgets/controls",
          "model_name": "HTMLModel",
          "model_module_version": "1.5.0",
          "state": {
            "_dom_classes": [],
            "_model_module": "@jupyter-widgets/controls",
            "_model_module_version": "1.5.0",
            "_model_name": "HTMLModel",
            "_view_count": null,
            "_view_module": "@jupyter-widgets/controls",
            "_view_module_version": "1.5.0",
            "_view_name": "HTMLView",
            "description": "",
            "description_tooltip": null,
            "layout": "IPY_MODEL_a5ce85079bf045acb00a6e2fb4e93472",
            "placeholder": "​",
            "style": "IPY_MODEL_cd2e54a78e4d48ed85effa31babbb251",
            "value": "Batches: 100%"
          }
        },
        "d1aab74d39934cc09eb746378b2425b0": {
          "model_module": "@jupyter-widgets/controls",
          "model_name": "FloatProgressModel",
          "model_module_version": "1.5.0",
          "state": {
            "_dom_classes": [],
            "_model_module": "@jupyter-widgets/controls",
            "_model_module_version": "1.5.0",
            "_model_name": "FloatProgressModel",
            "_view_count": null,
            "_view_module": "@jupyter-widgets/controls",
            "_view_module_version": "1.5.0",
            "_view_name": "ProgressView",
            "bar_style": "success",
            "description": "",
            "description_tooltip": null,
            "layout": "IPY_MODEL_92761b26f25b4fd99ff0eb75efb67686",
            "max": 94,
            "min": 0,
            "orientation": "horizontal",
            "style": "IPY_MODEL_262959208ee145eba431a97fe517a77d",
            "value": 94
          }
        },
        "11855d3c0d924b2dbf037b387816e83c": {
          "model_module": "@jupyter-widgets/controls",
          "model_name": "HTMLModel",
          "model_module_version": "1.5.0",
          "state": {
            "_dom_classes": [],
            "_model_module": "@jupyter-widgets/controls",
            "_model_module_version": "1.5.0",
            "_model_name": "HTMLModel",
            "_view_count": null,
            "_view_module": "@jupyter-widgets/controls",
            "_view_module_version": "1.5.0",
            "_view_name": "HTMLView",
            "description": "",
            "description_tooltip": null,
            "layout": "IPY_MODEL_93362e83be4142eb8c6b257620931bf5",
            "placeholder": "​",
            "style": "IPY_MODEL_8efb6f790a7148edb122a4579050d3c8",
            "value": " 94/94 [00:55&lt;00:00,  3.59it/s]"
          }
        },
        "b89f1b47dc9a46d8974043189da844c6": {
          "model_module": "@jupyter-widgets/base",
          "model_name": "LayoutModel",
          "model_module_version": "1.2.0",
          "state": {
            "_model_module": "@jupyter-widgets/base",
            "_model_module_version": "1.2.0",
            "_model_name": "LayoutModel",
            "_view_count": null,
            "_view_module": "@jupyter-widgets/base",
            "_view_module_version": "1.2.0",
            "_view_name": "LayoutView",
            "align_content": null,
            "align_items": null,
            "align_self": null,
            "border": null,
            "bottom": null,
            "display": null,
            "flex": null,
            "flex_flow": null,
            "grid_area": null,
            "grid_auto_columns": null,
            "grid_auto_flow": null,
            "grid_auto_rows": null,
            "grid_column": null,
            "grid_gap": null,
            "grid_row": null,
            "grid_template_areas": null,
            "grid_template_columns": null,
            "grid_template_rows": null,
            "height": null,
            "justify_content": null,
            "justify_items": null,
            "left": null,
            "margin": null,
            "max_height": null,
            "max_width": null,
            "min_height": null,
            "min_width": null,
            "object_fit": null,
            "object_position": null,
            "order": null,
            "overflow": null,
            "overflow_x": null,
            "overflow_y": null,
            "padding": null,
            "right": null,
            "top": null,
            "visibility": null,
            "width": null
          }
        },
        "a5ce85079bf045acb00a6e2fb4e93472": {
          "model_module": "@jupyter-widgets/base",
          "model_name": "LayoutModel",
          "model_module_version": "1.2.0",
          "state": {
            "_model_module": "@jupyter-widgets/base",
            "_model_module_version": "1.2.0",
            "_model_name": "LayoutModel",
            "_view_count": null,
            "_view_module": "@jupyter-widgets/base",
            "_view_module_version": "1.2.0",
            "_view_name": "LayoutView",
            "align_content": null,
            "align_items": null,
            "align_self": null,
            "border": null,
            "bottom": null,
            "display": null,
            "flex": null,
            "flex_flow": null,
            "grid_area": null,
            "grid_auto_columns": null,
            "grid_auto_flow": null,
            "grid_auto_rows": null,
            "grid_column": null,
            "grid_gap": null,
            "grid_row": null,
            "grid_template_areas": null,
            "grid_template_columns": null,
            "grid_template_rows": null,
            "height": null,
            "justify_content": null,
            "justify_items": null,
            "left": null,
            "margin": null,
            "max_height": null,
            "max_width": null,
            "min_height": null,
            "min_width": null,
            "object_fit": null,
            "object_position": null,
            "order": null,
            "overflow": null,
            "overflow_x": null,
            "overflow_y": null,
            "padding": null,
            "right": null,
            "top": null,
            "visibility": null,
            "width": null
          }
        },
        "cd2e54a78e4d48ed85effa31babbb251": {
          "model_module": "@jupyter-widgets/controls",
          "model_name": "DescriptionStyleModel",
          "model_module_version": "1.5.0",
          "state": {
            "_model_module": "@jupyter-widgets/controls",
            "_model_module_version": "1.5.0",
            "_model_name": "DescriptionStyleModel",
            "_view_count": null,
            "_view_module": "@jupyter-widgets/base",
            "_view_module_version": "1.2.0",
            "_view_name": "StyleView",
            "description_width": ""
          }
        },
        "92761b26f25b4fd99ff0eb75efb67686": {
          "model_module": "@jupyter-widgets/base",
          "model_name": "LayoutModel",
          "model_module_version": "1.2.0",
          "state": {
            "_model_module": "@jupyter-widgets/base",
            "_model_module_version": "1.2.0",
            "_model_name": "LayoutModel",
            "_view_count": null,
            "_view_module": "@jupyter-widgets/base",
            "_view_module_version": "1.2.0",
            "_view_name": "LayoutView",
            "align_content": null,
            "align_items": null,
            "align_self": null,
            "border": null,
            "bottom": null,
            "display": null,
            "flex": null,
            "flex_flow": null,
            "grid_area": null,
            "grid_auto_columns": null,
            "grid_auto_flow": null,
            "grid_auto_rows": null,
            "grid_column": null,
            "grid_gap": null,
            "grid_row": null,
            "grid_template_areas": null,
            "grid_template_columns": null,
            "grid_template_rows": null,
            "height": null,
            "justify_content": null,
            "justify_items": null,
            "left": null,
            "margin": null,
            "max_height": null,
            "max_width": null,
            "min_height": null,
            "min_width": null,
            "object_fit": null,
            "object_position": null,
            "order": null,
            "overflow": null,
            "overflow_x": null,
            "overflow_y": null,
            "padding": null,
            "right": null,
            "top": null,
            "visibility": null,
            "width": null
          }
        },
        "262959208ee145eba431a97fe517a77d": {
          "model_module": "@jupyter-widgets/controls",
          "model_name": "ProgressStyleModel",
          "model_module_version": "1.5.0",
          "state": {
            "_model_module": "@jupyter-widgets/controls",
            "_model_module_version": "1.5.0",
            "_model_name": "ProgressStyleModel",
            "_view_count": null,
            "_view_module": "@jupyter-widgets/base",
            "_view_module_version": "1.2.0",
            "_view_name": "StyleView",
            "bar_color": null,
            "description_width": ""
          }
        },
        "93362e83be4142eb8c6b257620931bf5": {
          "model_module": "@jupyter-widgets/base",
          "model_name": "LayoutModel",
          "model_module_version": "1.2.0",
          "state": {
            "_model_module": "@jupyter-widgets/base",
            "_model_module_version": "1.2.0",
            "_model_name": "LayoutModel",
            "_view_count": null,
            "_view_module": "@jupyter-widgets/base",
            "_view_module_version": "1.2.0",
            "_view_name": "LayoutView",
            "align_content": null,
            "align_items": null,
            "align_self": null,
            "border": null,
            "bottom": null,
            "display": null,
            "flex": null,
            "flex_flow": null,
            "grid_area": null,
            "grid_auto_columns": null,
            "grid_auto_flow": null,
            "grid_auto_rows": null,
            "grid_column": null,
            "grid_gap": null,
            "grid_row": null,
            "grid_template_areas": null,
            "grid_template_columns": null,
            "grid_template_rows": null,
            "height": null,
            "justify_content": null,
            "justify_items": null,
            "left": null,
            "margin": null,
            "max_height": null,
            "max_width": null,
            "min_height": null,
            "min_width": null,
            "object_fit": null,
            "object_position": null,
            "order": null,
            "overflow": null,
            "overflow_x": null,
            "overflow_y": null,
            "padding": null,
            "right": null,
            "top": null,
            "visibility": null,
            "width": null
          }
        },
        "8efb6f790a7148edb122a4579050d3c8": {
          "model_module": "@jupyter-widgets/controls",
          "model_name": "DescriptionStyleModel",
          "model_module_version": "1.5.0",
          "state": {
            "_model_module": "@jupyter-widgets/controls",
            "_model_module_version": "1.5.0",
            "_model_name": "DescriptionStyleModel",
            "_view_count": null,
            "_view_module": "@jupyter-widgets/base",
            "_view_module_version": "1.2.0",
            "_view_name": "StyleView",
            "description_width": ""
          }
        },
        "4e369758e0da4e24ae24099c7c9cc7f5": {
          "model_module": "@jupyter-widgets/controls",
          "model_name": "HBoxModel",
          "model_module_version": "1.5.0",
          "state": {
            "_dom_classes": [],
            "_model_module": "@jupyter-widgets/controls",
            "_model_module_version": "1.5.0",
            "_model_name": "HBoxModel",
            "_view_count": null,
            "_view_module": "@jupyter-widgets/controls",
            "_view_module_version": "1.5.0",
            "_view_name": "HBoxView",
            "box_style": "",
            "children": [
              "IPY_MODEL_a3a65ff71bac4945b220664c00808450",
              "IPY_MODEL_51484cb659ee48b0b858d48444a46813",
              "IPY_MODEL_6cf0cbf238724f91b4d9ef3ec729d486"
            ],
            "layout": "IPY_MODEL_61977bc6a43e4a7a804e50161e7ce24c"
          }
        },
        "a3a65ff71bac4945b220664c00808450": {
          "model_module": "@jupyter-widgets/controls",
          "model_name": "HTMLModel",
          "model_module_version": "1.5.0",
          "state": {
            "_dom_classes": [],
            "_model_module": "@jupyter-widgets/controls",
            "_model_module_version": "1.5.0",
            "_model_name": "HTMLModel",
            "_view_count": null,
            "_view_module": "@jupyter-widgets/controls",
            "_view_module_version": "1.5.0",
            "_view_name": "HTMLView",
            "description": "",
            "description_tooltip": null,
            "layout": "IPY_MODEL_df8e5922d2224ae0881114e65c7ca67b",
            "placeholder": "​",
            "style": "IPY_MODEL_dbf7ad10dbc64b1ebf3b9c2b96cb7341",
            "value": "Batches: 100%"
          }
        },
        "51484cb659ee48b0b858d48444a46813": {
          "model_module": "@jupyter-widgets/controls",
          "model_name": "FloatProgressModel",
          "model_module_version": "1.5.0",
          "state": {
            "_dom_classes": [],
            "_model_module": "@jupyter-widgets/controls",
            "_model_module_version": "1.5.0",
            "_model_name": "FloatProgressModel",
            "_view_count": null,
            "_view_module": "@jupyter-widgets/controls",
            "_view_module_version": "1.5.0",
            "_view_name": "ProgressView",
            "bar_style": "success",
            "description": "",
            "description_tooltip": null,
            "layout": "IPY_MODEL_79b649cfc2214e928806e100f2c78c11",
            "max": 94,
            "min": 0,
            "orientation": "horizontal",
            "style": "IPY_MODEL_822cd1cbdaca461984baf691affc70c7",
            "value": 94
          }
        },
        "6cf0cbf238724f91b4d9ef3ec729d486": {
          "model_module": "@jupyter-widgets/controls",
          "model_name": "HTMLModel",
          "model_module_version": "1.5.0",
          "state": {
            "_dom_classes": [],
            "_model_module": "@jupyter-widgets/controls",
            "_model_module_version": "1.5.0",
            "_model_name": "HTMLModel",
            "_view_count": null,
            "_view_module": "@jupyter-widgets/controls",
            "_view_module_version": "1.5.0",
            "_view_name": "HTMLView",
            "description": "",
            "description_tooltip": null,
            "layout": "IPY_MODEL_fb2abfd49941475b940de26a1e5c1a3e",
            "placeholder": "​",
            "style": "IPY_MODEL_723cd2b9f2d54452a93d7dbdf09e179e",
            "value": " 94/94 [00:55&lt;00:00,  3.32it/s]"
          }
        },
        "61977bc6a43e4a7a804e50161e7ce24c": {
          "model_module": "@jupyter-widgets/base",
          "model_name": "LayoutModel",
          "model_module_version": "1.2.0",
          "state": {
            "_model_module": "@jupyter-widgets/base",
            "_model_module_version": "1.2.0",
            "_model_name": "LayoutModel",
            "_view_count": null,
            "_view_module": "@jupyter-widgets/base",
            "_view_module_version": "1.2.0",
            "_view_name": "LayoutView",
            "align_content": null,
            "align_items": null,
            "align_self": null,
            "border": null,
            "bottom": null,
            "display": null,
            "flex": null,
            "flex_flow": null,
            "grid_area": null,
            "grid_auto_columns": null,
            "grid_auto_flow": null,
            "grid_auto_rows": null,
            "grid_column": null,
            "grid_gap": null,
            "grid_row": null,
            "grid_template_areas": null,
            "grid_template_columns": null,
            "grid_template_rows": null,
            "height": null,
            "justify_content": null,
            "justify_items": null,
            "left": null,
            "margin": null,
            "max_height": null,
            "max_width": null,
            "min_height": null,
            "min_width": null,
            "object_fit": null,
            "object_position": null,
            "order": null,
            "overflow": null,
            "overflow_x": null,
            "overflow_y": null,
            "padding": null,
            "right": null,
            "top": null,
            "visibility": null,
            "width": null
          }
        },
        "df8e5922d2224ae0881114e65c7ca67b": {
          "model_module": "@jupyter-widgets/base",
          "model_name": "LayoutModel",
          "model_module_version": "1.2.0",
          "state": {
            "_model_module": "@jupyter-widgets/base",
            "_model_module_version": "1.2.0",
            "_model_name": "LayoutModel",
            "_view_count": null,
            "_view_module": "@jupyter-widgets/base",
            "_view_module_version": "1.2.0",
            "_view_name": "LayoutView",
            "align_content": null,
            "align_items": null,
            "align_self": null,
            "border": null,
            "bottom": null,
            "display": null,
            "flex": null,
            "flex_flow": null,
            "grid_area": null,
            "grid_auto_columns": null,
            "grid_auto_flow": null,
            "grid_auto_rows": null,
            "grid_column": null,
            "grid_gap": null,
            "grid_row": null,
            "grid_template_areas": null,
            "grid_template_columns": null,
            "grid_template_rows": null,
            "height": null,
            "justify_content": null,
            "justify_items": null,
            "left": null,
            "margin": null,
            "max_height": null,
            "max_width": null,
            "min_height": null,
            "min_width": null,
            "object_fit": null,
            "object_position": null,
            "order": null,
            "overflow": null,
            "overflow_x": null,
            "overflow_y": null,
            "padding": null,
            "right": null,
            "top": null,
            "visibility": null,
            "width": null
          }
        },
        "dbf7ad10dbc64b1ebf3b9c2b96cb7341": {
          "model_module": "@jupyter-widgets/controls",
          "model_name": "DescriptionStyleModel",
          "model_module_version": "1.5.0",
          "state": {
            "_model_module": "@jupyter-widgets/controls",
            "_model_module_version": "1.5.0",
            "_model_name": "DescriptionStyleModel",
            "_view_count": null,
            "_view_module": "@jupyter-widgets/base",
            "_view_module_version": "1.2.0",
            "_view_name": "StyleView",
            "description_width": ""
          }
        },
        "79b649cfc2214e928806e100f2c78c11": {
          "model_module": "@jupyter-widgets/base",
          "model_name": "LayoutModel",
          "model_module_version": "1.2.0",
          "state": {
            "_model_module": "@jupyter-widgets/base",
            "_model_module_version": "1.2.0",
            "_model_name": "LayoutModel",
            "_view_count": null,
            "_view_module": "@jupyter-widgets/base",
            "_view_module_version": "1.2.0",
            "_view_name": "LayoutView",
            "align_content": null,
            "align_items": null,
            "align_self": null,
            "border": null,
            "bottom": null,
            "display": null,
            "flex": null,
            "flex_flow": null,
            "grid_area": null,
            "grid_auto_columns": null,
            "grid_auto_flow": null,
            "grid_auto_rows": null,
            "grid_column": null,
            "grid_gap": null,
            "grid_row": null,
            "grid_template_areas": null,
            "grid_template_columns": null,
            "grid_template_rows": null,
            "height": null,
            "justify_content": null,
            "justify_items": null,
            "left": null,
            "margin": null,
            "max_height": null,
            "max_width": null,
            "min_height": null,
            "min_width": null,
            "object_fit": null,
            "object_position": null,
            "order": null,
            "overflow": null,
            "overflow_x": null,
            "overflow_y": null,
            "padding": null,
            "right": null,
            "top": null,
            "visibility": null,
            "width": null
          }
        },
        "822cd1cbdaca461984baf691affc70c7": {
          "model_module": "@jupyter-widgets/controls",
          "model_name": "ProgressStyleModel",
          "model_module_version": "1.5.0",
          "state": {
            "_model_module": "@jupyter-widgets/controls",
            "_model_module_version": "1.5.0",
            "_model_name": "ProgressStyleModel",
            "_view_count": null,
            "_view_module": "@jupyter-widgets/base",
            "_view_module_version": "1.2.0",
            "_view_name": "StyleView",
            "bar_color": null,
            "description_width": ""
          }
        },
        "fb2abfd49941475b940de26a1e5c1a3e": {
          "model_module": "@jupyter-widgets/base",
          "model_name": "LayoutModel",
          "model_module_version": "1.2.0",
          "state": {
            "_model_module": "@jupyter-widgets/base",
            "_model_module_version": "1.2.0",
            "_model_name": "LayoutModel",
            "_view_count": null,
            "_view_module": "@jupyter-widgets/base",
            "_view_module_version": "1.2.0",
            "_view_name": "LayoutView",
            "align_content": null,
            "align_items": null,
            "align_self": null,
            "border": null,
            "bottom": null,
            "display": null,
            "flex": null,
            "flex_flow": null,
            "grid_area": null,
            "grid_auto_columns": null,
            "grid_auto_flow": null,
            "grid_auto_rows": null,
            "grid_column": null,
            "grid_gap": null,
            "grid_row": null,
            "grid_template_areas": null,
            "grid_template_columns": null,
            "grid_template_rows": null,
            "height": null,
            "justify_content": null,
            "justify_items": null,
            "left": null,
            "margin": null,
            "max_height": null,
            "max_width": null,
            "min_height": null,
            "min_width": null,
            "object_fit": null,
            "object_position": null,
            "order": null,
            "overflow": null,
            "overflow_x": null,
            "overflow_y": null,
            "padding": null,
            "right": null,
            "top": null,
            "visibility": null,
            "width": null
          }
        },
        "723cd2b9f2d54452a93d7dbdf09e179e": {
          "model_module": "@jupyter-widgets/controls",
          "model_name": "DescriptionStyleModel",
          "model_module_version": "1.5.0",
          "state": {
            "_model_module": "@jupyter-widgets/controls",
            "_model_module_version": "1.5.0",
            "_model_name": "DescriptionStyleModel",
            "_view_count": null,
            "_view_module": "@jupyter-widgets/base",
            "_view_module_version": "1.2.0",
            "_view_name": "StyleView",
            "description_width": ""
          }
        },
        "00c98410a6a04ec6b07b6be9de04ee9a": {
          "model_module": "@jupyter-widgets/controls",
          "model_name": "HBoxModel",
          "model_module_version": "1.5.0",
          "state": {
            "_dom_classes": [],
            "_model_module": "@jupyter-widgets/controls",
            "_model_module_version": "1.5.0",
            "_model_name": "HBoxModel",
            "_view_count": null,
            "_view_module": "@jupyter-widgets/controls",
            "_view_module_version": "1.5.0",
            "_view_name": "HBoxView",
            "box_style": "",
            "children": [
              "IPY_MODEL_4318fed9f34744a6bdac9e6da22a8d40",
              "IPY_MODEL_42fd2c11059743a39bdf42562199b36e",
              "IPY_MODEL_1c7345cc941d45a992f8901b38d5ca01"
            ],
            "layout": "IPY_MODEL_3de5cb2742b0446a85834e82bcaf2305"
          }
        },
        "4318fed9f34744a6bdac9e6da22a8d40": {
          "model_module": "@jupyter-widgets/controls",
          "model_name": "HTMLModel",
          "model_module_version": "1.5.0",
          "state": {
            "_dom_classes": [],
            "_model_module": "@jupyter-widgets/controls",
            "_model_module_version": "1.5.0",
            "_model_name": "HTMLModel",
            "_view_count": null,
            "_view_module": "@jupyter-widgets/controls",
            "_view_module_version": "1.5.0",
            "_view_name": "HTMLView",
            "description": "",
            "description_tooltip": null,
            "layout": "IPY_MODEL_caeb301624b348528662c1d2ee39bda5",
            "placeholder": "​",
            "style": "IPY_MODEL_29f51c00c2e048e9b88d1570fdeefc33",
            "value": "Epoch: 100%"
          }
        },
        "42fd2c11059743a39bdf42562199b36e": {
          "model_module": "@jupyter-widgets/controls",
          "model_name": "FloatProgressModel",
          "model_module_version": "1.5.0",
          "state": {
            "_dom_classes": [],
            "_model_module": "@jupyter-widgets/controls",
            "_model_module_version": "1.5.0",
            "_model_name": "FloatProgressModel",
            "_view_count": null,
            "_view_module": "@jupyter-widgets/controls",
            "_view_module_version": "1.5.0",
            "_view_name": "ProgressView",
            "bar_style": "success",
            "description": "",
            "description_tooltip": null,
            "layout": "IPY_MODEL_5d6db73cee4d401f888f1f4b3f74a743",
            "max": 1,
            "min": 0,
            "orientation": "horizontal",
            "style": "IPY_MODEL_cbee1d72d44a419a8badb2974e33f056",
            "value": 1
          }
        },
        "1c7345cc941d45a992f8901b38d5ca01": {
          "model_module": "@jupyter-widgets/controls",
          "model_name": "HTMLModel",
          "model_module_version": "1.5.0",
          "state": {
            "_dom_classes": [],
            "_model_module": "@jupyter-widgets/controls",
            "_model_module_version": "1.5.0",
            "_model_name": "HTMLModel",
            "_view_count": null,
            "_view_module": "@jupyter-widgets/controls",
            "_view_module_version": "1.5.0",
            "_view_name": "HTMLView",
            "description": "",
            "description_tooltip": null,
            "layout": "IPY_MODEL_459f12d793164e0f960b4f3e9c742c20",
            "placeholder": "​",
            "style": "IPY_MODEL_1b608da36f5f40e6b0e097ef5e2e55ec",
            "value": " 1/1 [44:07&lt;00:00, 2647.57s/it]"
          }
        },
        "3de5cb2742b0446a85834e82bcaf2305": {
          "model_module": "@jupyter-widgets/base",
          "model_name": "LayoutModel",
          "model_module_version": "1.2.0",
          "state": {
            "_model_module": "@jupyter-widgets/base",
            "_model_module_version": "1.2.0",
            "_model_name": "LayoutModel",
            "_view_count": null,
            "_view_module": "@jupyter-widgets/base",
            "_view_module_version": "1.2.0",
            "_view_name": "LayoutView",
            "align_content": null,
            "align_items": null,
            "align_self": null,
            "border": null,
            "bottom": null,
            "display": null,
            "flex": null,
            "flex_flow": null,
            "grid_area": null,
            "grid_auto_columns": null,
            "grid_auto_flow": null,
            "grid_auto_rows": null,
            "grid_column": null,
            "grid_gap": null,
            "grid_row": null,
            "grid_template_areas": null,
            "grid_template_columns": null,
            "grid_template_rows": null,
            "height": null,
            "justify_content": null,
            "justify_items": null,
            "left": null,
            "margin": null,
            "max_height": null,
            "max_width": null,
            "min_height": null,
            "min_width": null,
            "object_fit": null,
            "object_position": null,
            "order": null,
            "overflow": null,
            "overflow_x": null,
            "overflow_y": null,
            "padding": null,
            "right": null,
            "top": null,
            "visibility": null,
            "width": null
          }
        },
        "caeb301624b348528662c1d2ee39bda5": {
          "model_module": "@jupyter-widgets/base",
          "model_name": "LayoutModel",
          "model_module_version": "1.2.0",
          "state": {
            "_model_module": "@jupyter-widgets/base",
            "_model_module_version": "1.2.0",
            "_model_name": "LayoutModel",
            "_view_count": null,
            "_view_module": "@jupyter-widgets/base",
            "_view_module_version": "1.2.0",
            "_view_name": "LayoutView",
            "align_content": null,
            "align_items": null,
            "align_self": null,
            "border": null,
            "bottom": null,
            "display": null,
            "flex": null,
            "flex_flow": null,
            "grid_area": null,
            "grid_auto_columns": null,
            "grid_auto_flow": null,
            "grid_auto_rows": null,
            "grid_column": null,
            "grid_gap": null,
            "grid_row": null,
            "grid_template_areas": null,
            "grid_template_columns": null,
            "grid_template_rows": null,
            "height": null,
            "justify_content": null,
            "justify_items": null,
            "left": null,
            "margin": null,
            "max_height": null,
            "max_width": null,
            "min_height": null,
            "min_width": null,
            "object_fit": null,
            "object_position": null,
            "order": null,
            "overflow": null,
            "overflow_x": null,
            "overflow_y": null,
            "padding": null,
            "right": null,
            "top": null,
            "visibility": null,
            "width": null
          }
        },
        "29f51c00c2e048e9b88d1570fdeefc33": {
          "model_module": "@jupyter-widgets/controls",
          "model_name": "DescriptionStyleModel",
          "model_module_version": "1.5.0",
          "state": {
            "_model_module": "@jupyter-widgets/controls",
            "_model_module_version": "1.5.0",
            "_model_name": "DescriptionStyleModel",
            "_view_count": null,
            "_view_module": "@jupyter-widgets/base",
            "_view_module_version": "1.2.0",
            "_view_name": "StyleView",
            "description_width": ""
          }
        },
        "5d6db73cee4d401f888f1f4b3f74a743": {
          "model_module": "@jupyter-widgets/base",
          "model_name": "LayoutModel",
          "model_module_version": "1.2.0",
          "state": {
            "_model_module": "@jupyter-widgets/base",
            "_model_module_version": "1.2.0",
            "_model_name": "LayoutModel",
            "_view_count": null,
            "_view_module": "@jupyter-widgets/base",
            "_view_module_version": "1.2.0",
            "_view_name": "LayoutView",
            "align_content": null,
            "align_items": null,
            "align_self": null,
            "border": null,
            "bottom": null,
            "display": null,
            "flex": null,
            "flex_flow": null,
            "grid_area": null,
            "grid_auto_columns": null,
            "grid_auto_flow": null,
            "grid_auto_rows": null,
            "grid_column": null,
            "grid_gap": null,
            "grid_row": null,
            "grid_template_areas": null,
            "grid_template_columns": null,
            "grid_template_rows": null,
            "height": null,
            "justify_content": null,
            "justify_items": null,
            "left": null,
            "margin": null,
            "max_height": null,
            "max_width": null,
            "min_height": null,
            "min_width": null,
            "object_fit": null,
            "object_position": null,
            "order": null,
            "overflow": null,
            "overflow_x": null,
            "overflow_y": null,
            "padding": null,
            "right": null,
            "top": null,
            "visibility": null,
            "width": null
          }
        },
        "cbee1d72d44a419a8badb2974e33f056": {
          "model_module": "@jupyter-widgets/controls",
          "model_name": "ProgressStyleModel",
          "model_module_version": "1.5.0",
          "state": {
            "_model_module": "@jupyter-widgets/controls",
            "_model_module_version": "1.5.0",
            "_model_name": "ProgressStyleModel",
            "_view_count": null,
            "_view_module": "@jupyter-widgets/base",
            "_view_module_version": "1.2.0",
            "_view_name": "StyleView",
            "bar_color": null,
            "description_width": ""
          }
        },
        "459f12d793164e0f960b4f3e9c742c20": {
          "model_module": "@jupyter-widgets/base",
          "model_name": "LayoutModel",
          "model_module_version": "1.2.0",
          "state": {
            "_model_module": "@jupyter-widgets/base",
            "_model_module_version": "1.2.0",
            "_model_name": "LayoutModel",
            "_view_count": null,
            "_view_module": "@jupyter-widgets/base",
            "_view_module_version": "1.2.0",
            "_view_name": "LayoutView",
            "align_content": null,
            "align_items": null,
            "align_self": null,
            "border": null,
            "bottom": null,
            "display": null,
            "flex": null,
            "flex_flow": null,
            "grid_area": null,
            "grid_auto_columns": null,
            "grid_auto_flow": null,
            "grid_auto_rows": null,
            "grid_column": null,
            "grid_gap": null,
            "grid_row": null,
            "grid_template_areas": null,
            "grid_template_columns": null,
            "grid_template_rows": null,
            "height": null,
            "justify_content": null,
            "justify_items": null,
            "left": null,
            "margin": null,
            "max_height": null,
            "max_width": null,
            "min_height": null,
            "min_width": null,
            "object_fit": null,
            "object_position": null,
            "order": null,
            "overflow": null,
            "overflow_x": null,
            "overflow_y": null,
            "padding": null,
            "right": null,
            "top": null,
            "visibility": null,
            "width": null
          }
        },
        "1b608da36f5f40e6b0e097ef5e2e55ec": {
          "model_module": "@jupyter-widgets/controls",
          "model_name": "DescriptionStyleModel",
          "model_module_version": "1.5.0",
          "state": {
            "_model_module": "@jupyter-widgets/controls",
            "_model_module_version": "1.5.0",
            "_model_name": "DescriptionStyleModel",
            "_view_count": null,
            "_view_module": "@jupyter-widgets/base",
            "_view_module_version": "1.2.0",
            "_view_name": "StyleView",
            "description_width": ""
          }
        },
        "675b7f04931d4f318c098194a375a951": {
          "model_module": "@jupyter-widgets/controls",
          "model_name": "HBoxModel",
          "model_module_version": "1.5.0",
          "state": {
            "_dom_classes": [],
            "_model_module": "@jupyter-widgets/controls",
            "_model_module_version": "1.5.0",
            "_model_name": "HBoxModel",
            "_view_count": null,
            "_view_module": "@jupyter-widgets/controls",
            "_view_module_version": "1.5.0",
            "_view_name": "HBoxView",
            "box_style": "",
            "children": [
              "IPY_MODEL_fe8bd48aab6a4adc9e8e14384271f493",
              "IPY_MODEL_2c06b4f7305e46b9bcffbae6a72ea45e",
              "IPY_MODEL_10fdf7e631de4359821bb69c9db54558"
            ],
            "layout": "IPY_MODEL_3bd7674c93144cf4b3310a38b53b5012"
          }
        },
        "fe8bd48aab6a4adc9e8e14384271f493": {
          "model_module": "@jupyter-widgets/controls",
          "model_name": "HTMLModel",
          "model_module_version": "1.5.0",
          "state": {
            "_dom_classes": [],
            "_model_module": "@jupyter-widgets/controls",
            "_model_module_version": "1.5.0",
            "_model_name": "HTMLModel",
            "_view_count": null,
            "_view_module": "@jupyter-widgets/controls",
            "_view_module_version": "1.5.0",
            "_view_name": "HTMLView",
            "description": "",
            "description_tooltip": null,
            "layout": "IPY_MODEL_9fe49ccbbaa34386841ae2d74a807ffe",
            "placeholder": "​",
            "style": "IPY_MODEL_d6f14308373045c38fa7bb5ce69e291c",
            "value": "Iteration: 100%"
          }
        },
        "2c06b4f7305e46b9bcffbae6a72ea45e": {
          "model_module": "@jupyter-widgets/controls",
          "model_name": "FloatProgressModel",
          "model_module_version": "1.5.0",
          "state": {
            "_dom_classes": [],
            "_model_module": "@jupyter-widgets/controls",
            "_model_module_version": "1.5.0",
            "_model_name": "FloatProgressModel",
            "_view_count": null,
            "_view_module": "@jupyter-widgets/controls",
            "_view_module_version": "1.5.0",
            "_view_name": "ProgressView",
            "bar_style": "success",
            "description": "",
            "description_tooltip": null,
            "layout": "IPY_MODEL_f6539dc5fca74642af2dacadde463bbc",
            "max": 29,
            "min": 0,
            "orientation": "horizontal",
            "style": "IPY_MODEL_b420703843894a4198e2267ab0e075f6",
            "value": 29
          }
        },
        "10fdf7e631de4359821bb69c9db54558": {
          "model_module": "@jupyter-widgets/controls",
          "model_name": "HTMLModel",
          "model_module_version": "1.5.0",
          "state": {
            "_dom_classes": [],
            "_model_module": "@jupyter-widgets/controls",
            "_model_module_version": "1.5.0",
            "_model_name": "HTMLModel",
            "_view_count": null,
            "_view_module": "@jupyter-widgets/controls",
            "_view_module_version": "1.5.0",
            "_view_name": "HTMLView",
            "description": "",
            "description_tooltip": null,
            "layout": "IPY_MODEL_3bb326ad8c4244229ee372bf22fe8cc7",
            "placeholder": "​",
            "style": "IPY_MODEL_9ac79cef6a56451d9032b9be6a267499",
            "value": " 29/29 [42:43&lt;00:00, 85.35s/it]"
          }
        },
        "3bd7674c93144cf4b3310a38b53b5012": {
          "model_module": "@jupyter-widgets/base",
          "model_name": "LayoutModel",
          "model_module_version": "1.2.0",
          "state": {
            "_model_module": "@jupyter-widgets/base",
            "_model_module_version": "1.2.0",
            "_model_name": "LayoutModel",
            "_view_count": null,
            "_view_module": "@jupyter-widgets/base",
            "_view_module_version": "1.2.0",
            "_view_name": "LayoutView",
            "align_content": null,
            "align_items": null,
            "align_self": null,
            "border": null,
            "bottom": null,
            "display": null,
            "flex": null,
            "flex_flow": null,
            "grid_area": null,
            "grid_auto_columns": null,
            "grid_auto_flow": null,
            "grid_auto_rows": null,
            "grid_column": null,
            "grid_gap": null,
            "grid_row": null,
            "grid_template_areas": null,
            "grid_template_columns": null,
            "grid_template_rows": null,
            "height": null,
            "justify_content": null,
            "justify_items": null,
            "left": null,
            "margin": null,
            "max_height": null,
            "max_width": null,
            "min_height": null,
            "min_width": null,
            "object_fit": null,
            "object_position": null,
            "order": null,
            "overflow": null,
            "overflow_x": null,
            "overflow_y": null,
            "padding": null,
            "right": null,
            "top": null,
            "visibility": null,
            "width": null
          }
        },
        "9fe49ccbbaa34386841ae2d74a807ffe": {
          "model_module": "@jupyter-widgets/base",
          "model_name": "LayoutModel",
          "model_module_version": "1.2.0",
          "state": {
            "_model_module": "@jupyter-widgets/base",
            "_model_module_version": "1.2.0",
            "_model_name": "LayoutModel",
            "_view_count": null,
            "_view_module": "@jupyter-widgets/base",
            "_view_module_version": "1.2.0",
            "_view_name": "LayoutView",
            "align_content": null,
            "align_items": null,
            "align_self": null,
            "border": null,
            "bottom": null,
            "display": null,
            "flex": null,
            "flex_flow": null,
            "grid_area": null,
            "grid_auto_columns": null,
            "grid_auto_flow": null,
            "grid_auto_rows": null,
            "grid_column": null,
            "grid_gap": null,
            "grid_row": null,
            "grid_template_areas": null,
            "grid_template_columns": null,
            "grid_template_rows": null,
            "height": null,
            "justify_content": null,
            "justify_items": null,
            "left": null,
            "margin": null,
            "max_height": null,
            "max_width": null,
            "min_height": null,
            "min_width": null,
            "object_fit": null,
            "object_position": null,
            "order": null,
            "overflow": null,
            "overflow_x": null,
            "overflow_y": null,
            "padding": null,
            "right": null,
            "top": null,
            "visibility": null,
            "width": null
          }
        },
        "d6f14308373045c38fa7bb5ce69e291c": {
          "model_module": "@jupyter-widgets/controls",
          "model_name": "DescriptionStyleModel",
          "model_module_version": "1.5.0",
          "state": {
            "_model_module": "@jupyter-widgets/controls",
            "_model_module_version": "1.5.0",
            "_model_name": "DescriptionStyleModel",
            "_view_count": null,
            "_view_module": "@jupyter-widgets/base",
            "_view_module_version": "1.2.0",
            "_view_name": "StyleView",
            "description_width": ""
          }
        },
        "f6539dc5fca74642af2dacadde463bbc": {
          "model_module": "@jupyter-widgets/base",
          "model_name": "LayoutModel",
          "model_module_version": "1.2.0",
          "state": {
            "_model_module": "@jupyter-widgets/base",
            "_model_module_version": "1.2.0",
            "_model_name": "LayoutModel",
            "_view_count": null,
            "_view_module": "@jupyter-widgets/base",
            "_view_module_version": "1.2.0",
            "_view_name": "LayoutView",
            "align_content": null,
            "align_items": null,
            "align_self": null,
            "border": null,
            "bottom": null,
            "display": null,
            "flex": null,
            "flex_flow": null,
            "grid_area": null,
            "grid_auto_columns": null,
            "grid_auto_flow": null,
            "grid_auto_rows": null,
            "grid_column": null,
            "grid_gap": null,
            "grid_row": null,
            "grid_template_areas": null,
            "grid_template_columns": null,
            "grid_template_rows": null,
            "height": null,
            "justify_content": null,
            "justify_items": null,
            "left": null,
            "margin": null,
            "max_height": null,
            "max_width": null,
            "min_height": null,
            "min_width": null,
            "object_fit": null,
            "object_position": null,
            "order": null,
            "overflow": null,
            "overflow_x": null,
            "overflow_y": null,
            "padding": null,
            "right": null,
            "top": null,
            "visibility": null,
            "width": null
          }
        },
        "b420703843894a4198e2267ab0e075f6": {
          "model_module": "@jupyter-widgets/controls",
          "model_name": "ProgressStyleModel",
          "model_module_version": "1.5.0",
          "state": {
            "_model_module": "@jupyter-widgets/controls",
            "_model_module_version": "1.5.0",
            "_model_name": "ProgressStyleModel",
            "_view_count": null,
            "_view_module": "@jupyter-widgets/base",
            "_view_module_version": "1.2.0",
            "_view_name": "StyleView",
            "bar_color": null,
            "description_width": ""
          }
        },
        "3bb326ad8c4244229ee372bf22fe8cc7": {
          "model_module": "@jupyter-widgets/base",
          "model_name": "LayoutModel",
          "model_module_version": "1.2.0",
          "state": {
            "_model_module": "@jupyter-widgets/base",
            "_model_module_version": "1.2.0",
            "_model_name": "LayoutModel",
            "_view_count": null,
            "_view_module": "@jupyter-widgets/base",
            "_view_module_version": "1.2.0",
            "_view_name": "LayoutView",
            "align_content": null,
            "align_items": null,
            "align_self": null,
            "border": null,
            "bottom": null,
            "display": null,
            "flex": null,
            "flex_flow": null,
            "grid_area": null,
            "grid_auto_columns": null,
            "grid_auto_flow": null,
            "grid_auto_rows": null,
            "grid_column": null,
            "grid_gap": null,
            "grid_row": null,
            "grid_template_areas": null,
            "grid_template_columns": null,
            "grid_template_rows": null,
            "height": null,
            "justify_content": null,
            "justify_items": null,
            "left": null,
            "margin": null,
            "max_height": null,
            "max_width": null,
            "min_height": null,
            "min_width": null,
            "object_fit": null,
            "object_position": null,
            "order": null,
            "overflow": null,
            "overflow_x": null,
            "overflow_y": null,
            "padding": null,
            "right": null,
            "top": null,
            "visibility": null,
            "width": null
          }
        },
        "9ac79cef6a56451d9032b9be6a267499": {
          "model_module": "@jupyter-widgets/controls",
          "model_name": "DescriptionStyleModel",
          "model_module_version": "1.5.0",
          "state": {
            "_model_module": "@jupyter-widgets/controls",
            "_model_module_version": "1.5.0",
            "_model_name": "DescriptionStyleModel",
            "_view_count": null,
            "_view_module": "@jupyter-widgets/base",
            "_view_module_version": "1.2.0",
            "_view_name": "StyleView",
            "description_width": ""
          }
        },
        "63fc31e24a58457eb39e05e507efb826": {
          "model_module": "@jupyter-widgets/controls",
          "model_name": "HBoxModel",
          "model_module_version": "1.5.0",
          "state": {
            "_dom_classes": [],
            "_model_module": "@jupyter-widgets/controls",
            "_model_module_version": "1.5.0",
            "_model_name": "HBoxModel",
            "_view_count": null,
            "_view_module": "@jupyter-widgets/controls",
            "_view_module_version": "1.5.0",
            "_view_name": "HBoxView",
            "box_style": "",
            "children": [
              "IPY_MODEL_d53966ada50e4464a36fdebad83d09d7",
              "IPY_MODEL_2a1a32d4ee40438dae5ff1752ab84f38",
              "IPY_MODEL_2ca60b957a3f499a860989ca157d571a"
            ],
            "layout": "IPY_MODEL_bfa0d6d4a0594dd2879900d0cdfee9e8"
          }
        },
        "d53966ada50e4464a36fdebad83d09d7": {
          "model_module": "@jupyter-widgets/controls",
          "model_name": "HTMLModel",
          "model_module_version": "1.5.0",
          "state": {
            "_dom_classes": [],
            "_model_module": "@jupyter-widgets/controls",
            "_model_module_version": "1.5.0",
            "_model_name": "HTMLModel",
            "_view_count": null,
            "_view_module": "@jupyter-widgets/controls",
            "_view_module_version": "1.5.0",
            "_view_name": "HTMLView",
            "description": "",
            "description_tooltip": null,
            "layout": "IPY_MODEL_96fdc00126674092a61ee144da9b47cd",
            "placeholder": "​",
            "style": "IPY_MODEL_31bd69b709db4dd988793f79185af7d9",
            "value": "Batches: 100%"
          }
        },
        "2a1a32d4ee40438dae5ff1752ab84f38": {
          "model_module": "@jupyter-widgets/controls",
          "model_name": "FloatProgressModel",
          "model_module_version": "1.5.0",
          "state": {
            "_dom_classes": [],
            "_model_module": "@jupyter-widgets/controls",
            "_model_module_version": "1.5.0",
            "_model_name": "FloatProgressModel",
            "_view_count": null,
            "_view_module": "@jupyter-widgets/controls",
            "_view_module_version": "1.5.0",
            "_view_name": "ProgressView",
            "bar_style": "success",
            "description": "",
            "description_tooltip": null,
            "layout": "IPY_MODEL_98bafbf8e2c34c9c85d8a9e63f15638d",
            "max": 87,
            "min": 0,
            "orientation": "horizontal",
            "style": "IPY_MODEL_1a7ad48f37bf4b45b15e887b60a4c694",
            "value": 87
          }
        },
        "2ca60b957a3f499a860989ca157d571a": {
          "model_module": "@jupyter-widgets/controls",
          "model_name": "HTMLModel",
          "model_module_version": "1.5.0",
          "state": {
            "_dom_classes": [],
            "_model_module": "@jupyter-widgets/controls",
            "_model_module_version": "1.5.0",
            "_model_name": "HTMLModel",
            "_view_count": null,
            "_view_module": "@jupyter-widgets/controls",
            "_view_module_version": "1.5.0",
            "_view_name": "HTMLView",
            "description": "",
            "description_tooltip": null,
            "layout": "IPY_MODEL_e4cef64694804902b3cfd3da3aca8a7e",
            "placeholder": "​",
            "style": "IPY_MODEL_885e375e409f4977ba3f7a38d2303ca6",
            "value": " 87/87 [00:42&lt;00:00,  3.76it/s]"
          }
        },
        "bfa0d6d4a0594dd2879900d0cdfee9e8": {
          "model_module": "@jupyter-widgets/base",
          "model_name": "LayoutModel",
          "model_module_version": "1.2.0",
          "state": {
            "_model_module": "@jupyter-widgets/base",
            "_model_module_version": "1.2.0",
            "_model_name": "LayoutModel",
            "_view_count": null,
            "_view_module": "@jupyter-widgets/base",
            "_view_module_version": "1.2.0",
            "_view_name": "LayoutView",
            "align_content": null,
            "align_items": null,
            "align_self": null,
            "border": null,
            "bottom": null,
            "display": null,
            "flex": null,
            "flex_flow": null,
            "grid_area": null,
            "grid_auto_columns": null,
            "grid_auto_flow": null,
            "grid_auto_rows": null,
            "grid_column": null,
            "grid_gap": null,
            "grid_row": null,
            "grid_template_areas": null,
            "grid_template_columns": null,
            "grid_template_rows": null,
            "height": null,
            "justify_content": null,
            "justify_items": null,
            "left": null,
            "margin": null,
            "max_height": null,
            "max_width": null,
            "min_height": null,
            "min_width": null,
            "object_fit": null,
            "object_position": null,
            "order": null,
            "overflow": null,
            "overflow_x": null,
            "overflow_y": null,
            "padding": null,
            "right": null,
            "top": null,
            "visibility": null,
            "width": null
          }
        },
        "96fdc00126674092a61ee144da9b47cd": {
          "model_module": "@jupyter-widgets/base",
          "model_name": "LayoutModel",
          "model_module_version": "1.2.0",
          "state": {
            "_model_module": "@jupyter-widgets/base",
            "_model_module_version": "1.2.0",
            "_model_name": "LayoutModel",
            "_view_count": null,
            "_view_module": "@jupyter-widgets/base",
            "_view_module_version": "1.2.0",
            "_view_name": "LayoutView",
            "align_content": null,
            "align_items": null,
            "align_self": null,
            "border": null,
            "bottom": null,
            "display": null,
            "flex": null,
            "flex_flow": null,
            "grid_area": null,
            "grid_auto_columns": null,
            "grid_auto_flow": null,
            "grid_auto_rows": null,
            "grid_column": null,
            "grid_gap": null,
            "grid_row": null,
            "grid_template_areas": null,
            "grid_template_columns": null,
            "grid_template_rows": null,
            "height": null,
            "justify_content": null,
            "justify_items": null,
            "left": null,
            "margin": null,
            "max_height": null,
            "max_width": null,
            "min_height": null,
            "min_width": null,
            "object_fit": null,
            "object_position": null,
            "order": null,
            "overflow": null,
            "overflow_x": null,
            "overflow_y": null,
            "padding": null,
            "right": null,
            "top": null,
            "visibility": null,
            "width": null
          }
        },
        "31bd69b709db4dd988793f79185af7d9": {
          "model_module": "@jupyter-widgets/controls",
          "model_name": "DescriptionStyleModel",
          "model_module_version": "1.5.0",
          "state": {
            "_model_module": "@jupyter-widgets/controls",
            "_model_module_version": "1.5.0",
            "_model_name": "DescriptionStyleModel",
            "_view_count": null,
            "_view_module": "@jupyter-widgets/base",
            "_view_module_version": "1.2.0",
            "_view_name": "StyleView",
            "description_width": ""
          }
        },
        "98bafbf8e2c34c9c85d8a9e63f15638d": {
          "model_module": "@jupyter-widgets/base",
          "model_name": "LayoutModel",
          "model_module_version": "1.2.0",
          "state": {
            "_model_module": "@jupyter-widgets/base",
            "_model_module_version": "1.2.0",
            "_model_name": "LayoutModel",
            "_view_count": null,
            "_view_module": "@jupyter-widgets/base",
            "_view_module_version": "1.2.0",
            "_view_name": "LayoutView",
            "align_content": null,
            "align_items": null,
            "align_self": null,
            "border": null,
            "bottom": null,
            "display": null,
            "flex": null,
            "flex_flow": null,
            "grid_area": null,
            "grid_auto_columns": null,
            "grid_auto_flow": null,
            "grid_auto_rows": null,
            "grid_column": null,
            "grid_gap": null,
            "grid_row": null,
            "grid_template_areas": null,
            "grid_template_columns": null,
            "grid_template_rows": null,
            "height": null,
            "justify_content": null,
            "justify_items": null,
            "left": null,
            "margin": null,
            "max_height": null,
            "max_width": null,
            "min_height": null,
            "min_width": null,
            "object_fit": null,
            "object_position": null,
            "order": null,
            "overflow": null,
            "overflow_x": null,
            "overflow_y": null,
            "padding": null,
            "right": null,
            "top": null,
            "visibility": null,
            "width": null
          }
        },
        "1a7ad48f37bf4b45b15e887b60a4c694": {
          "model_module": "@jupyter-widgets/controls",
          "model_name": "ProgressStyleModel",
          "model_module_version": "1.5.0",
          "state": {
            "_model_module": "@jupyter-widgets/controls",
            "_model_module_version": "1.5.0",
            "_model_name": "ProgressStyleModel",
            "_view_count": null,
            "_view_module": "@jupyter-widgets/base",
            "_view_module_version": "1.2.0",
            "_view_name": "StyleView",
            "bar_color": null,
            "description_width": ""
          }
        },
        "e4cef64694804902b3cfd3da3aca8a7e": {
          "model_module": "@jupyter-widgets/base",
          "model_name": "LayoutModel",
          "model_module_version": "1.2.0",
          "state": {
            "_model_module": "@jupyter-widgets/base",
            "_model_module_version": "1.2.0",
            "_model_name": "LayoutModel",
            "_view_count": null,
            "_view_module": "@jupyter-widgets/base",
            "_view_module_version": "1.2.0",
            "_view_name": "LayoutView",
            "align_content": null,
            "align_items": null,
            "align_self": null,
            "border": null,
            "bottom": null,
            "display": null,
            "flex": null,
            "flex_flow": null,
            "grid_area": null,
            "grid_auto_columns": null,
            "grid_auto_flow": null,
            "grid_auto_rows": null,
            "grid_column": null,
            "grid_gap": null,
            "grid_row": null,
            "grid_template_areas": null,
            "grid_template_columns": null,
            "grid_template_rows": null,
            "height": null,
            "justify_content": null,
            "justify_items": null,
            "left": null,
            "margin": null,
            "max_height": null,
            "max_width": null,
            "min_height": null,
            "min_width": null,
            "object_fit": null,
            "object_position": null,
            "order": null,
            "overflow": null,
            "overflow_x": null,
            "overflow_y": null,
            "padding": null,
            "right": null,
            "top": null,
            "visibility": null,
            "width": null
          }
        },
        "885e375e409f4977ba3f7a38d2303ca6": {
          "model_module": "@jupyter-widgets/controls",
          "model_name": "DescriptionStyleModel",
          "model_module_version": "1.5.0",
          "state": {
            "_model_module": "@jupyter-widgets/controls",
            "_model_module_version": "1.5.0",
            "_model_name": "DescriptionStyleModel",
            "_view_count": null,
            "_view_module": "@jupyter-widgets/base",
            "_view_module_version": "1.2.0",
            "_view_name": "StyleView",
            "description_width": ""
          }
        },
        "efc03f784bfd4815a0a3fb3e78303021": {
          "model_module": "@jupyter-widgets/controls",
          "model_name": "HBoxModel",
          "model_module_version": "1.5.0",
          "state": {
            "_dom_classes": [],
            "_model_module": "@jupyter-widgets/controls",
            "_model_module_version": "1.5.0",
            "_model_name": "HBoxModel",
            "_view_count": null,
            "_view_module": "@jupyter-widgets/controls",
            "_view_module_version": "1.5.0",
            "_view_name": "HBoxView",
            "box_style": "",
            "children": [
              "IPY_MODEL_ccb241d62ab144099dd68d12d6c00115",
              "IPY_MODEL_7afbfa819e844a469267fb7aa05554c5",
              "IPY_MODEL_0d0b391211b84519a0498215cefc0093"
            ],
            "layout": "IPY_MODEL_dfe9407327294992ba4e6c6f7f6a1eb0"
          }
        },
        "ccb241d62ab144099dd68d12d6c00115": {
          "model_module": "@jupyter-widgets/controls",
          "model_name": "HTMLModel",
          "model_module_version": "1.5.0",
          "state": {
            "_dom_classes": [],
            "_model_module": "@jupyter-widgets/controls",
            "_model_module_version": "1.5.0",
            "_model_name": "HTMLModel",
            "_view_count": null,
            "_view_module": "@jupyter-widgets/controls",
            "_view_module_version": "1.5.0",
            "_view_name": "HTMLView",
            "description": "",
            "description_tooltip": null,
            "layout": "IPY_MODEL_5c37563c70cb4bb694b66b42a2f348ea",
            "placeholder": "​",
            "style": "IPY_MODEL_e123240cd5984462aab9f49c74aa1927",
            "value": "Batches: 100%"
          }
        },
        "7afbfa819e844a469267fb7aa05554c5": {
          "model_module": "@jupyter-widgets/controls",
          "model_name": "FloatProgressModel",
          "model_module_version": "1.5.0",
          "state": {
            "_dom_classes": [],
            "_model_module": "@jupyter-widgets/controls",
            "_model_module_version": "1.5.0",
            "_model_name": "FloatProgressModel",
            "_view_count": null,
            "_view_module": "@jupyter-widgets/controls",
            "_view_module_version": "1.5.0",
            "_view_name": "ProgressView",
            "bar_style": "success",
            "description": "",
            "description_tooltip": null,
            "layout": "IPY_MODEL_5288b720a67d4bc985b2a4539af44d42",
            "max": 87,
            "min": 0,
            "orientation": "horizontal",
            "style": "IPY_MODEL_2f5647d841a14af7afc4b175b2f79ef8",
            "value": 87
          }
        },
        "0d0b391211b84519a0498215cefc0093": {
          "model_module": "@jupyter-widgets/controls",
          "model_name": "HTMLModel",
          "model_module_version": "1.5.0",
          "state": {
            "_dom_classes": [],
            "_model_module": "@jupyter-widgets/controls",
            "_model_module_version": "1.5.0",
            "_model_name": "HTMLModel",
            "_view_count": null,
            "_view_module": "@jupyter-widgets/controls",
            "_view_module_version": "1.5.0",
            "_view_name": "HTMLView",
            "description": "",
            "description_tooltip": null,
            "layout": "IPY_MODEL_3a24792f1ffe4a60a00e5f2ebc0323db",
            "placeholder": "​",
            "style": "IPY_MODEL_bd313850ed0d477cb9ff762686e19b8c",
            "value": " 87/87 [00:40&lt;00:00,  3.88it/s]"
          }
        },
        "dfe9407327294992ba4e6c6f7f6a1eb0": {
          "model_module": "@jupyter-widgets/base",
          "model_name": "LayoutModel",
          "model_module_version": "1.2.0",
          "state": {
            "_model_module": "@jupyter-widgets/base",
            "_model_module_version": "1.2.0",
            "_model_name": "LayoutModel",
            "_view_count": null,
            "_view_module": "@jupyter-widgets/base",
            "_view_module_version": "1.2.0",
            "_view_name": "LayoutView",
            "align_content": null,
            "align_items": null,
            "align_self": null,
            "border": null,
            "bottom": null,
            "display": null,
            "flex": null,
            "flex_flow": null,
            "grid_area": null,
            "grid_auto_columns": null,
            "grid_auto_flow": null,
            "grid_auto_rows": null,
            "grid_column": null,
            "grid_gap": null,
            "grid_row": null,
            "grid_template_areas": null,
            "grid_template_columns": null,
            "grid_template_rows": null,
            "height": null,
            "justify_content": null,
            "justify_items": null,
            "left": null,
            "margin": null,
            "max_height": null,
            "max_width": null,
            "min_height": null,
            "min_width": null,
            "object_fit": null,
            "object_position": null,
            "order": null,
            "overflow": null,
            "overflow_x": null,
            "overflow_y": null,
            "padding": null,
            "right": null,
            "top": null,
            "visibility": null,
            "width": null
          }
        },
        "5c37563c70cb4bb694b66b42a2f348ea": {
          "model_module": "@jupyter-widgets/base",
          "model_name": "LayoutModel",
          "model_module_version": "1.2.0",
          "state": {
            "_model_module": "@jupyter-widgets/base",
            "_model_module_version": "1.2.0",
            "_model_name": "LayoutModel",
            "_view_count": null,
            "_view_module": "@jupyter-widgets/base",
            "_view_module_version": "1.2.0",
            "_view_name": "LayoutView",
            "align_content": null,
            "align_items": null,
            "align_self": null,
            "border": null,
            "bottom": null,
            "display": null,
            "flex": null,
            "flex_flow": null,
            "grid_area": null,
            "grid_auto_columns": null,
            "grid_auto_flow": null,
            "grid_auto_rows": null,
            "grid_column": null,
            "grid_gap": null,
            "grid_row": null,
            "grid_template_areas": null,
            "grid_template_columns": null,
            "grid_template_rows": null,
            "height": null,
            "justify_content": null,
            "justify_items": null,
            "left": null,
            "margin": null,
            "max_height": null,
            "max_width": null,
            "min_height": null,
            "min_width": null,
            "object_fit": null,
            "object_position": null,
            "order": null,
            "overflow": null,
            "overflow_x": null,
            "overflow_y": null,
            "padding": null,
            "right": null,
            "top": null,
            "visibility": null,
            "width": null
          }
        },
        "e123240cd5984462aab9f49c74aa1927": {
          "model_module": "@jupyter-widgets/controls",
          "model_name": "DescriptionStyleModel",
          "model_module_version": "1.5.0",
          "state": {
            "_model_module": "@jupyter-widgets/controls",
            "_model_module_version": "1.5.0",
            "_model_name": "DescriptionStyleModel",
            "_view_count": null,
            "_view_module": "@jupyter-widgets/base",
            "_view_module_version": "1.2.0",
            "_view_name": "StyleView",
            "description_width": ""
          }
        },
        "5288b720a67d4bc985b2a4539af44d42": {
          "model_module": "@jupyter-widgets/base",
          "model_name": "LayoutModel",
          "model_module_version": "1.2.0",
          "state": {
            "_model_module": "@jupyter-widgets/base",
            "_model_module_version": "1.2.0",
            "_model_name": "LayoutModel",
            "_view_count": null,
            "_view_module": "@jupyter-widgets/base",
            "_view_module_version": "1.2.0",
            "_view_name": "LayoutView",
            "align_content": null,
            "align_items": null,
            "align_self": null,
            "border": null,
            "bottom": null,
            "display": null,
            "flex": null,
            "flex_flow": null,
            "grid_area": null,
            "grid_auto_columns": null,
            "grid_auto_flow": null,
            "grid_auto_rows": null,
            "grid_column": null,
            "grid_gap": null,
            "grid_row": null,
            "grid_template_areas": null,
            "grid_template_columns": null,
            "grid_template_rows": null,
            "height": null,
            "justify_content": null,
            "justify_items": null,
            "left": null,
            "margin": null,
            "max_height": null,
            "max_width": null,
            "min_height": null,
            "min_width": null,
            "object_fit": null,
            "object_position": null,
            "order": null,
            "overflow": null,
            "overflow_x": null,
            "overflow_y": null,
            "padding": null,
            "right": null,
            "top": null,
            "visibility": null,
            "width": null
          }
        },
        "2f5647d841a14af7afc4b175b2f79ef8": {
          "model_module": "@jupyter-widgets/controls",
          "model_name": "ProgressStyleModel",
          "model_module_version": "1.5.0",
          "state": {
            "_model_module": "@jupyter-widgets/controls",
            "_model_module_version": "1.5.0",
            "_model_name": "ProgressStyleModel",
            "_view_count": null,
            "_view_module": "@jupyter-widgets/base",
            "_view_module_version": "1.2.0",
            "_view_name": "StyleView",
            "bar_color": null,
            "description_width": ""
          }
        },
        "3a24792f1ffe4a60a00e5f2ebc0323db": {
          "model_module": "@jupyter-widgets/base",
          "model_name": "LayoutModel",
          "model_module_version": "1.2.0",
          "state": {
            "_model_module": "@jupyter-widgets/base",
            "_model_module_version": "1.2.0",
            "_model_name": "LayoutModel",
            "_view_count": null,
            "_view_module": "@jupyter-widgets/base",
            "_view_module_version": "1.2.0",
            "_view_name": "LayoutView",
            "align_content": null,
            "align_items": null,
            "align_self": null,
            "border": null,
            "bottom": null,
            "display": null,
            "flex": null,
            "flex_flow": null,
            "grid_area": null,
            "grid_auto_columns": null,
            "grid_auto_flow": null,
            "grid_auto_rows": null,
            "grid_column": null,
            "grid_gap": null,
            "grid_row": null,
            "grid_template_areas": null,
            "grid_template_columns": null,
            "grid_template_rows": null,
            "height": null,
            "justify_content": null,
            "justify_items": null,
            "left": null,
            "margin": null,
            "max_height": null,
            "max_width": null,
            "min_height": null,
            "min_width": null,
            "object_fit": null,
            "object_position": null,
            "order": null,
            "overflow": null,
            "overflow_x": null,
            "overflow_y": null,
            "padding": null,
            "right": null,
            "top": null,
            "visibility": null,
            "width": null
          }
        },
        "bd313850ed0d477cb9ff762686e19b8c": {
          "model_module": "@jupyter-widgets/controls",
          "model_name": "DescriptionStyleModel",
          "model_module_version": "1.5.0",
          "state": {
            "_model_module": "@jupyter-widgets/controls",
            "_model_module_version": "1.5.0",
            "_model_name": "DescriptionStyleModel",
            "_view_count": null,
            "_view_module": "@jupyter-widgets/base",
            "_view_module_version": "1.2.0",
            "_view_name": "StyleView",
            "description_width": ""
          }
        },
        "47025b48dc414f21888ef7339b9bc96a": {
          "model_module": "@jupyter-widgets/controls",
          "model_name": "HBoxModel",
          "model_module_version": "1.5.0",
          "state": {
            "_dom_classes": [],
            "_model_module": "@jupyter-widgets/controls",
            "_model_module_version": "1.5.0",
            "_model_name": "HBoxModel",
            "_view_count": null,
            "_view_module": "@jupyter-widgets/controls",
            "_view_module_version": "1.5.0",
            "_view_name": "HBoxView",
            "box_style": "",
            "children": [
              "IPY_MODEL_7742a286bf3d43f08d9c72a4d6fb1b26",
              "IPY_MODEL_9c95cfd24c9c499ea7a4649bbc9b6f58",
              "IPY_MODEL_2c621e579ae04597975d8160dcb9f018"
            ],
            "layout": "IPY_MODEL_92b8fdc1573041858e28614fbcfa21b3"
          }
        },
        "7742a286bf3d43f08d9c72a4d6fb1b26": {
          "model_module": "@jupyter-widgets/controls",
          "model_name": "HTMLModel",
          "model_module_version": "1.5.0",
          "state": {
            "_dom_classes": [],
            "_model_module": "@jupyter-widgets/controls",
            "_model_module_version": "1.5.0",
            "_model_name": "HTMLModel",
            "_view_count": null,
            "_view_module": "@jupyter-widgets/controls",
            "_view_module_version": "1.5.0",
            "_view_name": "HTMLView",
            "description": "",
            "description_tooltip": null,
            "layout": "IPY_MODEL_2e431747d64040b382483a1c2ce581f4",
            "placeholder": "​",
            "style": "IPY_MODEL_43ff838e21464e7bbf900a17ee969eab",
            "value": "Batches: 100%"
          }
        },
        "9c95cfd24c9c499ea7a4649bbc9b6f58": {
          "model_module": "@jupyter-widgets/controls",
          "model_name": "FloatProgressModel",
          "model_module_version": "1.5.0",
          "state": {
            "_dom_classes": [],
            "_model_module": "@jupyter-widgets/controls",
            "_model_module_version": "1.5.0",
            "_model_name": "FloatProgressModel",
            "_view_count": null,
            "_view_module": "@jupyter-widgets/controls",
            "_view_module_version": "1.5.0",
            "_view_name": "ProgressView",
            "bar_style": "success",
            "description": "",
            "description_tooltip": null,
            "layout": "IPY_MODEL_a1212b2da7cb4a79ac4b42e6ed86b96e",
            "max": 87,
            "min": 0,
            "orientation": "horizontal",
            "style": "IPY_MODEL_ef1a9b8f30584384aebd6e3f7c003449",
            "value": 87
          }
        },
        "2c621e579ae04597975d8160dcb9f018": {
          "model_module": "@jupyter-widgets/controls",
          "model_name": "HTMLModel",
          "model_module_version": "1.5.0",
          "state": {
            "_dom_classes": [],
            "_model_module": "@jupyter-widgets/controls",
            "_model_module_version": "1.5.0",
            "_model_name": "HTMLModel",
            "_view_count": null,
            "_view_module": "@jupyter-widgets/controls",
            "_view_module_version": "1.5.0",
            "_view_name": "HTMLView",
            "description": "",
            "description_tooltip": null,
            "layout": "IPY_MODEL_a1d5527a52ec475bbe08091cb18a4fb6",
            "placeholder": "​",
            "style": "IPY_MODEL_9d2d15346c9b4e6685c640efa45f78e1",
            "value": " 87/87 [00:47&lt;00:00,  2.83it/s]"
          }
        },
        "92b8fdc1573041858e28614fbcfa21b3": {
          "model_module": "@jupyter-widgets/base",
          "model_name": "LayoutModel",
          "model_module_version": "1.2.0",
          "state": {
            "_model_module": "@jupyter-widgets/base",
            "_model_module_version": "1.2.0",
            "_model_name": "LayoutModel",
            "_view_count": null,
            "_view_module": "@jupyter-widgets/base",
            "_view_module_version": "1.2.0",
            "_view_name": "LayoutView",
            "align_content": null,
            "align_items": null,
            "align_self": null,
            "border": null,
            "bottom": null,
            "display": null,
            "flex": null,
            "flex_flow": null,
            "grid_area": null,
            "grid_auto_columns": null,
            "grid_auto_flow": null,
            "grid_auto_rows": null,
            "grid_column": null,
            "grid_gap": null,
            "grid_row": null,
            "grid_template_areas": null,
            "grid_template_columns": null,
            "grid_template_rows": null,
            "height": null,
            "justify_content": null,
            "justify_items": null,
            "left": null,
            "margin": null,
            "max_height": null,
            "max_width": null,
            "min_height": null,
            "min_width": null,
            "object_fit": null,
            "object_position": null,
            "order": null,
            "overflow": null,
            "overflow_x": null,
            "overflow_y": null,
            "padding": null,
            "right": null,
            "top": null,
            "visibility": null,
            "width": null
          }
        },
        "2e431747d64040b382483a1c2ce581f4": {
          "model_module": "@jupyter-widgets/base",
          "model_name": "LayoutModel",
          "model_module_version": "1.2.0",
          "state": {
            "_model_module": "@jupyter-widgets/base",
            "_model_module_version": "1.2.0",
            "_model_name": "LayoutModel",
            "_view_count": null,
            "_view_module": "@jupyter-widgets/base",
            "_view_module_version": "1.2.0",
            "_view_name": "LayoutView",
            "align_content": null,
            "align_items": null,
            "align_self": null,
            "border": null,
            "bottom": null,
            "display": null,
            "flex": null,
            "flex_flow": null,
            "grid_area": null,
            "grid_auto_columns": null,
            "grid_auto_flow": null,
            "grid_auto_rows": null,
            "grid_column": null,
            "grid_gap": null,
            "grid_row": null,
            "grid_template_areas": null,
            "grid_template_columns": null,
            "grid_template_rows": null,
            "height": null,
            "justify_content": null,
            "justify_items": null,
            "left": null,
            "margin": null,
            "max_height": null,
            "max_width": null,
            "min_height": null,
            "min_width": null,
            "object_fit": null,
            "object_position": null,
            "order": null,
            "overflow": null,
            "overflow_x": null,
            "overflow_y": null,
            "padding": null,
            "right": null,
            "top": null,
            "visibility": null,
            "width": null
          }
        },
        "43ff838e21464e7bbf900a17ee969eab": {
          "model_module": "@jupyter-widgets/controls",
          "model_name": "DescriptionStyleModel",
          "model_module_version": "1.5.0",
          "state": {
            "_model_module": "@jupyter-widgets/controls",
            "_model_module_version": "1.5.0",
            "_model_name": "DescriptionStyleModel",
            "_view_count": null,
            "_view_module": "@jupyter-widgets/base",
            "_view_module_version": "1.2.0",
            "_view_name": "StyleView",
            "description_width": ""
          }
        },
        "a1212b2da7cb4a79ac4b42e6ed86b96e": {
          "model_module": "@jupyter-widgets/base",
          "model_name": "LayoutModel",
          "model_module_version": "1.2.0",
          "state": {
            "_model_module": "@jupyter-widgets/base",
            "_model_module_version": "1.2.0",
            "_model_name": "LayoutModel",
            "_view_count": null,
            "_view_module": "@jupyter-widgets/base",
            "_view_module_version": "1.2.0",
            "_view_name": "LayoutView",
            "align_content": null,
            "align_items": null,
            "align_self": null,
            "border": null,
            "bottom": null,
            "display": null,
            "flex": null,
            "flex_flow": null,
            "grid_area": null,
            "grid_auto_columns": null,
            "grid_auto_flow": null,
            "grid_auto_rows": null,
            "grid_column": null,
            "grid_gap": null,
            "grid_row": null,
            "grid_template_areas": null,
            "grid_template_columns": null,
            "grid_template_rows": null,
            "height": null,
            "justify_content": null,
            "justify_items": null,
            "left": null,
            "margin": null,
            "max_height": null,
            "max_width": null,
            "min_height": null,
            "min_width": null,
            "object_fit": null,
            "object_position": null,
            "order": null,
            "overflow": null,
            "overflow_x": null,
            "overflow_y": null,
            "padding": null,
            "right": null,
            "top": null,
            "visibility": null,
            "width": null
          }
        },
        "ef1a9b8f30584384aebd6e3f7c003449": {
          "model_module": "@jupyter-widgets/controls",
          "model_name": "ProgressStyleModel",
          "model_module_version": "1.5.0",
          "state": {
            "_model_module": "@jupyter-widgets/controls",
            "_model_module_version": "1.5.0",
            "_model_name": "ProgressStyleModel",
            "_view_count": null,
            "_view_module": "@jupyter-widgets/base",
            "_view_module_version": "1.2.0",
            "_view_name": "StyleView",
            "bar_color": null,
            "description_width": ""
          }
        },
        "a1d5527a52ec475bbe08091cb18a4fb6": {
          "model_module": "@jupyter-widgets/base",
          "model_name": "LayoutModel",
          "model_module_version": "1.2.0",
          "state": {
            "_model_module": "@jupyter-widgets/base",
            "_model_module_version": "1.2.0",
            "_model_name": "LayoutModel",
            "_view_count": null,
            "_view_module": "@jupyter-widgets/base",
            "_view_module_version": "1.2.0",
            "_view_name": "LayoutView",
            "align_content": null,
            "align_items": null,
            "align_self": null,
            "border": null,
            "bottom": null,
            "display": null,
            "flex": null,
            "flex_flow": null,
            "grid_area": null,
            "grid_auto_columns": null,
            "grid_auto_flow": null,
            "grid_auto_rows": null,
            "grid_column": null,
            "grid_gap": null,
            "grid_row": null,
            "grid_template_areas": null,
            "grid_template_columns": null,
            "grid_template_rows": null,
            "height": null,
            "justify_content": null,
            "justify_items": null,
            "left": null,
            "margin": null,
            "max_height": null,
            "max_width": null,
            "min_height": null,
            "min_width": null,
            "object_fit": null,
            "object_position": null,
            "order": null,
            "overflow": null,
            "overflow_x": null,
            "overflow_y": null,
            "padding": null,
            "right": null,
            "top": null,
            "visibility": null,
            "width": null
          }
        },
        "9d2d15346c9b4e6685c640efa45f78e1": {
          "model_module": "@jupyter-widgets/controls",
          "model_name": "DescriptionStyleModel",
          "model_module_version": "1.5.0",
          "state": {
            "_model_module": "@jupyter-widgets/controls",
            "_model_module_version": "1.5.0",
            "_model_name": "DescriptionStyleModel",
            "_view_count": null,
            "_view_module": "@jupyter-widgets/base",
            "_view_module_version": "1.2.0",
            "_view_name": "StyleView",
            "description_width": ""
          }
        },
        "6d9cb493595b49959078902fb8084e92": {
          "model_module": "@jupyter-widgets/controls",
          "model_name": "HBoxModel",
          "model_module_version": "1.5.0",
          "state": {
            "_dom_classes": [],
            "_model_module": "@jupyter-widgets/controls",
            "_model_module_version": "1.5.0",
            "_model_name": "HBoxModel",
            "_view_count": null,
            "_view_module": "@jupyter-widgets/controls",
            "_view_module_version": "1.5.0",
            "_view_name": "HBoxView",
            "box_style": "",
            "children": [
              "IPY_MODEL_2054e18dde80487ba9d79042f0bce736",
              "IPY_MODEL_822b3361a8774ca2939cd38f2beae271",
              "IPY_MODEL_bb2cf8f9adec4d688135130ec84535f3"
            ],
            "layout": "IPY_MODEL_804e7c76e1154948afb490928ce0e572"
          }
        },
        "2054e18dde80487ba9d79042f0bce736": {
          "model_module": "@jupyter-widgets/controls",
          "model_name": "HTMLModel",
          "model_module_version": "1.5.0",
          "state": {
            "_dom_classes": [],
            "_model_module": "@jupyter-widgets/controls",
            "_model_module_version": "1.5.0",
            "_model_name": "HTMLModel",
            "_view_count": null,
            "_view_module": "@jupyter-widgets/controls",
            "_view_module_version": "1.5.0",
            "_view_name": "HTMLView",
            "description": "",
            "description_tooltip": null,
            "layout": "IPY_MODEL_0549db1705634c0f9886f16e10b8fa85",
            "placeholder": "​",
            "style": "IPY_MODEL_729ea7e70c2e4f77a836cd22e6814367",
            "value": "Batches: 100%"
          }
        },
        "822b3361a8774ca2939cd38f2beae271": {
          "model_module": "@jupyter-widgets/controls",
          "model_name": "FloatProgressModel",
          "model_module_version": "1.5.0",
          "state": {
            "_dom_classes": [],
            "_model_module": "@jupyter-widgets/controls",
            "_model_module_version": "1.5.0",
            "_model_name": "FloatProgressModel",
            "_view_count": null,
            "_view_module": "@jupyter-widgets/controls",
            "_view_module_version": "1.5.0",
            "_view_name": "ProgressView",
            "bar_style": "success",
            "description": "",
            "description_tooltip": null,
            "layout": "IPY_MODEL_6e6ba863236e4d1cb9558189a2b3ab09",
            "max": 87,
            "min": 0,
            "orientation": "horizontal",
            "style": "IPY_MODEL_811b21b70d764ae2a893a84fc71280d7",
            "value": 87
          }
        },
        "bb2cf8f9adec4d688135130ec84535f3": {
          "model_module": "@jupyter-widgets/controls",
          "model_name": "HTMLModel",
          "model_module_version": "1.5.0",
          "state": {
            "_dom_classes": [],
            "_model_module": "@jupyter-widgets/controls",
            "_model_module_version": "1.5.0",
            "_model_name": "HTMLModel",
            "_view_count": null,
            "_view_module": "@jupyter-widgets/controls",
            "_view_module_version": "1.5.0",
            "_view_name": "HTMLView",
            "description": "",
            "description_tooltip": null,
            "layout": "IPY_MODEL_750909d934e34632995859da8bbf33ae",
            "placeholder": "​",
            "style": "IPY_MODEL_2c288da82dcd450480a4816f6dae8ca0",
            "value": " 87/87 [00:42&lt;00:00,  3.52it/s]"
          }
        },
        "804e7c76e1154948afb490928ce0e572": {
          "model_module": "@jupyter-widgets/base",
          "model_name": "LayoutModel",
          "model_module_version": "1.2.0",
          "state": {
            "_model_module": "@jupyter-widgets/base",
            "_model_module_version": "1.2.0",
            "_model_name": "LayoutModel",
            "_view_count": null,
            "_view_module": "@jupyter-widgets/base",
            "_view_module_version": "1.2.0",
            "_view_name": "LayoutView",
            "align_content": null,
            "align_items": null,
            "align_self": null,
            "border": null,
            "bottom": null,
            "display": null,
            "flex": null,
            "flex_flow": null,
            "grid_area": null,
            "grid_auto_columns": null,
            "grid_auto_flow": null,
            "grid_auto_rows": null,
            "grid_column": null,
            "grid_gap": null,
            "grid_row": null,
            "grid_template_areas": null,
            "grid_template_columns": null,
            "grid_template_rows": null,
            "height": null,
            "justify_content": null,
            "justify_items": null,
            "left": null,
            "margin": null,
            "max_height": null,
            "max_width": null,
            "min_height": null,
            "min_width": null,
            "object_fit": null,
            "object_position": null,
            "order": null,
            "overflow": null,
            "overflow_x": null,
            "overflow_y": null,
            "padding": null,
            "right": null,
            "top": null,
            "visibility": null,
            "width": null
          }
        },
        "0549db1705634c0f9886f16e10b8fa85": {
          "model_module": "@jupyter-widgets/base",
          "model_name": "LayoutModel",
          "model_module_version": "1.2.0",
          "state": {
            "_model_module": "@jupyter-widgets/base",
            "_model_module_version": "1.2.0",
            "_model_name": "LayoutModel",
            "_view_count": null,
            "_view_module": "@jupyter-widgets/base",
            "_view_module_version": "1.2.0",
            "_view_name": "LayoutView",
            "align_content": null,
            "align_items": null,
            "align_self": null,
            "border": null,
            "bottom": null,
            "display": null,
            "flex": null,
            "flex_flow": null,
            "grid_area": null,
            "grid_auto_columns": null,
            "grid_auto_flow": null,
            "grid_auto_rows": null,
            "grid_column": null,
            "grid_gap": null,
            "grid_row": null,
            "grid_template_areas": null,
            "grid_template_columns": null,
            "grid_template_rows": null,
            "height": null,
            "justify_content": null,
            "justify_items": null,
            "left": null,
            "margin": null,
            "max_height": null,
            "max_width": null,
            "min_height": null,
            "min_width": null,
            "object_fit": null,
            "object_position": null,
            "order": null,
            "overflow": null,
            "overflow_x": null,
            "overflow_y": null,
            "padding": null,
            "right": null,
            "top": null,
            "visibility": null,
            "width": null
          }
        },
        "729ea7e70c2e4f77a836cd22e6814367": {
          "model_module": "@jupyter-widgets/controls",
          "model_name": "DescriptionStyleModel",
          "model_module_version": "1.5.0",
          "state": {
            "_model_module": "@jupyter-widgets/controls",
            "_model_module_version": "1.5.0",
            "_model_name": "DescriptionStyleModel",
            "_view_count": null,
            "_view_module": "@jupyter-widgets/base",
            "_view_module_version": "1.2.0",
            "_view_name": "StyleView",
            "description_width": ""
          }
        },
        "6e6ba863236e4d1cb9558189a2b3ab09": {
          "model_module": "@jupyter-widgets/base",
          "model_name": "LayoutModel",
          "model_module_version": "1.2.0",
          "state": {
            "_model_module": "@jupyter-widgets/base",
            "_model_module_version": "1.2.0",
            "_model_name": "LayoutModel",
            "_view_count": null,
            "_view_module": "@jupyter-widgets/base",
            "_view_module_version": "1.2.0",
            "_view_name": "LayoutView",
            "align_content": null,
            "align_items": null,
            "align_self": null,
            "border": null,
            "bottom": null,
            "display": null,
            "flex": null,
            "flex_flow": null,
            "grid_area": null,
            "grid_auto_columns": null,
            "grid_auto_flow": null,
            "grid_auto_rows": null,
            "grid_column": null,
            "grid_gap": null,
            "grid_row": null,
            "grid_template_areas": null,
            "grid_template_columns": null,
            "grid_template_rows": null,
            "height": null,
            "justify_content": null,
            "justify_items": null,
            "left": null,
            "margin": null,
            "max_height": null,
            "max_width": null,
            "min_height": null,
            "min_width": null,
            "object_fit": null,
            "object_position": null,
            "order": null,
            "overflow": null,
            "overflow_x": null,
            "overflow_y": null,
            "padding": null,
            "right": null,
            "top": null,
            "visibility": null,
            "width": null
          }
        },
        "811b21b70d764ae2a893a84fc71280d7": {
          "model_module": "@jupyter-widgets/controls",
          "model_name": "ProgressStyleModel",
          "model_module_version": "1.5.0",
          "state": {
            "_model_module": "@jupyter-widgets/controls",
            "_model_module_version": "1.5.0",
            "_model_name": "ProgressStyleModel",
            "_view_count": null,
            "_view_module": "@jupyter-widgets/base",
            "_view_module_version": "1.2.0",
            "_view_name": "StyleView",
            "bar_color": null,
            "description_width": ""
          }
        },
        "750909d934e34632995859da8bbf33ae": {
          "model_module": "@jupyter-widgets/base",
          "model_name": "LayoutModel",
          "model_module_version": "1.2.0",
          "state": {
            "_model_module": "@jupyter-widgets/base",
            "_model_module_version": "1.2.0",
            "_model_name": "LayoutModel",
            "_view_count": null,
            "_view_module": "@jupyter-widgets/base",
            "_view_module_version": "1.2.0",
            "_view_name": "LayoutView",
            "align_content": null,
            "align_items": null,
            "align_self": null,
            "border": null,
            "bottom": null,
            "display": null,
            "flex": null,
            "flex_flow": null,
            "grid_area": null,
            "grid_auto_columns": null,
            "grid_auto_flow": null,
            "grid_auto_rows": null,
            "grid_column": null,
            "grid_gap": null,
            "grid_row": null,
            "grid_template_areas": null,
            "grid_template_columns": null,
            "grid_template_rows": null,
            "height": null,
            "justify_content": null,
            "justify_items": null,
            "left": null,
            "margin": null,
            "max_height": null,
            "max_width": null,
            "min_height": null,
            "min_width": null,
            "object_fit": null,
            "object_position": null,
            "order": null,
            "overflow": null,
            "overflow_x": null,
            "overflow_y": null,
            "padding": null,
            "right": null,
            "top": null,
            "visibility": null,
            "width": null
          }
        },
        "2c288da82dcd450480a4816f6dae8ca0": {
          "model_module": "@jupyter-widgets/controls",
          "model_name": "DescriptionStyleModel",
          "model_module_version": "1.5.0",
          "state": {
            "_model_module": "@jupyter-widgets/controls",
            "_model_module_version": "1.5.0",
            "_model_name": "DescriptionStyleModel",
            "_view_count": null,
            "_view_module": "@jupyter-widgets/base",
            "_view_module_version": "1.2.0",
            "_view_name": "StyleView",
            "description_width": ""
          }
        }
      }
    }
  },
  "nbformat": 4,
  "nbformat_minor": 5
}